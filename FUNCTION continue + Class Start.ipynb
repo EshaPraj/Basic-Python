{
 "cells": [
  {
   "cell_type": "code",
   "execution_count": 1,
   "id": "42f6a374-2fcb-4251-b970-0921703a9753",
   "metadata": {},
   "outputs": [
    {
     "data": {
      "text/plain": [
       "False"
      ]
     },
     "execution_count": 1,
     "metadata": {},
     "output_type": "execute_result"
    }
   ],
   "source": [
    "#boolean value \n",
    "bool(0)"
   ]
  },
  {
   "cell_type": "code",
   "execution_count": 2,
   "id": "131f2b38-7fec-4a6b-8f8d-66124deb11f9",
   "metadata": {},
   "outputs": [
    {
     "data": {
      "text/plain": [
       "False"
      ]
     },
     "execution_count": 2,
     "metadata": {},
     "output_type": "execute_result"
    }
   ],
   "source": [
    "bool()"
   ]
  },
  {
   "cell_type": "code",
   "execution_count": 3,
   "id": "c9e59791-980b-4006-abca-a9a45c205aab",
   "metadata": {},
   "outputs": [
    {
     "data": {
      "text/plain": [
       "False"
      ]
     },
     "execution_count": 3,
     "metadata": {},
     "output_type": "execute_result"
    }
   ],
   "source": [
    "bool([])"
   ]
  },
  {
   "cell_type": "code",
   "execution_count": 4,
   "id": "e8973e5c-3a51-4b22-8e97-1072e76710c1",
   "metadata": {},
   "outputs": [
    {
     "data": {
      "text/plain": [
       "False"
      ]
     },
     "execution_count": 4,
     "metadata": {},
     "output_type": "execute_result"
    }
   ],
   "source": [
    "bool(False)"
   ]
  },
  {
   "cell_type": "code",
   "execution_count": 5,
   "id": "2fb1d4b0-687c-4727-81c2-473013fc440c",
   "metadata": {},
   "outputs": [
    {
     "data": {
      "text/plain": [
       "False"
      ]
     },
     "execution_count": 5,
     "metadata": {},
     "output_type": "execute_result"
    }
   ],
   "source": [
    "bool(\"\")"
   ]
  },
  {
   "cell_type": "code",
   "execution_count": 6,
   "id": "f3466134-d53f-4859-89d9-33ef73dacd64",
   "metadata": {},
   "outputs": [],
   "source": [
    "# 0, 0.0, ' ', None, [], (), {}, set(), False => boolean value / Truthness is False"
   ]
  },
  {
   "cell_type": "code",
   "execution_count": 7,
   "id": "df334c72-cd5d-48d3-90cd-5dcb0687ebef",
   "metadata": {},
   "outputs": [
    {
     "data": {
      "text/plain": [
       "True"
      ]
     },
     "execution_count": 7,
     "metadata": {},
     "output_type": "execute_result"
    }
   ],
   "source": [
    "bool('0.0')"
   ]
  },
  {
   "cell_type": "code",
   "execution_count": 8,
   "id": "a798a1d1-853b-4de1-920e-fef34f26a403",
   "metadata": {},
   "outputs": [
    {
     "data": {
      "text/plain": [
       "False"
      ]
     },
     "execution_count": 8,
     "metadata": {},
     "output_type": "execute_result"
    }
   ],
   "source": [
    "any([0, '', None, [], (), {}, set(), False])"
   ]
  },
  {
   "cell_type": "code",
   "execution_count": 9,
   "id": "9f9eee9b-c71e-49c0-a6c2-8a389f6db13a",
   "metadata": {},
   "outputs": [
    {
     "data": {
      "text/plain": [
       "True"
      ]
     },
     "execution_count": 9,
     "metadata": {},
     "output_type": "execute_result"
    }
   ],
   "source": [
    "any([0, '', None, [], (), {}, set(), False, -1])"
   ]
  },
  {
   "cell_type": "code",
   "execution_count": 11,
   "id": "149b5d9a-21df-43b4-b12b-ed6c78638487",
   "metadata": {},
   "outputs": [
    {
     "data": {
      "text/plain": [
       "False"
      ]
     },
     "execution_count": 11,
     "metadata": {},
     "output_type": "execute_result"
    }
   ],
   "source": [
    "all([0, '', None, [], {}, (), {}, set(), False])"
   ]
  },
  {
   "cell_type": "code",
   "execution_count": 12,
   "id": "fe583132-9339-4da0-92fa-a4914de2ee62",
   "metadata": {},
   "outputs": [
    {
     "data": {
      "text/plain": [
       "True"
      ]
     },
     "execution_count": 12,
     "metadata": {},
     "output_type": "execute_result"
    }
   ],
   "source": [
    "all([1, True, 'hello'])"
   ]
  },
  {
   "cell_type": "code",
   "execution_count": 13,
   "id": "d2c38a6e-f640-4e77-b965-6c25d9e69a92",
   "metadata": {},
   "outputs": [
    {
     "name": "stdout",
     "output_type": "stream",
     "text": [
      "Help on class filter in module builtins:\n",
      "\n",
      "class filter(object)\n",
      " |  filter(function or None, iterable) --> filter object\n",
      " |\n",
      " |  Return an iterator yielding those items of iterable for which function(item)\n",
      " |  is true. If function is None, return the items that are true.\n",
      " |\n",
      " |  Methods defined here:\n",
      " |\n",
      " |  __getattribute__(self, name, /)\n",
      " |      Return getattr(self, name).\n",
      " |\n",
      " |  __iter__(self, /)\n",
      " |      Implement iter(self).\n",
      " |\n",
      " |  __next__(self, /)\n",
      " |      Implement next(self).\n",
      " |\n",
      " |  __reduce__(...)\n",
      " |      Return state information for pickling.\n",
      " |\n",
      " |  ----------------------------------------------------------------------\n",
      " |  Static methods defined here:\n",
      " |\n",
      " |  __new__(*args, **kwargs)\n",
      " |      Create and return a new object.  See help(type) for accurate signature.\n",
      "\n"
     ]
    }
   ],
   "source": [
    "help(filter)"
   ]
  },
  {
   "cell_type": "code",
   "execution_count": 14,
   "id": "d355b1eb-c203-4b5f-94ff-1fef205f4b3b",
   "metadata": {},
   "outputs": [
    {
     "data": {
      "text/plain": [
       "<filter at 0x2a2766839a0>"
      ]
     },
     "execution_count": 14,
     "metadata": {},
     "output_type": "execute_result"
    }
   ],
   "source": [
    "filter(None, [0, -1, '', '0', 'hello', False, None, 1, 5.5])"
   ]
  },
  {
   "cell_type": "code",
   "execution_count": 15,
   "id": "ecb15fd3-3e87-43c3-8ed8-10dd6272c8b4",
   "metadata": {},
   "outputs": [
    {
     "data": {
      "text/plain": [
       "[-1, '0', 'hello', 1, 5.5]"
      ]
     },
     "execution_count": 15,
     "metadata": {},
     "output_type": "execute_result"
    }
   ],
   "source": [
    "list(filter(None, [0, -1, '', '0', 'hello', False, None, 1, 5.5]))"
   ]
  },
  {
   "cell_type": "code",
   "execution_count": 29,
   "id": "6fa99513-efad-42ff-a1dd-1159e723532a",
   "metadata": {},
   "outputs": [],
   "source": [
    "#odd hoki even \n",
    "def num(i):\n",
    "    if i%2!=0:\n",
    "        return False\n",
    "    else:\n",
    "        return True"
   ]
  },
  {
   "cell_type": "code",
   "execution_count": 30,
   "id": "2bab7e01-e673-4ee8-9a9a-a332f87c94f4",
   "metadata": {},
   "outputs": [
    {
     "data": {
      "text/plain": [
       "True"
      ]
     },
     "execution_count": 30,
     "metadata": {},
     "output_type": "execute_result"
    }
   ],
   "source": [
    "num(4)"
   ]
  },
  {
   "cell_type": "code",
   "execution_count": 33,
   "id": "a59c1342-26b1-4bd7-8b7e-429e7c6eb433",
   "metadata": {},
   "outputs": [],
   "source": [
    "def is_odd(n):\n",
    "    if n%2==1:\n",
    "        return True\n",
    "    else:\n",
    "        return False"
   ]
  },
  {
   "cell_type": "code",
   "execution_count": 35,
   "id": "e2d11063-57e2-4e68-a995-26d8576abc05",
   "metadata": {},
   "outputs": [
    {
     "data": {
      "text/plain": [
       "False"
      ]
     },
     "execution_count": 35,
     "metadata": {},
     "output_type": "execute_result"
    }
   ],
   "source": [
    "is_odd(4)"
   ]
  },
  {
   "cell_type": "code",
   "execution_count": 41,
   "id": "e64280fe-9900-4ecd-819c-718d3f8067a6",
   "metadata": {},
   "outputs": [],
   "source": [
    "def is_odd(n):\n",
    "    return n%2==1"
   ]
  },
  {
   "cell_type": "code",
   "execution_count": 42,
   "id": "2afc685a-bc47-4c1f-909c-73329d8e3005",
   "metadata": {},
   "outputs": [
    {
     "data": {
      "text/plain": [
       "False"
      ]
     },
     "execution_count": 42,
     "metadata": {},
     "output_type": "execute_result"
    }
   ],
   "source": [
    "is_odd(2)"
   ]
  },
  {
   "cell_type": "code",
   "execution_count": 43,
   "id": "7c6f36c0-56b9-43ea-9730-c6e019ba85e0",
   "metadata": {},
   "outputs": [
    {
     "data": {
      "text/plain": [
       "True"
      ]
     },
     "execution_count": 43,
     "metadata": {},
     "output_type": "execute_result"
    }
   ],
   "source": [
    "is_odd(3)"
   ]
  },
  {
   "cell_type": "code",
   "execution_count": 44,
   "id": "45279248-913b-41d0-af51-a017c3b79ccd",
   "metadata": {},
   "outputs": [
    {
     "data": {
      "text/plain": [
       "[1, 27, 3, 9, 21]"
      ]
     },
     "execution_count": 44,
     "metadata": {},
     "output_type": "execute_result"
    }
   ],
   "source": [
    "list(filter(is_odd, [1, 27, 3, 6, 9, 21]))"
   ]
  },
  {
   "cell_type": "code",
   "execution_count": 45,
   "id": "40f3ce9c-c326-4176-a28b-a9df5980a255",
   "metadata": {},
   "outputs": [],
   "source": [
    "is_odd = lambda n: n%2 == 1"
   ]
  },
  {
   "cell_type": "code",
   "execution_count": 46,
   "id": "7f299d78-762e-4b74-9de6-52b80f7c3fde",
   "metadata": {},
   "outputs": [
    {
     "data": {
      "text/plain": [
       "False"
      ]
     },
     "execution_count": 46,
     "metadata": {},
     "output_type": "execute_result"
    }
   ],
   "source": [
    "is_odd(4)"
   ]
  },
  {
   "cell_type": "code",
   "execution_count": 48,
   "id": "02cfe0fb-1a1b-4604-8e21-b003204b68d1",
   "metadata": {},
   "outputs": [
    {
     "data": {
      "text/plain": [
       "[1, 27, 3, 9, 21]"
      ]
     },
     "execution_count": 48,
     "metadata": {},
     "output_type": "execute_result"
    }
   ],
   "source": [
    "list(filter(lambda n: n%2 == 1, [1, 27, 3, 6, 9, 21]))"
   ]
  },
  {
   "cell_type": "code",
   "execution_count": 50,
   "id": "aa87eb92-1681-4d22-ab98-f2f5e2e20e2c",
   "metadata": {},
   "outputs": [],
   "source": [
    "square = lambda n: n** 2"
   ]
  },
  {
   "cell_type": "code",
   "execution_count": 55,
   "id": "b0f77298-1563-4870-b71b-9f17054e4a58",
   "metadata": {},
   "outputs": [
    {
     "data": {
      "text/plain": [
       "[1, 4, 9, 16, 25]"
      ]
     },
     "execution_count": 55,
     "metadata": {},
     "output_type": "execute_result"
    }
   ],
   "source": [
    "list(map(lambda n: n ** 2, [1, 2, 3, 4, 5]))"
   ]
  },
  {
   "cell_type": "code",
   "execution_count": 56,
   "id": "801a25df-efea-47cf-ae74-9116f23fa2bc",
   "metadata": {},
   "outputs": [
    {
     "name": "stdout",
     "output_type": "stream",
     "text": [
      "Help on class map in module builtins:\n",
      "\n",
      "class map(object)\n",
      " |  map(func, *iterables) --> map object\n",
      " |\n",
      " |  Make an iterator that computes the function using arguments from\n",
      " |  each of the iterables.  Stops when the shortest iterable is exhausted.\n",
      " |\n",
      " |  Methods defined here:\n",
      " |\n",
      " |  __getattribute__(self, name, /)\n",
      " |      Return getattr(self, name).\n",
      " |\n",
      " |  __iter__(self, /)\n",
      " |      Implement iter(self).\n",
      " |\n",
      " |  __next__(self, /)\n",
      " |      Implement next(self).\n",
      " |\n",
      " |  __reduce__(...)\n",
      " |      Return state information for pickling.\n",
      " |\n",
      " |  ----------------------------------------------------------------------\n",
      " |  Static methods defined here:\n",
      " |\n",
      " |  __new__(*args, **kwargs)\n",
      " |      Create and return a new object.  See help(type) for accurate signature.\n",
      "\n"
     ]
    }
   ],
   "source": [
    "help(map)"
   ]
  },
  {
   "cell_type": "code",
   "execution_count": 57,
   "id": "c814db32-4292-4202-9bb3-2f5b80826b97",
   "metadata": {},
   "outputs": [
    {
     "data": {
      "text/plain": [
       "<map at 0x2a276870070>"
      ]
     },
     "execution_count": 57,
     "metadata": {},
     "output_type": "execute_result"
    }
   ],
   "source": [
    "map(square, [1, 2, 3, 4, 5, 6])"
   ]
  },
  {
   "cell_type": "code",
   "execution_count": 58,
   "id": "8927bd77-591a-49be-81b6-f2837261702c",
   "metadata": {},
   "outputs": [
    {
     "data": {
      "text/plain": [
       "[1, 4, 9, 16, 25, 36]"
      ]
     },
     "execution_count": 58,
     "metadata": {},
     "output_type": "execute_result"
    }
   ],
   "source": [
    "list(map(square, [1, 2, 3, 4, 5, 6]))"
   ]
  },
  {
   "cell_type": "code",
   "execution_count": 63,
   "id": "789a7565-c780-43d3-beb6-b137967d6741",
   "metadata": {},
   "outputs": [],
   "source": [
    "def addition(x, y):\n",
    "    return x+y"
   ]
  },
  {
   "cell_type": "code",
   "execution_count": 64,
   "id": "0d8cbc23-5f41-4608-a925-8cd3d8f808a2",
   "metadata": {},
   "outputs": [],
   "source": [
    "add = lambda x, y: x+y"
   ]
  },
  {
   "cell_type": "code",
   "execution_count": 67,
   "id": "e517b3b1-93ec-412e-979b-a8f7283ef7ab",
   "metadata": {},
   "outputs": [
    {
     "data": {
      "text/plain": [
       "8"
      ]
     },
     "execution_count": 67,
     "metadata": {},
     "output_type": "execute_result"
    }
   ],
   "source": [
    "add(3, 5)"
   ]
  },
  {
   "cell_type": "code",
   "execution_count": 68,
   "id": "9f407578-19a2-4751-934c-aff15a7ca298",
   "metadata": {},
   "outputs": [
    {
     "name": "stdout",
     "output_type": "stream",
     "text": [
      "Help on built-in function reduce in module _functools:\n",
      "\n",
      "reduce(...)\n",
      "    reduce(function, iterable[, initial]) -> value\n",
      "\n",
      "    Apply a function of two arguments cumulatively to the items of a sequence\n",
      "    or iterable, from left to right, so as to reduce the iterable to a single\n",
      "    value.  For example, reduce(lambda x, y: x+y, [1, 2, 3, 4, 5]) calculates\n",
      "    ((((1+2)+3)+4)+5).  If initial is present, it is placed before the items\n",
      "    of the iterable in the calculation, and serves as a default when the\n",
      "    iterable is empty.\n",
      "\n"
     ]
    }
   ],
   "source": [
    "from functools import reduce\n",
    "help(reduce)"
   ]
  },
  {
   "cell_type": "code",
   "execution_count": 69,
   "id": "9ead1751-8d2b-4d6b-8cc1-8a2f1b815f5b",
   "metadata": {},
   "outputs": [],
   "source": [
    "def addition(x, y):\n",
    "    return x+y"
   ]
  },
  {
   "cell_type": "code",
   "execution_count": 70,
   "id": "d556f144-f771-4ff7-85e2-a77459e3a969",
   "metadata": {},
   "outputs": [
    {
     "data": {
      "text/plain": [
       "10"
      ]
     },
     "execution_count": 70,
     "metadata": {},
     "output_type": "execute_result"
    }
   ],
   "source": [
    "reduce(addition, [1, 2, 3, 4])   # 1+2, 3, 4 = 3, 3, 4 = 6, 4 = 10"
   ]
  },
  {
   "cell_type": "code",
   "execution_count": 71,
   "id": "72595b89-f3e3-4071-a61f-b07a2681bda8",
   "metadata": {},
   "outputs": [
    {
     "data": {
      "text/plain": [
       "10"
      ]
     },
     "execution_count": 71,
     "metadata": {},
     "output_type": "execute_result"
    }
   ],
   "source": [
    "reduce(lambda x, y: x+y, [1, 2, 3, 4])"
   ]
  },
  {
   "cell_type": "code",
   "execution_count": 73,
   "id": "b71699f6-39ac-4729-b124-18bfd410a7aa",
   "metadata": {},
   "outputs": [],
   "source": [
    "def mean(numbers):\n",
    "    sum = 0\n",
    "    for i in numbers:\n",
    "        sum += i\n",
    "    m = sum / len(numbers)\n",
    "    return m"
   ]
  },
  {
   "cell_type": "code",
   "execution_count": 75,
   "id": "de4da838-93cd-4d04-941b-6333389733ac",
   "metadata": {},
   "outputs": [
    {
     "data": {
      "text/plain": [
       "3.2"
      ]
     },
     "execution_count": 75,
     "metadata": {},
     "output_type": "execute_result"
    }
   ],
   "source": [
    "mean([1, 2, 4, 3, 6])"
   ]
  },
  {
   "cell_type": "code",
   "execution_count": 78,
   "id": "fe2396f5-c9de-40ff-9c69-42b9887a217e",
   "metadata": {},
   "outputs": [],
   "source": [
    "#OOP => Object Oriented Programming\n",
    "#class => Person => Blueprint\n",
    "#object => Ram => Actual instance of class"
   ]
  },
  {
   "cell_type": "code",
   "execution_count": 86,
   "id": "4224194d-607a-4ad7-9ba5-b54d683907b7",
   "metadata": {},
   "outputs": [],
   "source": [
    "#DateTime\n",
    "#FUNCTION:\n",
    "def today_date():\n",
    "    pass\n",
    "def today_time():\n",
    "    pass\n",
    "def today_day():\n",
    "    pass\n",
    "def today_week():\n",
    "    pass\n",
    "def today_month():\n",
    "    pass\n",
    "def today_year():\n",
    "    pass\n",
    "def today_utc_time():\n",
    "    pass    "
   ]
  },
  {
   "cell_type": "code",
   "execution_count": 88,
   "id": "1dfee52c-88f3-4733-92ee-826bd2739516",
   "metadata": {},
   "outputs": [],
   "source": [
    "class DateTime:    #PascalCase\n",
    "    def today_date():   #lowercase => snake case\n",
    "        pass\n",
    "    def today_time():\n",
    "        pass\n",
    "    def today_day():\n",
    "        pass\n",
    "    def today_week():\n",
    "        pass\n",
    "    def today_month():\n",
    "        pass\n",
    "    def today_year():\n",
    "        pass\n",
    "    def today_utc_time():\n",
    "        pass"
   ]
  },
  {
   "cell_type": "code",
   "execution_count": 89,
   "id": "e58ef238-5010-4e30-8678-18764a9349b6",
   "metadata": {},
   "outputs": [],
   "source": [
    "class Person:\n",
    "    name = \"Ram\"\n",
    "    age = 22\n",
    "    phone_number = 9872637913\n",
    "    address = \"Kathmandu\""
   ]
  },
  {
   "cell_type": "code",
   "execution_count": 98,
   "id": "7ea87648-f446-484d-a8cd-38f3f970b500",
   "metadata": {},
   "outputs": [],
   "source": [
    "p = Person()  #jati ota ni object banauna milchha"
   ]
  },
  {
   "cell_type": "code",
   "execution_count": 99,
   "id": "05f61ad1-4008-434e-84ec-119bf8dcfb67",
   "metadata": {},
   "outputs": [
    {
     "name": "stdout",
     "output_type": "stream",
     "text": [
      "<__main__.Person object at 0x000002A27791E5D0>\n"
     ]
    }
   ],
   "source": [
    "print(p)"
   ]
  },
  {
   "cell_type": "code",
   "execution_count": 100,
   "id": "e7710c42-f64e-4131-8129-047fc692b548",
   "metadata": {},
   "outputs": [],
   "source": [
    "p1 = Person()"
   ]
  },
  {
   "cell_type": "code",
   "execution_count": 101,
   "id": "9d07f84f-c1d1-42b6-b4a6-1191f3b1daf5",
   "metadata": {},
   "outputs": [],
   "source": [
    "p2 = Person()"
   ]
  },
  {
   "cell_type": "code",
   "execution_count": 102,
   "id": "5cb49435-bab6-4b43-9865-0ca46befdae4",
   "metadata": {},
   "outputs": [
    {
     "data": {
      "text/plain": [
       "'Ram'"
      ]
     },
     "execution_count": 102,
     "metadata": {},
     "output_type": "execute_result"
    }
   ],
   "source": [
    "p1.name"
   ]
  },
  {
   "cell_type": "code",
   "execution_count": 103,
   "id": "a92ed0aa-6009-470b-8da8-015edc7d784a",
   "metadata": {},
   "outputs": [
    {
     "data": {
      "text/plain": [
       "'Ram'"
      ]
     },
     "execution_count": 103,
     "metadata": {},
     "output_type": "execute_result"
    }
   ],
   "source": [
    "p2.name"
   ]
  },
  {
   "cell_type": "code",
   "execution_count": 105,
   "id": "efd95ba6-03b4-4379-843e-2203dfd309d1",
   "metadata": {},
   "outputs": [],
   "source": [
    "class Person:\n",
    "    #attribute/property (inside class), variable (outside class)\n",
    "    name = \"Ram\"\n",
    "    age = 22\n",
    "    phone_number = 9872637913\n",
    "    address = \"Kathmandu\"\n",
    "    \n",
    "    #action/ behaviour/method(inside class) , function(outside class)\n",
    "    def eat():\n",
    "        pass\n",
    "    def sleep():\n",
    "        pass\n",
    "    def walk():\n",
    "        pass"
   ]
  },
  {
   "cell_type": "code",
   "execution_count": 106,
   "id": "dbb5537f-7ee9-4b34-97fc-5277b89fe238",
   "metadata": {},
   "outputs": [
    {
     "data": {
      "text/plain": [
       "'Ram'"
      ]
     },
     "execution_count": 106,
     "metadata": {},
     "output_type": "execute_result"
    }
   ],
   "source": [
    "p = Person()\n",
    "p.name"
   ]
  },
  {
   "cell_type": "code",
   "execution_count": 109,
   "id": "4bd0b0d8-2eed-46aa-bdfe-90c7cf0d8bcf",
   "metadata": {},
   "outputs": [],
   "source": [
    "def person(name, age, address):   #bahira bata value lina lai\n",
    "    print(name, age, address)"
   ]
  },
  {
   "cell_type": "code",
   "execution_count": 110,
   "id": "55ed4be3-a8fe-4c9b-87f1-0f17fab406f4",
   "metadata": {},
   "outputs": [
    {
     "name": "stdout",
     "output_type": "stream",
     "text": [
      "ram 22 ktm\n"
     ]
    }
   ],
   "source": [
    "person(\"ram\", 22, \"ktm\")"
   ]
  },
  {
   "cell_type": "code",
   "execution_count": 111,
   "id": "8ec63196-c713-40e7-938a-895640c58c20",
   "metadata": {},
   "outputs": [
    {
     "ename": "NameError",
     "evalue": "name 'name' is not defined",
     "output_type": "error",
     "traceback": [
      "\u001b[1;31m---------------------------------------------------------------------------\u001b[0m",
      "\u001b[1;31mNameError\u001b[0m                                 Traceback (most recent call last)",
      "Cell \u001b[1;32mIn[111], line 1\u001b[0m\n\u001b[1;32m----> 1\u001b[0m \u001b[38;5;28;01mclass\u001b[39;00m \u001b[38;5;21;01mPerson\u001b[39;00m(\u001b[43mname\u001b[49m, age, address):\n\u001b[0;32m      2\u001b[0m     \u001b[38;5;66;03m#attribute/property (inside class), variable (outside class)\u001b[39;00m\n\u001b[0;32m      3\u001b[0m     name \u001b[38;5;241m=\u001b[39m \u001b[38;5;124m\"\u001b[39m\u001b[38;5;124mRam\u001b[39m\u001b[38;5;124m\"\u001b[39m\n\u001b[0;32m      4\u001b[0m     age \u001b[38;5;241m=\u001b[39m \u001b[38;5;241m22\u001b[39m\n",
      "\u001b[1;31mNameError\u001b[0m: name 'name' is not defined"
     ]
    }
   ],
   "source": [
    "class Person(name, age, address):\n",
    "    #attribute/property (inside class), variable (outside class)\n",
    "    name = \"Ram\"\n",
    "    age = 22\n",
    "    address = \"Kathmandu\"\n",
    "    \n",
    "    #action/ behaviour/method(inside class) , function(outside class)\n",
    "    def eat():\n",
    "        pass\n",
    "    def sleep():\n",
    "        pass\n",
    "    def walk():\n",
    "        pass"
   ]
  },
  {
   "cell_type": "code",
   "execution_count": 114,
   "id": "14b008c2-d6fe-4a1a-8dde-8e52d829259c",
   "metadata": {},
   "outputs": [],
   "source": [
    "class Person:\n",
    "    def __init__(self, name, age, address):\n",
    "        print(name, age, address)\n",
    "    #attribute/property (inside class), variable (outside class)\n",
    "    name = \"Ram\"\n",
    "    age = 22\n",
    "    address = \"Kathmandu\"\n",
    "    \n",
    "    #action/ behaviour/method(inside class) , function(outside class)\n",
    "    def eat():\n",
    "        pass\n",
    "    def sleep():\n",
    "        pass\n",
    "    def walk():\n",
    "        pass"
   ]
  },
  {
   "cell_type": "code",
   "execution_count": 115,
   "id": "e256b400-1b36-40fa-b169-734e5d72ee1b",
   "metadata": {},
   "outputs": [
    {
     "name": "stdout",
     "output_type": "stream",
     "text": [
      "ram 22 ktm\n"
     ]
    }
   ],
   "source": [
    "p1 = Person(\"ram\", 22, \"ktm\")"
   ]
  },
  {
   "cell_type": "code",
   "execution_count": 3,
   "id": "7fc08266-6548-457d-9467-fdc5469e21c6",
   "metadata": {},
   "outputs": [],
   "source": [
    "class Person:\n",
    "    def __init__(self, name, age, address):\n",
    "        print(name, age, address)\n",
    "    #attribute/property (inside class), variable (outside class)\n",
    "        self.name = \"Ram\"\n",
    "        self.age = 22\n",
    "        self.address = \"Kathmandu\"\n",
    "    \n",
    "    #action/ behaviour/method(inside class) , function(outside class)\n",
    "    def eat(self):\n",
    "        print(\"Person is eating\")\n",
    "    def sleep(self):\n",
    "        print(\"Person is sleeping\")\n",
    "    def walk(self):\n",
    "        print(\"Person is walking\")\n",
    "    def info(self):\n",
    "        print(f\"Name:{self.name}\")\n",
    "        print(f\"Age: {self.age}\")\n",
    "        print(f\"Address: {self.address}\")\n",
    "class Student(Person):    #single inheritence\n",
    "    def __init__(self, name, age, address, college, faculty, roll_no):\n",
    "        super(). __init__(name, age, address)     #duplicate lai inherit gareko\n",
    "        self.college = college\n",
    "        self.faculty = faculty\n",
    "        self.roll_no = roll_no\n",
    "        self.subjects = []\n",
    "    def learn(self):\n",
    "        print(f\"Student is learning: {self.subjects}\")\n",
    "    def add_subject(self, name):\n",
    "        if name not in self.subjects:\n",
    "            self.subjects.append(name)\n",
    "     #self is object\n",
    "    def info(self):\n",
    "        super().info()\n",
    "        print(f\"Roll_no: {self.roll_no}\")\n",
    "        print(f\"Faculty: {self.faculty}\")\n",
    "        print(f\"Subjects: {self.subjects}\")\n",
    "        print(f\"College: {self.college}\")"
   ]
  },
  {
   "cell_type": "code",
   "execution_count": 7,
   "id": "fa18b140-5813-4aae-a975-686eda11aaf5",
   "metadata": {},
   "outputs": [
    {
     "name": "stdout",
     "output_type": "stream",
     "text": [
      "Ram 22 ktm\n"
     ]
    }
   ],
   "source": [
    "s1 = Student(name = \"Ram\", age= 22, address = \"ktm\", faculty = \"IT\", college = \"Ismt\", roll_no= 5)"
   ]
  },
  {
   "cell_type": "code",
   "execution_count": 8,
   "id": "c38cc9d0-5904-4342-9f2b-cf110abe0915",
   "metadata": {},
   "outputs": [
    {
     "name": "stdout",
     "output_type": "stream",
     "text": [
      "Name:Ram\n",
      "Age: 22\n",
      "Address: Kathmandu\n",
      "Roll_no: 5\n",
      "Faculty: IT\n",
      "Subjects: []\n",
      "College: Ismt\n"
     ]
    }
   ],
   "source": [
    "s1.info()"
   ]
  },
  {
   "cell_type": "code",
   "execution_count": 9,
   "id": "0c7ae770-0770-4742-84d9-b21978d57277",
   "metadata": {},
   "outputs": [],
   "source": [
    "class Father:\n",
    "    pass\n",
    "class Mother:\n",
    "    pass\n",
    "class Child(Father, Mother): #multiple class inherit\n",
    "    pass"
   ]
  },
  {
   "cell_type": "code",
   "execution_count": 10,
   "id": "72b652d4-1c89-4136-9faa-4e9cb5415c34",
   "metadata": {},
   "outputs": [
    {
     "name": "stdout",
     "output_type": "stream",
     "text": [
      "Inside Person Class\n",
      "Name: Esha Age: 23\n",
      "Inside Company Class\n",
      "Name: Pinterest location: Adelaide\n",
      "Inside Employee Class\n",
      "Salary: 959000 Skill: Machine Learning\n"
     ]
    }
   ],
   "source": [
    "#Parent class 1\n",
    "class Person:\n",
    "    def person_info(self, name, age):\n",
    "        print('Inside Person Class')\n",
    "        print('Name:', name, 'Age:' , age)\n",
    "\n",
    "#Parent class 2\n",
    "class Company:\n",
    "    def company_info(self, company_name, location):\n",
    "        print('Inside Company Class')\n",
    "        print('Name:', company_name, 'location:', location)\n",
    "\n",
    "#Child class\n",
    "class Employee(Person, Company):\n",
    "    def employee_info(self, salary, skill):\n",
    "        print('Inside Employee Class')\n",
    "        print('Salary:', salary, 'Skill:', skill)\n",
    "\n",
    "#create object of employee\n",
    "emp = Employee()\n",
    "\n",
    "#access data\n",
    "emp.person_info('Esha', 23)\n",
    "emp.company_info('Pinterest', 'Adelaide')\n",
    "emp.employee_info(959000, 'Machine Learning')\n",
    "\n"
   ]
  },
  {
   "cell_type": "code",
   "execution_count": null,
   "id": "b8577a12-4edc-42a5-9153-9df87af02490",
   "metadata": {},
   "outputs": [],
   "source": []
  }
 ],
 "metadata": {
  "kernelspec": {
   "display_name": "Python 3 (ipykernel)",
   "language": "python",
   "name": "python3"
  },
  "language_info": {
   "codemirror_mode": {
    "name": "ipython",
    "version": 3
   },
   "file_extension": ".py",
   "mimetype": "text/x-python",
   "name": "python",
   "nbconvert_exporter": "python",
   "pygments_lexer": "ipython3",
   "version": "3.12.4"
  }
 },
 "nbformat": 4,
 "nbformat_minor": 5
}
