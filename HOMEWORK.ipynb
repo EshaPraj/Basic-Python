{
 "cells": [
  {
   "cell_type": "code",
   "execution_count": 4,
   "id": "3a7ed747-c301-415a-a2fc-0826ee128dc8",
   "metadata": {},
   "outputs": [],
   "source": [
    "#question.1\n",
    "data = [\n",
    "    {\"name\": \" Alice \", \"age\": \" 21\", \"email\": \"ALICE@example.COM\"},\n",
    "    {\"name\": \"Bob\", \"age\": None, \"email\": \"bob@example.com\"},\n",
    "    {\"name\": \"   CHARLIE\", \"age\": \"20\", \"email\": \"charlie@example.COM\"},\n",
    "    {\"name\": \"david\", \"age\": \"19\", \"email\": \"  DAVID@example.com \"}\n",
    "]"
   ]
  },
  {
   "cell_type": "code",
   "execution_count": 5,
   "id": "e485b72c-6a45-4604-a8a7-61f39b0912fa",
   "metadata": {},
   "outputs": [
    {
     "data": {
      "text/plain": [
       "{'name': ' Alice ', 'age': ' 21', 'email': 'ALICE@example.COM'}"
      ]
     },
     "execution_count": 5,
     "metadata": {},
     "output_type": "execute_result"
    }
   ],
   "source": [
    "data[0]"
   ]
  },
  {
   "cell_type": "code",
   "execution_count": 6,
   "id": "c192fc8b-10e9-4b72-96b5-b7c9101eb580",
   "metadata": {},
   "outputs": [
    {
     "data": {
      "text/plain": [
       "' Alice '"
      ]
     },
     "execution_count": 6,
     "metadata": {},
     "output_type": "execute_result"
    }
   ],
   "source": [
    "data[0]['name']"
   ]
  },
  {
   "cell_type": "code",
   "execution_count": 7,
   "id": "ecfaa905-9d47-4849-a73d-5c514af6ed1e",
   "metadata": {},
   "outputs": [
    {
     "data": {
      "text/plain": [
       "'Alice'"
      ]
     },
     "execution_count": 7,
     "metadata": {},
     "output_type": "execute_result"
    }
   ],
   "source": [
    "data[0]['name'].strip()"
   ]
  },
  {
   "cell_type": "code",
   "execution_count": 8,
   "id": "8765ace1-5bb5-421e-a9cf-9b1cf4ce2fb9",
   "metadata": {},
   "outputs": [
    {
     "data": {
      "text/plain": [
       "' ALICE '"
      ]
     },
     "execution_count": 8,
     "metadata": {},
     "output_type": "execute_result"
    }
   ],
   "source": [
    "data[0]['name'].upper()"
   ]
  },
  {
   "cell_type": "code",
   "execution_count": 9,
   "id": "bf48363c-eb4e-4a3a-b7ea-0d35c5ea2e61",
   "metadata": {},
   "outputs": [
    {
     "data": {
      "text/plain": [
       "{'name': ' Alice ', 'age': ' 21', 'email': 'ALICE@example.COM'}"
      ]
     },
     "execution_count": 9,
     "metadata": {},
     "output_type": "execute_result"
    }
   ],
   "source": [
    "data[0]"
   ]
  },
  {
   "cell_type": "code",
   "execution_count": 48,
   "id": "0f6d0cc1-e255-420d-a906-4517b2fed94c",
   "metadata": {},
   "outputs": [
    {
     "data": {
      "text/plain": [
       "' 21'"
      ]
     },
     "execution_count": 48,
     "metadata": {},
     "output_type": "execute_result"
    }
   ],
   "source": [
    "data[0]['age']"
   ]
  },
  {
   "cell_type": "code",
   "execution_count": 49,
   "id": "416c061a-eb58-47f7-b0f2-0223248ae040",
   "metadata": {},
   "outputs": [
    {
     "data": {
      "text/plain": [
       "' 21'"
      ]
     },
     "execution_count": 49,
     "metadata": {},
     "output_type": "execute_result"
    }
   ],
   "source": [
    "data[0]['age'].replace('unknown','age')"
   ]
  },
  {
   "cell_type": "code",
   "execution_count": 12,
   "id": "5976180e-e7fc-466f-b686-820073e6ae64",
   "metadata": {},
   "outputs": [
    {
     "data": {
      "text/plain": [
       "'  DAVID@example.com '"
      ]
     },
     "execution_count": 12,
     "metadata": {},
     "output_type": "execute_result"
    }
   ],
   "source": [
    "data[3]['email']"
   ]
  },
  {
   "cell_type": "code",
   "execution_count": 28,
   "id": "5c4cdd24-cfc5-4d72-8dcc-6fe7e099ef6a",
   "metadata": {},
   "outputs": [
    {
     "data": {
      "text/plain": [
       "'david@example.com'"
      ]
     },
     "execution_count": 28,
     "metadata": {},
     "output_type": "execute_result"
    }
   ],
   "source": [
    "data[3]['email'].lower().strip()"
   ]
  },
  {
   "cell_type": "code",
   "execution_count": 29,
   "id": "80208771-3d35-4afd-be6a-e3ad9706c994",
   "metadata": {},
   "outputs": [],
   "source": [
    "#question 2\n",
    "sales = [\n",
    "    {\"product_id\": \"1\", \"quantity\": \"10\", \"price\": \"20.5\"},\n",
    "    {\"product_id\": \"2\", \"quantity\": \"15\", \"price\": \"30.75\"},\n",
    "    {\"product_id\": \"3\", \"quantity\": \"8\", \"price\": \"25.0\"},\n",
    "]"
   ]
  },
  {
   "cell_type": "code",
   "execution_count": 30,
   "id": "baa452b8-3b6a-42af-bcbd-4aeb4ee3b87c",
   "metadata": {},
   "outputs": [
    {
     "data": {
      "text/plain": [
       "{'product_id': '1', 'quantity': '10', 'price': '20.5'}"
      ]
     },
     "execution_count": 30,
     "metadata": {},
     "output_type": "execute_result"
    }
   ],
   "source": [
    "sales[0]"
   ]
  },
  {
   "cell_type": "code",
   "execution_count": 31,
   "id": "bb16cc16-58cf-4a9b-9533-1a8fff5d6423",
   "metadata": {},
   "outputs": [
    {
     "data": {
      "text/plain": [
       "'1'"
      ]
     },
     "execution_count": 31,
     "metadata": {},
     "output_type": "execute_result"
    }
   ],
   "source": [
    "sales[0]['product_id']"
   ]
  },
  {
   "cell_type": "code",
   "execution_count": 32,
   "id": "3446250a-e889-4a19-8664-7f1a7a0f36a6",
   "metadata": {},
   "outputs": [
    {
     "name": "stdout",
     "output_type": "stream",
     "text": [
      "1 <class 'str'>\n"
     ]
    }
   ],
   "source": [
    "print(sales[0]['product_id'], type(sales[0]['product_id']))"
   ]
  },
  {
   "cell_type": "code",
   "execution_count": 33,
   "id": "98222618-4628-4141-afde-821ba4d27eea",
   "metadata": {},
   "outputs": [
    {
     "data": {
      "text/plain": [
       "1"
      ]
     },
     "execution_count": 33,
     "metadata": {},
     "output_type": "execute_result"
    }
   ],
   "source": [
    "int(sales[0]['product_id'])"
   ]
  },
  {
   "cell_type": "code",
   "execution_count": 34,
   "id": "fa186ef2-d645-4fc9-9cd1-7d91ff67863b",
   "metadata": {},
   "outputs": [
    {
     "data": {
      "text/plain": [
       "10"
      ]
     },
     "execution_count": 34,
     "metadata": {},
     "output_type": "execute_result"
    }
   ],
   "source": [
    "int(sales[0]['quantity'])"
   ]
  },
  {
   "cell_type": "code",
   "execution_count": 35,
   "id": "dba9c906-a16d-44ab-977f-681532fd889a",
   "metadata": {},
   "outputs": [
    {
     "data": {
      "text/plain": [
       "20.5"
      ]
     },
     "execution_count": 35,
     "metadata": {},
     "output_type": "execute_result"
    }
   ],
   "source": [
    "float(sales[0]['price'])"
   ]
  },
  {
   "cell_type": "code",
   "execution_count": 37,
   "id": "e495979d-99e4-4ac5-966c-ba60378c6c6d",
   "metadata": {},
   "outputs": [],
   "source": [
    "#question.1\n",
    "data = [\n",
    "    {\"name\": \" Alice \", \"age\": \" 21\", \"email\": \"ALICE@example.COM\"},\n",
    "    {\"name\": \"Bob\", \"age\": None, \"email\": \"bob@example.com\"},\n",
    "    {\"name\": \"   CHARLIE\", \"age\": \"20\", \"email\": \"charlie@example.COM\"},\n",
    "    {\"name\": \"david\", \"age\": \"19\", \"email\": \"  DAVID@example.com \"}\n",
    "]"
   ]
  },
  {
   "cell_type": "code",
   "execution_count": 50,
   "id": "ab1562fc-e8ed-4f38-ac47-d9cc5dac882d",
   "metadata": {},
   "outputs": [],
   "source": [
    "nm=(data[0][\"name\"].strip().title(), data[1][\"name\"].strip().title(), data[2][\"name\"].strip().title(), data[3][\"name\"].strip().title())"
   ]
  },
  {
   "cell_type": "code",
   "execution_count": 51,
   "id": "300b78ff-5e39-4863-8577-b21fef6ac2de",
   "metadata": {},
   "outputs": [
    {
     "data": {
      "text/plain": [
       "('Alice', 'Bob', 'Charlie', 'David')"
      ]
     },
     "execution_count": 51,
     "metadata": {},
     "output_type": "execute_result"
    }
   ],
   "source": [
    "nm"
   ]
  },
  {
   "cell_type": "code",
   "execution_count": 40,
   "id": "255fd2f5-fb42-431d-ad4e-31d70f6f219b",
   "metadata": {},
   "outputs": [],
   "source": [
    "low=(data[0][\"email\"].lower(), data[1][\"email\"].lower(), data[2][\"email\"].lower(), data[3][\"email\"].lower().strip()) "
   ]
  },
  {
   "cell_type": "code",
   "execution_count": 41,
   "id": "e1cb4bed-862f-41d3-b328-96fd44a4fe66",
   "metadata": {},
   "outputs": [
    {
     "data": {
      "text/plain": [
       "('alice@example.com',\n",
       " 'bob@example.com',\n",
       " 'charlie@example.com',\n",
       " 'david@example.com')"
      ]
     },
     "execution_count": 41,
     "metadata": {},
     "output_type": "execute_result"
    }
   ],
   "source": [
    "low"
   ]
  },
  {
   "cell_type": "code",
   "execution_count": 42,
   "id": "cbd1fcfd-1dc7-4e76-b5ba-2a9a299401cf",
   "metadata": {},
   "outputs": [],
   "source": [
    "spl= (data[0][\"email\"].title().split(\"@\"), data[1][\"email\"].title().split(\"@\"), data[2][\"email\"].title().split(\"@\"), data[3][\"email\"].strip().title().split(\"@\"))"
   ]
  },
  {
   "cell_type": "code",
   "execution_count": 43,
   "id": "b3744c59-4616-450c-b195-a122456fbefb",
   "metadata": {},
   "outputs": [
    {
     "data": {
      "text/plain": [
       "(['Alice', 'Example.Com'],\n",
       " ['Bob', 'Example.Com'],\n",
       " ['Charlie', 'Example.Com'],\n",
       " ['David', 'Example.Com'])"
      ]
     },
     "execution_count": 43,
     "metadata": {},
     "output_type": "execute_result"
    }
   ],
   "source": [
    "spl"
   ]
  },
  {
   "cell_type": "code",
   "execution_count": 44,
   "id": "d90cba5d-c10b-4595-8645-f04cc54a79fb",
   "metadata": {},
   "outputs": [
    {
     "name": "stdout",
     "output_type": "stream",
     "text": [
      "Welcome - ('Alice', 'Bob', 'Charlie', 'David')\n"
     ]
    }
   ],
   "source": [
    "print(f\"Welcome - {spl[0][0], spl[1][0], spl[2][0], spl[3][0]}\")"
   ]
  },
  {
   "cell_type": "code",
   "execution_count": 52,
   "id": "3e1b5053-34bf-41f3-be4b-e4d9aa02757a",
   "metadata": {},
   "outputs": [],
   "source": [
    "data = [\n",
    "    {\"name\": \" Alice \", \"age\": \" 21\", \"email\": \"ALICE@example.COM\"},\n",
    "    {\"name\": \"Bob\", \"age\": None, \"email\": \"bob@example.com\"},\n",
    "    {\"name\": \"   CHARLIE\", \"age\": \"20\", \"email\": \"charlie@example.COM\"},\n",
    "    {\"name\": \"david\", \"age\": \"19\", \"email\": \"  DAVID@example.com \"}\n",
    "]"
   ]
  },
  {
   "cell_type": "code",
   "execution_count": 55,
   "id": "5a304f5c-5c2f-4b66-ac6a-b050b3adbe84",
   "metadata": {},
   "outputs": [],
   "source": [
    "spl = list(person[\"name\"].strip().title() for person in data)"
   ]
  },
  {
   "cell_type": "code",
   "execution_count": 56,
   "id": "c7672984-bd43-4b73-8d67-2181354a4f5e",
   "metadata": {},
   "outputs": [
    {
     "data": {
      "text/plain": [
       "['Alice', 'Bob', 'Charlie', 'David']"
      ]
     },
     "execution_count": 56,
     "metadata": {},
     "output_type": "execute_result"
    }
   ],
   "source": [
    "spl"
   ]
  },
  {
   "cell_type": "code",
   "execution_count": 57,
   "id": "6fa5c867-a88a-4019-8933-dde6b531dec4",
   "metadata": {},
   "outputs": [],
   "source": [
    "spl.append('Esha')"
   ]
  },
  {
   "cell_type": "code",
   "execution_count": 58,
   "id": "1c9820db-b846-498c-b607-4e21bde2bae2",
   "metadata": {},
   "outputs": [
    {
     "data": {
      "text/plain": [
       "['Alice', 'Bob', 'Charlie', 'David', 'Esha']"
      ]
     },
     "execution_count": 58,
     "metadata": {},
     "output_type": "execute_result"
    }
   ],
   "source": [
    "spl"
   ]
  },
  {
   "cell_type": "code",
   "execution_count": 59,
   "id": "0602f65e-6a17-4ff5-a17b-4ea643fed723",
   "metadata": {},
   "outputs": [],
   "source": [
    "low = list(mails[\"email\"].lower().strip() for mails in data)"
   ]
  },
  {
   "cell_type": "code",
   "execution_count": 60,
   "id": "f4001e02-b09e-4875-8304-7be492afd0a7",
   "metadata": {},
   "outputs": [
    {
     "data": {
      "text/plain": [
       "['alice@example.com',\n",
       " 'bob@example.com',\n",
       " 'charlie@example.com',\n",
       " 'david@example.com']"
      ]
     },
     "execution_count": 60,
     "metadata": {},
     "output_type": "execute_result"
    }
   ],
   "source": [
    "low"
   ]
  },
  {
   "cell_type": "code",
   "execution_count": 61,
   "id": "5671a802-4fb6-49e3-b941-a085cbd920c8",
   "metadata": {},
   "outputs": [],
   "source": [
    "low.append('esha@example.com')"
   ]
  },
  {
   "cell_type": "code",
   "execution_count": 62,
   "id": "0328d59c-b21d-4441-a6e6-662d8a2b33a0",
   "metadata": {},
   "outputs": [
    {
     "data": {
      "text/plain": [
       "['alice@example.com',\n",
       " 'bob@example.com',\n",
       " 'charlie@example.com',\n",
       " 'david@example.com',\n",
       " 'esha@example.com']"
      ]
     },
     "execution_count": 62,
     "metadata": {},
     "output_type": "execute_result"
    }
   ],
   "source": [
    "low"
   ]
  },
  {
   "cell_type": "code",
   "execution_count": 64,
   "id": "37069e30-acea-47a2-8c40-e9b984c2b248",
   "metadata": {},
   "outputs": [],
   "source": [
    "#question 2\n",
    "sales = [\n",
    "    {\"product_id\": \"1\", \"quantity\": \"10\", \"price\": \"20.5\"},\n",
    "    {\"product_id\": \"2\", \"quantity\": \"15\", \"price\": \"30.75\"},\n",
    "    {\"product_id\": \"3\", \"quantity\": \"8\", \"price\": \"25.0\"},\n",
    "]\n",
    "prod = list (int(product[\"product_id\"]) for product in sales)"
   ]
  },
  {
   "cell_type": "code",
   "execution_count": 65,
   "id": "63a22306-ce2e-43f7-8b8c-6ac15daa2fd5",
   "metadata": {},
   "outputs": [
    {
     "data": {
      "text/plain": [
       "[1, 2, 3]"
      ]
     },
     "execution_count": 65,
     "metadata": {},
     "output_type": "execute_result"
    }
   ],
   "source": [
    "prod"
   ]
  },
  {
   "cell_type": "code",
   "execution_count": 70,
   "id": "fe1aa85e-238a-4927-b001-0dd40b5e2895",
   "metadata": {},
   "outputs": [],
   "source": [
    "quan = list (int(quanti[\"quantity\"]) for quanti in sales)"
   ]
  },
  {
   "cell_type": "code",
   "execution_count": 71,
   "id": "cb27bb5e-19c6-4920-a034-7d3c8b1721e7",
   "metadata": {},
   "outputs": [
    {
     "data": {
      "text/plain": [
       "[10, 15, 8]"
      ]
     },
     "execution_count": 71,
     "metadata": {},
     "output_type": "execute_result"
    }
   ],
   "source": [
    "quan"
   ]
  },
  {
   "cell_type": "code",
   "execution_count": 72,
   "id": "86da175b-c15a-4a66-9d79-d68e57fe0261",
   "metadata": {},
   "outputs": [],
   "source": [
    "pri = list (float(p[\"price\"]) for p in sales)"
   ]
  },
  {
   "cell_type": "code",
   "execution_count": 73,
   "id": "8709325a-3977-436b-9871-043a67bd444b",
   "metadata": {},
   "outputs": [
    {
     "data": {
      "text/plain": [
       "[20.5, 30.75, 25.0]"
      ]
     },
     "execution_count": 73,
     "metadata": {},
     "output_type": "execute_result"
    }
   ],
   "source": [
    "pri"
   ]
  },
  {
   "cell_type": "code",
   "execution_count": 74,
   "id": "3f2afdb6-aa60-4adc-a7de-1551d7e204f2",
   "metadata": {},
   "outputs": [],
   "source": [
    "a= []\n",
    "for i in range(0, 10):\n",
    "    a.append(i)\n"
   ]
  },
  {
   "cell_type": "code",
   "execution_count": 75,
   "id": "f081e7df-fef6-4e4a-b36a-64d1099001c5",
   "metadata": {},
   "outputs": [
    {
     "data": {
      "text/plain": [
       "[0, 1, 2, 3, 4, 5, 6, 7, 8, 9]"
      ]
     },
     "execution_count": 75,
     "metadata": {},
     "output_type": "execute_result"
    }
   ],
   "source": [
    "a"
   ]
  },
  {
   "cell_type": "code",
   "execution_count": 78,
   "id": "98de3377-0b0c-4670-951f-a966388b1b9a",
   "metadata": {},
   "outputs": [],
   "source": [
    "a = [i for i in range(0,10)] #list comprehension"
   ]
  },
  {
   "cell_type": "code",
   "execution_count": 79,
   "id": "3180f226-ab41-4a12-afd2-3f3f7e7236a2",
   "metadata": {},
   "outputs": [
    {
     "data": {
      "text/plain": [
       "[0, 1, 2, 3, 4, 5, 6, 7, 8, 9]"
      ]
     },
     "execution_count": 79,
     "metadata": {},
     "output_type": "execute_result"
    }
   ],
   "source": [
    "a"
   ]
  },
  {
   "cell_type": "code",
   "execution_count": 89,
   "id": "124a5baf-40ab-423f-8981-fc91bf15d1b4",
   "metadata": {},
   "outputs": [],
   "source": [
    "a = [i*2 for i in range(0, 10)]"
   ]
  },
  {
   "cell_type": "code",
   "execution_count": 90,
   "id": "86101613-2d85-4eae-9fcf-9e3e468f2184",
   "metadata": {},
   "outputs": [
    {
     "data": {
      "text/plain": [
       "[0, 2, 4, 6, 8, 10, 12, 14, 16, 18]"
      ]
     },
     "execution_count": 90,
     "metadata": {},
     "output_type": "execute_result"
    }
   ],
   "source": [
    "a"
   ]
  },
  {
   "cell_type": "code",
   "execution_count": null,
   "id": "a0310fcb-e54c-4197-a308-fcc9ac542605",
   "metadata": {},
   "outputs": [],
   "source": []
  },
  {
   "cell_type": "code",
   "execution_count": 5,
   "id": "33e71d1d-c3e5-4a51-928c-1c68a780e80b",
   "metadata": {},
   "outputs": [
    {
     "name": "stdin",
     "output_type": "stream",
     "text": [
      "Enter the number 23\n",
      "Enter the number 45\n",
      "Type sub for subtract, add for addition, mult for multiplication and div for division gjtk\n"
     ]
    },
    {
     "name": "stdout",
     "output_type": "stream",
     "text": [
      "enter valid operator\n"
     ]
    }
   ],
   "source": [
    "num1 = int(input(\"Enter the number\"))\n",
    "num2 = int(input(\"Enter the number\"))\n",
    "operator = input(\"Type sub for subtract, add for addition, mult for multiplication and div for division\")\n",
    "add = num1 + num2\n",
    "sub = num1 - num2\n",
    "mult = num1 * num2\n",
    "div = num1/num2 \n",
    "if (operator == \"add\"):\n",
    "    print(add)\n",
    "elif(operator == \"sub\"):\n",
    "    print(sub)\n",
    "elif(operator == \"mult\"):\n",
    "    print(mult)\n",
    "elif(operator == \"div\"):\n",
    "    print(div)\n",
    "else:\n",
    "    print(\"enter valid operator\")  \n",
    "   "
   ]
  },
  {
   "cell_type": "code",
   "execution_count": null,
   "id": "2542c660-95f9-40d1-b983-32cc22e3b2af",
   "metadata": {},
   "outputs": [],
   "source": [
    "# Heading 1\n",
    "## Heading 2\n",
    "### Heading 3\n"
   ]
  },
  {
   "cell_type": "markdown",
   "id": "383bb43a-e225-4726-8c11-ca9afeba25c4",
   "metadata": {},
   "source": [
    "*this is italics*"
   ]
  },
  {
   "cell_type": "markdown",
   "id": "4c275d73-7fc2-468d-95bf-2bd398f02f22",
   "metadata": {},
   "source": [
    "**this is bold**"
   ]
  },
  {
   "cell_type": "markdown",
   "id": "f61fbe21-3007-4ac2-a516-ad3742d3b8b8",
   "metadata": {},
   "source": [
    "# heading1\n",
    "- subtopic\n",
    "- subtopic"
   ]
  },
  {
   "cell_type": "code",
   "execution_count": null,
   "id": "415bc63a-d9c5-4ff5-accc-64a468a3e6f5",
   "metadata": {},
   "outputs": [],
   "source": [
    "if (condition):\n",
    "elif(condition):\n",
    "else:"
   ]
  },
  {
   "cell_type": "code",
   "execution_count": 12,
   "id": "0369e54a-9ed9-44ce-ad93-c6089053a2cc",
   "metadata": {},
   "outputs": [
    {
     "data": {
      "text/plain": [
       "5"
      ]
     },
     "execution_count": 12,
     "metadata": {},
     "output_type": "execute_result"
    }
   ],
   "source": [
    "import random\n",
    "random.randint(1, 12)"
   ]
  },
  {
   "cell_type": "code",
   "execution_count": 23,
   "id": "aaf5ab88-22aa-4b14-9c54-acf098da8d7a",
   "metadata": {},
   "outputs": [
    {
     "name": "stdout",
     "output_type": "stream",
     "text": [
      "1\n",
      "2\n",
      "3\n",
      "4\n",
      "5\n"
     ]
    }
   ],
   "source": [
    "for i in range(1,10):\n",
    "    print(i)\n",
    "    if i == 5:\n",
    "        break"
   ]
  },
  {
   "cell_type": "code",
   "execution_count": 27,
   "id": "e785c45b-03d5-4e3e-8f75-b8dd8467e6af",
   "metadata": {},
   "outputs": [
    {
     "name": "stdout",
     "output_type": "stream",
     "text": [
      "1\n",
      "2\n",
      "3\n",
      "4\n",
      "6\n",
      "7\n",
      "8\n",
      "9\n"
     ]
    }
   ],
   "source": [
    "for i in range(1,10):\n",
    "    if i == 5:\n",
    "        continue\n",
    "    print(i)"
   ]
  },
  {
   "cell_type": "code",
   "execution_count": 33,
   "id": "bd358adf-3806-40a5-a851-81817858948c",
   "metadata": {},
   "outputs": [
    {
     "name": "stdin",
     "output_type": "stream",
     "text": [
      "Enter the number 7\n"
     ]
    },
    {
     "name": "stdout",
     "output_type": "stream",
     "text": [
      "guess is correct\n"
     ]
    }
   ],
   "source": [
    "import random\n",
    "num = int(input(\"Enter the number\"))\n",
    "random.randint(1,100)\n",
    "if num == 7:\n",
    "    print(\"guess is correct\")\n",
    "else:\n",
    "    print(\"keep guessing\")"
   ]
  },
  {
   "cell_type": "code",
   "execution_count": 36,
   "id": "2c661b33-3bd6-496f-aa25-2c68ed63b9f0",
   "metadata": {},
   "outputs": [
    {
     "data": {
      "text/plain": [
       "31"
      ]
     },
     "execution_count": 36,
     "metadata": {},
     "output_type": "execute_result"
    }
   ],
   "source": [
    "random.randint(1,100)"
   ]
  },
  {
   "cell_type": "code",
   "execution_count": 37,
   "id": "377a0c61-31fb-4080-b680-4126c19d9220",
   "metadata": {},
   "outputs": [
    {
     "name": "stdin",
     "output_type": "stream",
     "text": [
      "Enter your name esha\n"
     ]
    },
    {
     "name": "stdout",
     "output_type": "stream",
     "text": [
      "Hi My nmame is esha\n"
     ]
    }
   ],
   "source": [
    "name = input(\"Enter your name\")\n",
    "print(f\"Hi My nmame is {name}\")"
   ]
  },
  {
   "cell_type": "code",
   "execution_count": 40,
   "id": "7c21c89c-b75d-4a03-9889-4229856adc75",
   "metadata": {},
   "outputs": [
    {
     "name": "stdin",
     "output_type": "stream",
     "text": [
      "Enter the number 8\n"
     ]
    },
    {
     "name": "stdout",
     "output_type": "stream",
     "text": [
      "it is even\n"
     ]
    }
   ],
   "source": [
    "num = int(input(\"Enter the number\"))\n",
    "if num%2!=0:\n",
    "    print(\"it is odd\")\n",
    "else:\n",
    "    print(\"it is even\")"
   ]
  },
  {
   "cell_type": "code",
   "execution_count": 52,
   "id": "292d8f15-63f0-4439-b181-f0b46951b8ed",
   "metadata": {},
   "outputs": [
    {
     "name": "stdin",
     "output_type": "stream",
     "text": [
      "Enter the number 3\n"
     ]
    },
    {
     "name": "stdout",
     "output_type": "stream",
     "text": [
      "it is odd\n"
     ]
    },
    {
     "name": "stdin",
     "output_type": "stream",
     "text": [
      "Enter the number 4\n"
     ]
    },
    {
     "name": "stdout",
     "output_type": "stream",
     "text": [
      "it is even\n"
     ]
    },
    {
     "name": "stdin",
     "output_type": "stream",
     "text": [
      "Enter the number 6\n"
     ]
    },
    {
     "name": "stdout",
     "output_type": "stream",
     "text": [
      "it is even\n"
     ]
    },
    {
     "name": "stdin",
     "output_type": "stream",
     "text": [
      "Enter the number 8\n"
     ]
    },
    {
     "name": "stdout",
     "output_type": "stream",
     "text": [
      "it is even\n"
     ]
    },
    {
     "name": "stdin",
     "output_type": "stream",
     "text": [
      "Enter the number 9\n"
     ]
    },
    {
     "name": "stdout",
     "output_type": "stream",
     "text": [
      "it is odd\n"
     ]
    }
   ],
   "source": [
    "for a in range(5):\n",
    "    num = int(input(\"Enter the number\"))\n",
    "    if num%2!=0:\n",
    "        print(\"it is odd\")\n",
    "    else:\n",
    "        print(\"it is even\")"
   ]
  },
  {
   "cell_type": "code",
   "execution_count": 51,
   "id": "c05f6d94-788f-4bc8-b069-2fde99970c69",
   "metadata": {},
   "outputs": [
    {
     "data": {
      "text/plain": [
       "1"
      ]
     },
     "execution_count": 51,
     "metadata": {},
     "output_type": "execute_result"
    }
   ],
   "source": [
    "7%2"
   ]
  },
  {
   "cell_type": "code",
   "execution_count": 59,
   "id": "814b47cf-2154-45be-a192-1ad06b651ec0",
   "metadata": {},
   "outputs": [
    {
     "name": "stdout",
     "output_type": "stream",
     "text": [
      "0 is less than 5\n",
      "1 is less than 5\n",
      "2 is less than 5\n",
      "3 is less than 5\n",
      "4 is less than 5\n",
      "5 is less than 5\n"
     ]
    }
   ],
   "source": [
    "a = 0\n",
    "bol_var = True\n",
    "while(bol_var):\n",
    "    print(f\"{a} is less than 5\")\n",
    "    a = a+1\n",
    "    if a > 5:\n",
    "        bol_var = False\n",
    "\n",
    "    "
   ]
  },
  {
   "cell_type": "code",
   "execution_count": 73,
   "id": "5a1d1f87-8fd9-4f8c-b7ad-471b0835a73c",
   "metadata": {},
   "outputs": [
    {
     "name": "stdout",
     "output_type": "stream",
     "text": [
      "the number upto 5 is 1\n",
      "the number upto 5 is 2\n",
      "the number upto 5 is 3\n",
      "the number upto 5 is 4\n",
      "the number upto 5 is 5\n"
     ]
    }
   ],
   "source": [
    "a = 1\n",
    "var = True\n",
    "while(var):\n",
    "    print(f\"the number upto 5 is {a}\")\n",
    "    if a==5:\n",
    "        var = False\n",
    "    a = a+1"
   ]
  },
  {
   "cell_type": "code",
   "execution_count": 91,
   "id": "0743fab8-7dbc-4d4b-8eed-0c81ade8273f",
   "metadata": {},
   "outputs": [
    {
     "name": "stdin",
     "output_type": "stream",
     "text": [
      "Enter the number 6\n"
     ]
    },
    {
     "name": "stdout",
     "output_type": "stream",
     "text": [
      "The number is 1\n",
      "The number is 2\n",
      "The number is 3\n",
      "The number is 4\n",
      "The number is 5\n",
      "The number is 6\n"
     ]
    }
   ],
   "source": [
    "num = int(input(\"Enter the number\"))\n",
    "a=1\n",
    "var = True\n",
    "while(var):\n",
    "    print(f\"The number is {a}\")\n",
    "    if a==num:\n",
    "        var = False\n",
    "    a = a+1"
   ]
  },
  {
   "cell_type": "code",
   "execution_count": 1,
   "id": "d1a32186-9ca1-4df7-82e7-673633721688",
   "metadata": {},
   "outputs": [
    {
     "name": "stdin",
     "output_type": "stream",
     "text": [
      "Enter the number 7\n"
     ]
    },
    {
     "name": "stdout",
     "output_type": "stream",
     "text": [
      "1\n",
      "2\n",
      "3\n",
      "4\n",
      "5\n",
      "6\n",
      "7\n"
     ]
    }
   ],
   "source": [
    "num = int(input(\"Enter the number\"))\n",
    "a = 1\n",
    "while(a<=num):\n",
    "    print(a)\n",
    "    a = a+1\n"
   ]
  },
  {
   "cell_type": "code",
   "execution_count": null,
   "id": "16fc96c0-8589-41e3-8fb5-b32e87ee7aea",
   "metadata": {},
   "outputs": [],
   "source": []
  }
 ],
 "metadata": {
  "kernelspec": {
   "display_name": "Python 3 (ipykernel)",
   "language": "python",
   "name": "python3"
  },
  "language_info": {
   "codemirror_mode": {
    "name": "ipython",
    "version": 3
   },
   "file_extension": ".py",
   "mimetype": "text/x-python",
   "name": "python",
   "nbconvert_exporter": "python",
   "pygments_lexer": "ipython3",
   "version": "3.12.4"
  }
 },
 "nbformat": 4,
 "nbformat_minor": 5
}
