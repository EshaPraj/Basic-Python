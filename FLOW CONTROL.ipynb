{
 "cells": [
  {
   "cell_type": "code",
   "execution_count": 1,
   "id": "d0bdea6e-dab0-4e26-97bd-bb7549b2c742",
   "metadata": {},
   "outputs": [],
   "source": [
    "#flow control\n",
    "#if...\n",
    "#else..."
   ]
  },
  {
   "cell_type": "code",
   "execution_count": 3,
   "id": "f36c320d-e9e0-49c1-9eff-325aeded0ac9",
   "metadata": {},
   "outputs": [
    {
     "name": "stdout",
     "output_type": "stream",
     "text": [
      "unauthorized\n"
     ]
    }
   ],
   "source": [
    "age = 17\n",
    "if age < 18:\n",
    "    print(\"unauthorized\")  #(agadi ko space = indentation => 4 spaces / 1 tab)"
   ]
  },
  {
   "cell_type": "code",
   "execution_count": 4,
   "id": "aa269b85-2826-4e55-81c0-94c24e519d60",
   "metadata": {},
   "outputs": [
    {
     "name": "stdin",
     "output_type": "stream",
     "text": [
      "enter the age 15\n"
     ]
    },
    {
     "name": "stdout",
     "output_type": "stream",
     "text": [
      "unauthorized\n"
     ]
    }
   ],
   "source": [
    "age = int(input(\"enter the age\"))\n",
    "if age>=18:\n",
    "    print(\"authorized\")\n",
    "else:\n",
    "    print(\"unauthorized\")"
   ]
  },
  {
   "cell_type": "code",
   "execution_count": 7,
   "id": "fa30b8c0-5cd9-411c-8a3e-2f564beb2267",
   "metadata": {},
   "outputs": [
    {
     "name": "stdin",
     "output_type": "stream",
     "text": [
      "enter the age 13\n"
     ]
    },
    {
     "name": "stdout",
     "output_type": "stream",
     "text": [
      "unauthorized\n"
     ]
    }
   ],
   "source": [
    "age = int(input(\"enter the age\"))\n",
    "if age>=18:\n",
    "    print(\"authorized\")\n",
    "if age<18:\n",
    "    print(\"unauthorized\")"
   ]
  },
  {
   "cell_type": "code",
   "execution_count": 10,
   "id": "3195b656-1e96-43e6-bc11-4c5df9ccfac1",
   "metadata": {},
   "outputs": [
    {
     "name": "stdout",
     "output_type": "stream",
     "text": [
      "hello\n"
     ]
    }
   ],
   "source": [
    "age = 17\n",
    "if age>=18:  #yo condition false vayera vitra ko print kunai pani chaldaina so bahira ko print matra output ma dekhauchha\n",
    "    print(\"authorized\")\n",
    "    print(\"hi\")\n",
    "print(\"hello\")"
   ]
  },
  {
   "cell_type": "code",
   "execution_count": 12,
   "id": "47d60c80-4507-43e3-9808-404fb756bcaf",
   "metadata": {},
   "outputs": [
    {
     "name": "stdout",
     "output_type": "stream",
     "text": [
      "authorized\n",
      "hi\n",
      "hello\n"
     ]
    }
   ],
   "source": [
    "age = 19\n",
    "if age>=18:  #yo condition True vayera vitra ko print pani chalchha, bahira ko ta chalne nai vayo \n",
    "    print(\"authorized\")\n",
    "    print(\"hi\")\n",
    "print(\"hello\")"
   ]
  },
  {
   "cell_type": "code",
   "execution_count": 14,
   "id": "b5ed1a37-a3a0-426e-baa1-18c5bd32e470",
   "metadata": {},
   "outputs": [
    {
     "name": "stdin",
     "output_type": "stream",
     "text": [
      "Enter the marks 46\n"
     ]
    },
    {
     "name": "stdout",
     "output_type": "stream",
     "text": [
      "You have passed\n"
     ]
    }
   ],
   "source": [
    "marks = int(input(\"Enter the marks\"))\n",
    "if marks>=45:\n",
    "    print(\"You have passed\")\n",
    "if marks<45:\n",
    "    print(\"Study hard\")"
   ]
  },
  {
   "cell_type": "code",
   "execution_count": 15,
   "id": "9570c140-ee6e-497e-b8f6-ebf3eef54161",
   "metadata": {},
   "outputs": [],
   "source": [
    "#ask user two numbers and find which one is greatest"
   ]
  }
 ],
 "metadata": {
  "kernelspec": {
   "display_name": "Python 3 (ipykernel)",
   "language": "python",
   "name": "python3"
  },
  "language_info": {
   "codemirror_mode": {
    "name": "ipython",
    "version": 3
   },
   "file_extension": ".py",
   "mimetype": "text/x-python",
   "name": "python",
   "nbconvert_exporter": "python",
   "pygments_lexer": "ipython3",
   "version": "3.12.4"
  }
 },
 "nbformat": 4,
 "nbformat_minor": 5
}
