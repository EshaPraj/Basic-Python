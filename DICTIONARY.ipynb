{
 "cells": [
  {
   "cell_type": "code",
   "execution_count": 1,
   "id": "2d004a2f-c8ab-452a-b82d-f5f57242b38a",
   "metadata": {},
   "outputs": [
    {
     "name": "stdout",
     "output_type": "stream",
     "text": [
      "{'id': 1, 'name': 'esha', 'age': 22, 'contact': 32894029, 'salary': 9819346.32794} <class 'dict'>\n"
     ]
    }
   ],
   "source": [
    "#dictionary\n",
    "person = {\n",
    "    \"id\" : 1,\n",
    "    \"name\" : \"esha\",\n",
    "    \"age\" : 22,\n",
    "    \"contact\" : 32894029,\n",
    "    \"salary\" : 9819346.32794\n",
    "}\n",
    "\n",
    "print(person, type(person))"
   ]
  },
  {
   "cell_type": "code",
   "execution_count": 2,
   "id": "5756975c-8d2d-4edc-8750-419cf31f5ea2",
   "metadata": {},
   "outputs": [
    {
     "name": "stdout",
     "output_type": "stream",
     "text": [
      "esha\n"
     ]
    }
   ],
   "source": [
    "print(person['name'])"
   ]
  },
  {
   "cell_type": "code",
   "execution_count": 4,
   "id": "0013d666-4d57-420e-a59f-8ee7bf93ef16",
   "metadata": {},
   "outputs": [
    {
     "name": "stdout",
     "output_type": "stream",
     "text": [
      "{'id': 1, 'name': 'esha', 'age': 22, 'contact': 32894029, 'salary': 9819346.32794, 'email': 'esha@gmail.com'}\n"
     ]
    }
   ],
   "source": [
    "person = {\n",
    "    \"id\" : 1,\n",
    "    \"name\" : \"esha\",\n",
    "    \"age\" : 22,\n",
    "    \"contact\" : 32894029,\n",
    "    \"salary\" : 9819346.32794\n",
    "}\n",
    "person['email'] = 'esha@gmail.com'\n",
    "print(person)"
   ]
  },
  {
   "cell_type": "code",
   "execution_count": 5,
   "id": "071b3e38-9bc9-4dc0-9cf3-deb9e6946251",
   "metadata": {},
   "outputs": [
    {
     "name": "stdout",
     "output_type": "stream",
     "text": [
      "{'id': 1, 'name': 'esha', 'contact': 32894029, 'salary': 9819346.32794}\n"
     ]
    }
   ],
   "source": [
    "person = {\n",
    "    \"id\" : 1,\n",
    "    \"name\" : \"esha\",\n",
    "    \"age\" : 22,\n",
    "    \"contact\" : 32894029,\n",
    "    \"salary\" : 9819346.32794\n",
    "}\n",
    "del person['age']\n",
    "print(person)"
   ]
  },
  {
   "cell_type": "code",
   "execution_count": 6,
   "id": "df3f2192-3a7b-4936-837b-ea65a239bd60",
   "metadata": {},
   "outputs": [],
   "source": [
    "#help(dict)"
   ]
  },
  {
   "cell_type": "code",
   "execution_count": 9,
   "id": "d936e61c-11b1-4337-9ea5-80b036ab3ea5",
   "metadata": {},
   "outputs": [],
   "source": [
    "person = {\n",
    "    \"id\" : 1,\n",
    "    \"name\" : \"esha\",\n",
    "    \"age\" : 22,\n",
    "    \"contact\" : 32894029,\n",
    "    \"salary\" : 9819346.32794\n",
    "}\n",
    "person.clear()    #remove all the data"
   ]
  },
  {
   "cell_type": "code",
   "execution_count": 8,
   "id": "abc08ea0-7188-4080-b2b9-476620126514",
   "metadata": {},
   "outputs": [
    {
     "name": "stdout",
     "output_type": "stream",
     "text": [
      "{}\n"
     ]
    }
   ],
   "source": [
    "print(person)"
   ]
  },
  {
   "cell_type": "code",
   "execution_count": 11,
   "id": "9fd80304-321c-4360-8bdd-fbef41694dc0",
   "metadata": {},
   "outputs": [
    {
     "name": "stdout",
     "output_type": "stream",
     "text": [
      "{'id': 1, 'name': 'esha', 'age': 22, 'contact': 32894029, 'salary': 9819346.32794, 'email': 'esha@gmail.com'}\n",
      "{'id': 1, 'name': 'esha', 'age': 22, 'contact': 32894029, 'salary': 9819346.32794, 'email': 'esha@gmail.com'}\n"
     ]
    }
   ],
   "source": [
    "x = {\n",
    "    \"id\" : 1,\n",
    "    \"name\" : \"esha\",\n",
    "    \"age\" : 22,\n",
    "    \"contact\" : 32894029,\n",
    "    \"salary\" : 9819346.32794\n",
    "}\n",
    "y = x\n",
    "y['email'] = \"esha@gmail.com\"\n",
    "print(x)\n",
    "print(y)"
   ]
  },
  {
   "cell_type": "code",
   "execution_count": 13,
   "id": "7e3db550-bcdf-44cf-aecc-92cbe10d7c05",
   "metadata": {},
   "outputs": [
    {
     "name": "stdout",
     "output_type": "stream",
     "text": [
      "{'id': 1, 'name': 'esha', 'age': 22, 'contact': 32894029, 'salary': 9819346.32794}\n",
      "{'id': 1, 'name': 'esha', 'age': 22, 'contact': 32894029, 'salary': 9819346.32794, 'email': 'esha@gmail.com'}\n"
     ]
    }
   ],
   "source": [
    "x = {\n",
    "    \"id\" : 1,\n",
    "    \"name\" : \"esha\",\n",
    "    \"age\" : 22,\n",
    "    \"contact\" : 32894029,\n",
    "    \"salary\" : 9819346.32794\n",
    "}\n",
    "y = x.copy()  #y ko output ma matra badhchha email vanne key ra esko value\n",
    "y['email'] = \"esha@gmail.com\"\n",
    "print(x)\n",
    "print(y)"
   ]
  },
  {
   "cell_type": "code",
   "execution_count": 14,
   "id": "b66003f7-2563-48bc-a7f5-7e4f0be1a8e1",
   "metadata": {},
   "outputs": [
    {
     "ename": "KeyError",
     "evalue": "'email'",
     "output_type": "error",
     "traceback": [
      "\u001b[1;31m---------------------------------------------------------------------------\u001b[0m",
      "\u001b[1;31mKeyError\u001b[0m                                  Traceback (most recent call last)",
      "Cell \u001b[1;32mIn[14], line 8\u001b[0m\n\u001b[0;32m      1\u001b[0m x \u001b[38;5;241m=\u001b[39m {\n\u001b[0;32m      2\u001b[0m     \u001b[38;5;124m\"\u001b[39m\u001b[38;5;124mid\u001b[39m\u001b[38;5;124m\"\u001b[39m : \u001b[38;5;241m1\u001b[39m,\n\u001b[0;32m      3\u001b[0m     \u001b[38;5;124m\"\u001b[39m\u001b[38;5;124mname\u001b[39m\u001b[38;5;124m\"\u001b[39m : \u001b[38;5;124m\"\u001b[39m\u001b[38;5;124mesha\u001b[39m\u001b[38;5;124m\"\u001b[39m,\n\u001b[1;32m   (...)\u001b[0m\n\u001b[0;32m      6\u001b[0m     \u001b[38;5;124m\"\u001b[39m\u001b[38;5;124msalary\u001b[39m\u001b[38;5;124m\"\u001b[39m : \u001b[38;5;241m9819346.32794\u001b[39m\n\u001b[0;32m      7\u001b[0m }\n\u001b[1;32m----> 8\u001b[0m \u001b[43mperson\u001b[49m\u001b[43m[\u001b[49m\u001b[38;5;124;43m'\u001b[39;49m\u001b[38;5;124;43memail\u001b[39;49m\u001b[38;5;124;43m'\u001b[39;49m\u001b[43m]\u001b[49m\n\u001b[0;32m      9\u001b[0m \u001b[38;5;28mprint\u001b[39m(\u001b[38;5;124m'\u001b[39m\u001b[38;5;124mhello\u001b[39m\u001b[38;5;124m'\u001b[39m)\n",
      "\u001b[1;31mKeyError\u001b[0m: 'email'"
     ]
    }
   ],
   "source": [
    "x = {\n",
    "    \"id\" : 1,\n",
    "    \"name\" : \"esha\",\n",
    "    \"age\" : 22,\n",
    "    \"contact\" : 32894029,\n",
    "    \"salary\" : 9819346.32794\n",
    "}\n",
    "person['email']\n",
    "print('hello')"
   ]
  },
  {
   "cell_type": "code",
   "execution_count": 15,
   "id": "dbfc83b7-c1a7-4b8e-8468-cd3d5ffea4d4",
   "metadata": {},
   "outputs": [
    {
     "name": "stdout",
     "output_type": "stream",
     "text": [
      "None <class 'NoneType'>\n"
     ]
    }
   ],
   "source": [
    "x = None  #None Datastructure\n",
    "print(x, type(x))"
   ]
  },
  {
   "cell_type": "code",
   "execution_count": 18,
   "id": "44d27757-b22b-4241-8f9b-d4b8dcd6c84a",
   "metadata": {},
   "outputs": [
    {
     "name": "stdout",
     "output_type": "stream",
     "text": [
      "None\n"
     ]
    }
   ],
   "source": [
    "person = {\n",
    "    \"id\" : 1,\n",
    "    \"name\" : \"esha\",\n",
    "    \"age\" : 22,\n",
    "    \"contact\" : 32894029,\n",
    "    \"salary\" : 9819346.32794\n",
    "}\n",
    "print(person.get(\"email\"))   #get == value dini"
   ]
  },
  {
   "cell_type": "code",
   "execution_count": 19,
   "id": "1fa8a94b-890e-4844-a1fe-782c5e41b08f",
   "metadata": {},
   "outputs": [
    {
     "name": "stdout",
     "output_type": "stream",
     "text": [
      "22\n"
     ]
    }
   ],
   "source": [
    "person = {\n",
    "    \"id\" : 1,\n",
    "    \"name\" : \"esha\",\n",
    "    \"age\" : 22,\n",
    "    \"contact\" : 32894029,\n",
    "    \"salary\" : 9819346.32794\n",
    "}\n",
    "print(person.get(\"age\"))"
   ]
  },
  {
   "cell_type": "code",
   "execution_count": 20,
   "id": "470c313e-978b-420a-9abd-6947f3aee268",
   "metadata": {},
   "outputs": [
    {
     "name": "stdout",
     "output_type": "stream",
     "text": [
      "esha@gmail.com\n"
     ]
    }
   ],
   "source": [
    "person = {\n",
    "    \"id\" : 1,\n",
    "    \"name\" : \"esha\",\n",
    "    \"age\" : 22,\n",
    "    \"contact\" : 32894029,\n",
    "    \"salary\" : 9819346.32794\n",
    "}\n",
    "print(person.get(\"email\", \"esha@gmail.com\"))\n"
   ]
  },
  {
   "cell_type": "code",
   "execution_count": 22,
   "id": "89cc9cc0-c75b-4d74-bba6-ee7e81b125be",
   "metadata": {},
   "outputs": [
    {
     "name": "stdout",
     "output_type": "stream",
     "text": [
      "esha@gmail.com\n",
      "{'id': 1, 'name': 'esha', 'age': 22, 'contact': 32894029, 'salary': 9819346.32794, 'email': 'esha@gmail.com'}\n"
     ]
    }
   ],
   "source": [
    "person = {\n",
    "    \"id\" : 1,\n",
    "    \"name\" : \"esha\",\n",
    "    \"age\" : 22,\n",
    "    \"contact\" : 32894029,\n",
    "    \"salary\" : 9819346.32794\n",
    "}\n",
    "print(person.setdefault(\"email\", \"esha@gmail.com\"))  ##output ma pani person ko vitra add gardinchha, \n",
    "#get le email ko matra output dinchha\n",
    "print(person)"
   ]
  },
  {
   "cell_type": "code",
   "execution_count": 24,
   "id": "8300e37c-5b30-440d-a2b6-990ccdbad708",
   "metadata": {},
   "outputs": [
    {
     "name": "stdout",
     "output_type": "stream",
     "text": [
      "ram@gmail.com\n",
      "{'id': 1, 'name': 'esha', 'age': 22, 'email': 'ram@gmail.com', 'contact': 32894029, 'salary': 9819346.32794}\n"
     ]
    }
   ],
   "source": [
    "#setdefault le purano value j chha tei dinchha, naya replace gardaina\n",
    "person = {\n",
    "    \"id\" : 1,\n",
    "    \"name\" : \"esha\",\n",
    "    \"age\" : 22,\n",
    "    \"email\": \"ram@gmail.com\",\n",
    "    \"contact\" : 32894029,\n",
    "    \"salary\" : 9819346.32794\n",
    "}\n",
    "print(person.setdefault(\"email\", \"esha@gmail.com\"))  #paila kai email ko value output ma dekhauchha\n",
    "print(person)"
   ]
  },
  {
   "cell_type": "code",
   "execution_count": 26,
   "id": "03c3f30c-2ea8-46cf-ac94-bb58e6f44f78",
   "metadata": {},
   "outputs": [
    {
     "name": "stdout",
     "output_type": "stream",
     "text": [
      "dict_keys(['id', 'name', 'age', 'email', 'contact', 'salary'])\n"
     ]
    }
   ],
   "source": [
    "person = {\n",
    "    \"id\" : 1,\n",
    "    \"name\" : \"esha\",\n",
    "    \"age\" : 22,\n",
    "    \"email\": \"ram@gmail.com\",\n",
    "    \"contact\" : 32894029,\n",
    "    \"salary\" : 9819346.32794\n",
    "}\n",
    "print(person.keys())"
   ]
  },
  {
   "cell_type": "code",
   "execution_count": 27,
   "id": "af77c975-ea74-4f1b-aabb-800ef9c0ac83",
   "metadata": {},
   "outputs": [
    {
     "name": "stdout",
     "output_type": "stream",
     "text": [
      "dict_values([1, 'esha', 22, 'ram@gmail.com', 32894029, 9819346.32794])\n"
     ]
    }
   ],
   "source": [
    "person = {\n",
    "    \"id\" : 1,\n",
    "    \"name\" : \"esha\",\n",
    "    \"age\" : 22,\n",
    "    \"email\": \"ram@gmail.com\",\n",
    "    \"contact\" : 32894029,\n",
    "    \"salary\" : 9819346.32794\n",
    "}\n",
    "print(person.values())"
   ]
  },
  {
   "cell_type": "code",
   "execution_count": 28,
   "id": "1600b46a-5c50-4695-9fcd-d44a1ca42c69",
   "metadata": {},
   "outputs": [
    {
     "name": "stdout",
     "output_type": "stream",
     "text": [
      "dict_items([('id', 1), ('name', 'esha'), ('age', 22), ('email', 'ram@gmail.com'), ('contact', 32894029), ('salary', 9819346.32794)])\n"
     ]
    }
   ],
   "source": [
    "person = {\n",
    "    \"id\" : 1,\n",
    "    \"name\" : \"esha\",\n",
    "    \"age\" : 22,\n",
    "    \"email\": \"ram@gmail.com\",\n",
    "    \"contact\" : 32894029,\n",
    "    \"salary\" : 9819346.32794\n",
    "}\n",
    "print(person.items())"
   ]
  },
  {
   "cell_type": "code",
   "execution_count": 30,
   "id": "3d86caf8-b835-459c-a083-9f28c5a58509",
   "metadata": {},
   "outputs": [
    {
     "name": "stdout",
     "output_type": "stream",
     "text": [
      "esha\n",
      "{'id': 1, 'age': 22, 'email': 'ram@gmail.com', 'contact': 32894029, 'salary': 9819346.32794}\n"
     ]
    }
   ],
   "source": [
    "person = {\n",
    "    \"id\" : 1,\n",
    "    \"name\" : \"esha\",\n",
    "    \"age\" : 22,\n",
    "    \"email\": \"ram@gmail.com\",\n",
    "    \"contact\" : 32894029,\n",
    "    \"salary\" : 9819346.32794\n",
    "}\n",
    "print(person.pop(\"name\"))\n",
    "print(person)"
   ]
  },
  {
   "cell_type": "code",
   "execution_count": 32,
   "id": "01c9c877-3c0f-4a50-a20a-4f63f10c9c83",
   "metadata": {},
   "outputs": [
    {
     "name": "stdout",
     "output_type": "stream",
     "text": [
      "('salary', 9819346.32794)\n",
      "{'id': 1, 'name': 'esha', 'age': 22, 'email': 'ram@gmail.com', 'contact': 32894029}\n"
     ]
    }
   ],
   "source": [
    "person = {\n",
    "    \"id\" : 1,\n",
    "    \"name\" : \"esha\",\n",
    "    \"age\" : 22,\n",
    "    \"email\": \"ram@gmail.com\",\n",
    "    \"contact\" : 32894029,\n",
    "    \"salary\" : 9819346.32794\n",
    "}\n",
    "print(person.popitem())  ##last ko hatchha\n",
    "print(person)"
   ]
  },
  {
   "cell_type": "code",
   "execution_count": 36,
   "id": "5d5f2c42-ffc2-40f0-9d8d-4ac5b3a2094d",
   "metadata": {},
   "outputs": [
    {
     "name": "stdout",
     "output_type": "stream",
     "text": [
      "{'id': 1, 'name': 'esha', 'age': 22, 'email': 'eshapraz@gmail.com', 'contact': 32894029, 'salary': 9819346.32794, 'address': 'ktm'}\n"
     ]
    }
   ],
   "source": [
    "person = {\n",
    "    \"id\" : 1,\n",
    "    \"name\" : \"esha\",\n",
    "    \"age\" : 22,\n",
    "    \"email\": \"ram@gmail.com\",\n",
    "    \"contact\" : 32894029,\n",
    "    \"salary\" : 9819346.32794\n",
    "}\n",
    "person.update({\"email\":\"eshapraz@gmail.com\", \"address\":\"ktm\"})\n",
    "print(person)"
   ]
  },
  {
   "cell_type": "code",
   "execution_count": 38,
   "id": "ab268283-ea45-4685-b46d-96c40cfdbbd5",
   "metadata": {},
   "outputs": [],
   "source": [
    "#tuple, int, float, complex (no.of datatypes), string => immutable\n",
    "#list, set, dictionary => mutable"
   ]
  },
  {
   "cell_type": "code",
   "execution_count": null,
   "id": "86737b11-1ebb-46d7-80a4-15b43771017e",
   "metadata": {},
   "outputs": [],
   "source": []
  }
 ],
 "metadata": {
  "kernelspec": {
   "display_name": "Python 3 (ipykernel)",
   "language": "python",
   "name": "python3"
  },
  "language_info": {
   "codemirror_mode": {
    "name": "ipython",
    "version": 3
   },
   "file_extension": ".py",
   "mimetype": "text/x-python",
   "name": "python",
   "nbconvert_exporter": "python",
   "pygments_lexer": "ipython3",
   "version": "3.12.4"
  }
 },
 "nbformat": 4,
 "nbformat_minor": 5
}
