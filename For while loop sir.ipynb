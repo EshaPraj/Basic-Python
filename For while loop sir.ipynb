{
 "cells": [
  {
   "cell_type": "code",
   "execution_count": 7,
   "id": "1a37b205-2028-4fc4-a4fb-eb3d534a9dd2",
   "metadata": {},
   "outputs": [
    {
     "name": "stdout",
     "output_type": "stream",
     "text": [
      "ram eat momo\n",
      "ram eat chowmein\n",
      "ram eat pasta\n",
      "shyam eat momo\n",
      "shyam eat chowmein\n",
      "shyam eat pasta\n",
      "hari eat momo\n",
      "hari eat chowmein\n",
      "hari eat pasta\n"
     ]
    }
   ],
   "source": [
    "names = ['ram', 'shyam', 'hari']\n",
    "foods = ['momo','chowmein', 'pasta']\n",
    "for name in names:\n",
    "    for food in foods:\n",
    "        print(f\"{name} eat {food}\")"
   ]
  },
  {
   "cell_type": "code",
   "execution_count": 2,
   "id": "b45071d2-93fa-405f-9d00-bc98b39f5ebb",
   "metadata": {},
   "outputs": [
    {
     "name": "stdout",
     "output_type": "stream",
     "text": [
      "ram\n",
      "shyam\n",
      "sita\n",
      "gita\n"
     ]
    }
   ],
   "source": [
    "names = ['ram', 'shyam', 'sita', 'gita']\n",
    "\n",
    "for i in names:\n",
    "    print(i)"
   ]
  },
  {
   "cell_type": "code",
   "execution_count": 8,
   "id": "8ba7cc03-9d51-45bf-b1e0-36ca1bc75a0d",
   "metadata": {},
   "outputs": [
    {
     "name": "stdout",
     "output_type": "stream",
     "text": [
      "ram\n",
      "shyam\n",
      "sita\n",
      "gita\n"
     ]
    }
   ],
   "source": [
    "names = ['ram', 'shyam', 'sita', 'gita']\n",
    "i = 0  #initialize\n",
    "while i<len(names):  #0<4  , 1<4, 2<4, 3< 4 ...... 4<4   #condition\n",
    "    print(names[i])\n",
    "    i+=1  #incrementer/decrementer"
   ]
  },
  {
   "cell_type": "code",
   "execution_count": 12,
   "id": "ca079103-84c2-4ed9-9cff-99def9ed04e3",
   "metadata": {},
   "outputs": [
    {
     "name": "stdout",
     "output_type": "stream",
     "text": [
      "The sum of numbers is: 10\n"
     ]
    }
   ],
   "source": [
    "numbers = [1, 2, 3, 4]\n",
    "sum = 0\n",
    "for i in numbers:\n",
    "    sum+=i\n",
    "print(f\"The sum of numbers is: {sum}\")"
   ]
  },
  {
   "cell_type": "code",
   "execution_count": 14,
   "id": "f2282bfd-4830-47de-a533-adac8f0325e4",
   "metadata": {},
   "outputs": [
    {
     "name": "stdout",
     "output_type": "stream",
     "text": [
      "10\n"
     ]
    }
   ],
   "source": [
    "numbers = [1, 2, 3, 4]\n",
    "sum = 0\n",
    "i = 0\n",
    "while i < len(numbers):   #4 < 4\n",
    "    sum += numbers[i]  #0 + 1+ 2+ 3+ 4\n",
    "    i += 1 #4\n",
    "    \n",
    "print(sum)\n"
   ]
  },
  {
   "cell_type": "code",
   "execution_count": 15,
   "id": "cc3b7552-c68c-4a67-9371-fc2a6f09f42a",
   "metadata": {},
   "outputs": [],
   "source": [
    "# for\n",
    "# => finite iteration\n",
    "#=> if you know how many times you are iterating\n",
    "\n",
    "#while\n",
    "#=> inifinite iteration\n",
    "#=> if you don't know how many times you are iterating"
   ]
  },
  {
   "cell_type": "markdown",
   "id": "8b56556c-03b6-47f6-a92c-59b1d1cd5586",
   "metadata": {},
   "source": [
    "##### age = int(input(\"enter the age\"))\n",
    "while age< 18:\n",
    "    age = int(input(\"enter your age:\"))\n",
    "print(\"WELCOME\")"
   ]
  },
  {
   "cell_type": "code",
   "execution_count": null,
   "id": "01b9d6b9-4293-45e7-9425-75eabbae08a1",
   "metadata": {},
   "outputs": [],
   "source": []
  }
 ],
 "metadata": {
  "kernelspec": {
   "display_name": "Python 3 (ipykernel)",
   "language": "python",
   "name": "python3"
  },
  "language_info": {
   "codemirror_mode": {
    "name": "ipython",
    "version": 3
   },
   "file_extension": ".py",
   "mimetype": "text/x-python",
   "name": "python",
   "nbconvert_exporter": "python",
   "pygments_lexer": "ipython3",
   "version": "3.12.4"
  }
 },
 "nbformat": 4,
 "nbformat_minor": 5
}
