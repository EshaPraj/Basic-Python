{
 "cells": [
  {
   "cell_type": "code",
   "execution_count": 1,
   "id": "b6ad52d7-1154-41ca-90f1-0ef10acd69e0",
   "metadata": {},
   "outputs": [],
   "source": [
    "#set"
   ]
  },
  {
   "cell_type": "code",
   "execution_count": 3,
   "id": "0e4d7003-30f2-4c18-91fe-c40aae3c3ba6",
   "metadata": {},
   "outputs": [
    {
     "name": "stdout",
     "output_type": "stream",
     "text": [
      "{1, 2, 3, 4, 5} <class 'set'>\n"
     ]
    }
   ],
   "source": [
    "s = {1, 2, 3, 4, 5}\n",
    "print(s, type(s))"
   ]
  },
  {
   "cell_type": "code",
   "execution_count": 6,
   "id": "a4da280f-b7e7-4a78-a0d0-c06d8a3f0eaa",
   "metadata": {},
   "outputs": [
    {
     "name": "stdout",
     "output_type": "stream",
     "text": [
      "{1, 2, 3, 4, 5, 'ram', (6, 7, 8), 'shyam', 'hari'}\n"
     ]
    }
   ],
   "source": [
    "#set is in unordered collection\n",
    "s={'ram', 3, 4, 5,'hari', 1, 2, 'shyam', (6,7,8)}\n",
    "print(s)"
   ]
  },
  {
   "cell_type": "code",
   "execution_count": 8,
   "id": "ad238c72-e1b2-4788-b3e4-efcff28fcf0e",
   "metadata": {},
   "outputs": [
    {
     "name": "stdout",
     "output_type": "stream",
     "text": [
      "{1, 2, 3, 4, 5, 'ram', (6, 7, 8), 'shyam'}\n"
     ]
    }
   ],
   "source": [
    "#collects unique unordered collection\n",
    "s= {'ram', 1, 2,'ram', 4, 5, 3, 'shyam', 'ram', (6, 7, 8)}\n",
    "print(s)"
   ]
  },
  {
   "cell_type": "code",
   "execution_count": 9,
   "id": "d41e987a-a6da-4b14-a08a-6a880a23f141",
   "metadata": {},
   "outputs": [
    {
     "ename": "TypeError",
     "evalue": "unhashable type: 'list'",
     "output_type": "error",
     "traceback": [
      "\u001b[1;31m---------------------------------------------------------------------------\u001b[0m",
      "\u001b[1;31mTypeError\u001b[0m                                 Traceback (most recent call last)",
      "Cell \u001b[1;32mIn[9], line 2\u001b[0m\n\u001b[0;32m      1\u001b[0m \u001b[38;5;66;03m#we cannot add mutable datastructure = [list]\u001b[39;00m\n\u001b[1;32m----> 2\u001b[0m s \u001b[38;5;241m=\u001b[39m {\u001b[38;5;124m'\u001b[39m\u001b[38;5;124mram\u001b[39m\u001b[38;5;124m'\u001b[39m, \u001b[38;5;241m1\u001b[39m, \u001b[38;5;241m2\u001b[39m,\u001b[38;5;124m'\u001b[39m\u001b[38;5;124mram\u001b[39m\u001b[38;5;124m'\u001b[39m, \u001b[38;5;241m4\u001b[39m, \u001b[38;5;241m5\u001b[39m, \u001b[38;5;241m3\u001b[39m, \u001b[38;5;124m'\u001b[39m\u001b[38;5;124mshyam\u001b[39m\u001b[38;5;124m'\u001b[39m, \u001b[38;5;124m'\u001b[39m\u001b[38;5;124mram\u001b[39m\u001b[38;5;124m'\u001b[39m, (\u001b[38;5;241m6\u001b[39m, \u001b[38;5;241m7\u001b[39m, \u001b[38;5;241m8\u001b[39m), [\u001b[38;5;241m4\u001b[39m, \u001b[38;5;241m5\u001b[39m, \u001b[38;5;241m6\u001b[39m]}\n\u001b[0;32m      3\u001b[0m \u001b[38;5;28mprint\u001b[39m(s)\n",
      "\u001b[1;31mTypeError\u001b[0m: unhashable type: 'list'"
     ]
    }
   ],
   "source": [
    "#we cannot add mutable datastructure = [list]\n",
    "s = {'ram', 1, 2,'ram', 4, 5, 3, 'shyam', 'ram', (6, 7, 8), [4, 5, 6]}\n",
    "print(s)"
   ]
  },
  {
   "cell_type": "code",
   "execution_count": 11,
   "id": "53c39cc9-5864-4722-b1eb-e9d2b2fc3f41",
   "metadata": {},
   "outputs": [],
   "source": [
    "empty_str = '' #str ()\n",
    "empty_list = []  #list()\n",
    "empty_tuple = () #tuple()\n",
    "empty_set = set()  #set()\n",
    "empty_dict = {} #dict()"
   ]
  },
  {
   "cell_type": "code",
   "execution_count": 12,
   "id": "a4f25639-d0d1-4f8b-93a8-57443572e9c3",
   "metadata": {},
   "outputs": [
    {
     "name": "stdout",
     "output_type": "stream",
     "text": [
      "{'shiva', 'ram', 'sita', 'esha', 'shyam', 'kapil', 'gita'}\n"
     ]
    }
   ],
   "source": [
    "tea = {'ram', 'shyam', 'gita', 'sita'}\n",
    "coffee = {'shiva', 'kapil', 'esha', 'gita'}\n",
    "\n",
    "tea_or_coffee = tea | coffee #set union\n",
    "print(tea_or_coffee)"
   ]
  },
  {
   "cell_type": "code",
   "execution_count": 13,
   "id": "ed74a0af-6576-44d5-8b50-29abd5e84251",
   "metadata": {},
   "outputs": [
    {
     "name": "stdout",
     "output_type": "stream",
     "text": [
      "{'shiva', 'ram', 'sita', 'esha', 'shyam', 'kapil', 'gita'}\n"
     ]
    }
   ],
   "source": [
    "tea = {'ram', 'shyam', 'gita', 'sita'}\n",
    "coffee = {'shiva', 'kapil', 'esha', 'gita'}\n",
    "\n",
    "tea_or_coffee = tea.union(coffee) #set union\n",
    "print(tea_or_coffee)"
   ]
  },
  {
   "cell_type": "code",
   "execution_count": 18,
   "id": "94fcb1ee-212a-4bb3-b053-4cd23a3a90da",
   "metadata": {},
   "outputs": [
    {
     "name": "stdout",
     "output_type": "stream",
     "text": [
      "{'gita'}\n"
     ]
    }
   ],
   "source": [
    "tea = {'ram', 'shyam', 'gita', 'sita'}\n",
    "coffee = {'shiva', 'kapil', 'esha', 'gita'}\n",
    "tea_and_coffee = tea & coffee #set intersection\n",
    "print(tea_and_coffee)"
   ]
  },
  {
   "cell_type": "code",
   "execution_count": 19,
   "id": "b49f6de7-7e9a-4761-a3e2-700f988a051c",
   "metadata": {},
   "outputs": [
    {
     "name": "stdout",
     "output_type": "stream",
     "text": [
      "{'gita'}\n"
     ]
    }
   ],
   "source": [
    "tea = {'ram', 'shyam', 'gita', 'sita'}\n",
    "coffee = {'shiva', 'kapil', 'esha', 'gita'}\n",
    "tea_and_coffee = tea.intersection(coffee) #set intersection\n",
    "print(tea_and_coffee)"
   ]
  },
  {
   "cell_type": "code",
   "execution_count": 22,
   "id": "07315b25-2158-49d0-ab16-2678320c65e1",
   "metadata": {},
   "outputs": [
    {
     "name": "stdout",
     "output_type": "stream",
     "text": [
      "{'ram', 'sita', 'shyam'}\n"
     ]
    }
   ],
   "source": [
    "tea = {'ram', 'shyam', 'gita', 'sita'}   #common hataune\n",
    "coffee = {'shiva', 'kapil', 'esha', 'gita'}\n",
    "tea_only = tea - coffee #set difference\n",
    "print(tea_only)"
   ]
  },
  {
   "cell_type": "code",
   "execution_count": 24,
   "id": "4db1feeb-69b7-4198-a0aa-d6480b94f04a",
   "metadata": {},
   "outputs": [
    {
     "name": "stdout",
     "output_type": "stream",
     "text": [
      "{'esha', 'kapil', 'shiva'}\n"
     ]
    }
   ],
   "source": [
    "tea = {'ram', 'shyam', 'gita', 'sita'}\n",
    "coffee = {'shiva', 'kapil', 'esha', 'gita'}  #common hataune\n",
    "coffee_only = coffee - tea #set difference\n",
    "print(coffee_only)"
   ]
  },
  {
   "cell_type": "code",
   "execution_count": 25,
   "id": "bf4dca30-aec1-4022-99f1-6bd98e2f37fe",
   "metadata": {},
   "outputs": [
    {
     "name": "stdout",
     "output_type": "stream",
     "text": [
      "{'esha', 'kapil', 'shiva'}\n"
     ]
    }
   ],
   "source": [
    "tea = {'ram', 'shyam', 'gita', 'sita'}\n",
    "coffee = {'shiva', 'kapil', 'esha', 'gita'}  #common hataune\n",
    "coffee_only = coffee.difference(tea) #set difference\n",
    "print(coffee_only)"
   ]
  },
  {
   "cell_type": "code",
   "execution_count": 27,
   "id": "d109cf6a-ad00-4923-bbee-8636432a2953",
   "metadata": {},
   "outputs": [
    {
     "name": "stdout",
     "output_type": "stream",
     "text": [
      "{'shiva', 'ram', 'esha', 'sita', 'shyam', 'kapil'}\n"
     ]
    }
   ],
   "source": [
    "tea = {'ram', 'shyam', 'gita', 'sita'}\n",
    "coffee = {'shiva', 'kapil', 'esha', 'gita'}\n",
    "tea_only_or_coffee_only = tea.symmetric_difference(coffee)  #common bahek sabai output dinchha\n",
    "print(tea_only_or_coffee_only)"
   ]
  },
  {
   "cell_type": "code",
   "execution_count": 29,
   "id": "bff53b28-fbc6-499f-9660-b0068e73e180",
   "metadata": {},
   "outputs": [
    {
     "name": "stdout",
     "output_type": "stream",
     "text": [
      "{1, 2.6, 3, 'shyam', '31', (4, 5, 6), 'ram', 'hari'}\n"
     ]
    }
   ],
   "source": [
    "s = {'ram', 'shyam', 1, 2.6, 3, 'hari', (4, 5, 6), 'ram'}\n",
    "s.add('31')\n",
    "print(s)"
   ]
  },
  {
   "cell_type": "code",
   "execution_count": 33,
   "id": "cfb8592e-9335-42a6-a58a-2d866814723f",
   "metadata": {},
   "outputs": [
    {
     "ename": "AttributeError",
     "evalue": "'set' object has no attribute 'append'",
     "output_type": "error",
     "traceback": [
      "\u001b[1;31m---------------------------------------------------------------------------\u001b[0m",
      "\u001b[1;31mAttributeError\u001b[0m                            Traceback (most recent call last)",
      "Cell \u001b[1;32mIn[33], line 2\u001b[0m\n\u001b[0;32m      1\u001b[0m s \u001b[38;5;241m=\u001b[39m {\u001b[38;5;124m'\u001b[39m\u001b[38;5;124mram\u001b[39m\u001b[38;5;124m'\u001b[39m, \u001b[38;5;124m'\u001b[39m\u001b[38;5;124mshyam\u001b[39m\u001b[38;5;124m'\u001b[39m, \u001b[38;5;241m1\u001b[39m, \u001b[38;5;241m2.6\u001b[39m, \u001b[38;5;241m3\u001b[39m, \u001b[38;5;124m'\u001b[39m\u001b[38;5;124mhari\u001b[39m\u001b[38;5;124m'\u001b[39m, (\u001b[38;5;241m4\u001b[39m, \u001b[38;5;241m5\u001b[39m, \u001b[38;5;241m6\u001b[39m), \u001b[38;5;124m'\u001b[39m\u001b[38;5;124mram\u001b[39m\u001b[38;5;124m'\u001b[39m}\n\u001b[1;32m----> 2\u001b[0m \u001b[43ms\u001b[49m\u001b[38;5;241;43m.\u001b[39;49m\u001b[43mappend\u001b[49m(\u001b[38;5;124m'\u001b[39m\u001b[38;5;124m31\u001b[39m\u001b[38;5;124m'\u001b[39m)   \u001b[38;5;66;03m#append hudaina in set\u001b[39;00m\n\u001b[0;32m      3\u001b[0m \u001b[38;5;28mprint\u001b[39m(s)\n",
      "\u001b[1;31mAttributeError\u001b[0m: 'set' object has no attribute 'append'"
     ]
    }
   ],
   "source": [
    "s = {'ram', 'shyam', 1, 2.6, 3, 'hari', (4, 5, 6), 'ram'}\n",
    "s.append('31')   #append hudaina in set\n",
    "print(s)"
   ]
  },
  {
   "cell_type": "code",
   "execution_count": 34,
   "id": "d08acebd-fcb7-465b-8a6e-20cafa0d621d",
   "metadata": {},
   "outputs": [
    {
     "name": "stdout",
     "output_type": "stream",
     "text": [
      "set()\n"
     ]
    }
   ],
   "source": [
    "s = {'ram', 'shyam', 1, 2.6, 3, 'hari', (4, 5, 6), 'ram'}\n",
    "s.clear()\n",
    "print(s)"
   ]
  },
  {
   "cell_type": "code",
   "execution_count": 42,
   "id": "4241e363-bdf7-4774-b850-ad97f072e9ac",
   "metadata": {},
   "outputs": [
    {
     "name": "stdout",
     "output_type": "stream",
     "text": [
      "{1, 2.6, 3, 'shyam', (4, 5, 6), 'ram', (1, 2, 3), 'hari'}\n"
     ]
    }
   ],
   "source": [
    "s = {'ram', 'shyam', 1, 2.6, 3, 'hari', (4, 5, 6), 'ram'}\n",
    "s.add((1, 2, 3))   #tuple mai add hunchha = dhikka nai ()\n",
    "print(s)"
   ]
  },
  {
   "cell_type": "code",
   "execution_count": 43,
   "id": "a52909b0-584e-437b-afb4-28cbd80649c4",
   "metadata": {},
   "outputs": [
    {
     "name": "stdout",
     "output_type": "stream",
     "text": [
      "{1, 2.6, 3, 10, 20, (4, 5, 6), 30, 'ram', 'shyam', 'hari'}\n"
     ]
    }
   ],
   "source": [
    "s = {'ram', 'shyam', 1, 2.6, 3, 'hari', (4, 5, 6), 'ram'}\n",
    "s.update((10, 20, 30))  #separately add hunchha\n",
    "print(s)"
   ]
  },
  {
   "cell_type": "code",
   "execution_count": 45,
   "id": "6ede6f4f-627f-4248-8823-1654c7f64807",
   "metadata": {},
   "outputs": [
    {
     "name": "stdout",
     "output_type": "stream",
     "text": [
      "{1, 3, 'shyam', (4, 5, 6), 'ram', 'hari'}\n"
     ]
    }
   ],
   "source": [
    "s = {'ram', 'shyam', 1, 2.6, 3, 'hari', (4, 5, 6), 'ram'}\n",
    "s.remove(2.6)  #value hatchha\n",
    "print(s)"
   ]
  },
  {
   "cell_type": "code",
   "execution_count": 48,
   "id": "7e068fb8-83b6-4eef-86f2-aa7682937957",
   "metadata": {},
   "outputs": [
    {
     "ename": "KeyError",
     "evalue": "10",
     "output_type": "error",
     "traceback": [
      "\u001b[1;31m---------------------------------------------------------------------------\u001b[0m",
      "\u001b[1;31mKeyError\u001b[0m                                  Traceback (most recent call last)",
      "Cell \u001b[1;32mIn[48], line 2\u001b[0m\n\u001b[0;32m      1\u001b[0m s \u001b[38;5;241m=\u001b[39m {\u001b[38;5;124m'\u001b[39m\u001b[38;5;124mram\u001b[39m\u001b[38;5;124m'\u001b[39m, \u001b[38;5;124m'\u001b[39m\u001b[38;5;124mshyam\u001b[39m\u001b[38;5;124m'\u001b[39m, \u001b[38;5;241m1\u001b[39m, \u001b[38;5;241m2.6\u001b[39m, \u001b[38;5;241m3\u001b[39m, \u001b[38;5;124m'\u001b[39m\u001b[38;5;124mhari\u001b[39m\u001b[38;5;124m'\u001b[39m, (\u001b[38;5;241m4\u001b[39m, \u001b[38;5;241m5\u001b[39m, \u001b[38;5;241m6\u001b[39m), \u001b[38;5;124m'\u001b[39m\u001b[38;5;124mram\u001b[39m\u001b[38;5;124m'\u001b[39m}\n\u001b[1;32m----> 2\u001b[0m \u001b[43ms\u001b[49m\u001b[38;5;241;43m.\u001b[39;49m\u001b[43mremove\u001b[49m\u001b[43m(\u001b[49m\u001b[38;5;241;43m10\u001b[39;49m\u001b[43m)\u001b[49m  \u001b[38;5;66;03m#navako value dida, error aauchha\u001b[39;00m\n\u001b[0;32m      3\u001b[0m \u001b[38;5;28mprint\u001b[39m(s)\n",
      "\u001b[1;31mKeyError\u001b[0m: 10"
     ]
    }
   ],
   "source": [
    "s = {'ram', 'shyam', 1, 2.6, 3, 'hari', (4, 5, 6), 'ram'}\n",
    "s.remove(10)  #navako value dida, error aauchha\n",
    "print(s)"
   ]
  },
  {
   "cell_type": "code",
   "execution_count": 51,
   "id": "d83411a3-9c92-491e-974f-9c419528bc3c",
   "metadata": {},
   "outputs": [
    {
     "name": "stdout",
     "output_type": "stream",
     "text": [
      "{1, 2.6, 3, 'shyam', (4, 5, 6), 'ram', 'hari'}\n"
     ]
    }
   ],
   "source": [
    "s = {'ram', 'shyam', 1, 2.6, 3, 'hari', (4, 5, 6), 'ram'}\n",
    "s.discard(10)  #discard le navako value hatauna khojda error audaina, remove ma aauchha\n",
    "print(s)"
   ]
  },
  {
   "cell_type": "code",
   "execution_count": 52,
   "id": "6dce3a93-7488-4f86-ba66-8c90c9e10a99",
   "metadata": {},
   "outputs": [
    {
     "name": "stdout",
     "output_type": "stream",
     "text": [
      "1\n"
     ]
    }
   ],
   "source": [
    "s = {'ram', 'shyam', 1, 2.6, 3, 'hari', (4, 5, 6), 'ram'}\n",
    "print(s.pop())"
   ]
  },
  {
   "cell_type": "code",
   "execution_count": 60,
   "id": "eebdd800-51d7-4eae-b2b0-a734422a5913",
   "metadata": {},
   "outputs": [
    {
     "data": {
      "text/plain": [
       "5"
      ]
     },
     "execution_count": 60,
     "metadata": {},
     "output_type": "execute_result"
    }
   ],
   "source": [
    "x = [1, 2, 3, 4, 5]\n",
    "max(x)"
   ]
  },
  {
   "cell_type": "code",
   "execution_count": 61,
   "id": "aaceff0b-8a30-4425-bb30-0d487c171c65",
   "metadata": {},
   "outputs": [
    {
     "data": {
      "text/plain": [
       "1"
      ]
     },
     "execution_count": 61,
     "metadata": {},
     "output_type": "execute_result"
    }
   ],
   "source": [
    "x = [1, 2, 3, 4, 5]\n",
    "min(x)"
   ]
  },
  {
   "cell_type": "code",
   "execution_count": 62,
   "id": "7c1f1179-287a-4b44-ba2d-6715f566c362",
   "metadata": {},
   "outputs": [
    {
     "data": {
      "text/plain": [
       "15"
      ]
     },
     "execution_count": 62,
     "metadata": {},
     "output_type": "execute_result"
    }
   ],
   "source": [
    "x = [1, 2, 3, 4, 5]\n",
    "sum(x)"
   ]
  },
  {
   "cell_type": "code",
   "execution_count": 63,
   "id": "1af6e754-cf70-49ec-a8b3-930ba7f09c17",
   "metadata": {},
   "outputs": [
    {
     "data": {
      "text/plain": [
       "[1, 2, 3, 4, 5, 6, 7, 8, 9]"
      ]
     },
     "execution_count": 63,
     "metadata": {},
     "output_type": "execute_result"
    }
   ],
   "source": [
    "x = [8, 4, 9, 1, 5, 2, 7, 6, 3]\n",
    "sorted(x)"
   ]
  },
  {
   "cell_type": "code",
   "execution_count": 64,
   "id": "82598bf8-f9f0-4759-9b08-13de73c56292",
   "metadata": {},
   "outputs": [
    {
     "data": {
      "text/plain": [
       "[9, 8, 7, 6, 5, 4, 3, 2, 1]"
      ]
     },
     "execution_count": 64,
     "metadata": {},
     "output_type": "execute_result"
    }
   ],
   "source": [
    "x = [8, 4, 9, 1, 5, 2, 7, 6, 3]\n",
    "sorted(x, reverse = True)"
   ]
  },
  {
   "cell_type": "code",
   "execution_count": 66,
   "id": "03051e6b-eeb1-4192-9620-eb1b47a979cb",
   "metadata": {},
   "outputs": [
    {
     "data": {
      "text/plain": [
       "9"
      ]
     },
     "execution_count": 66,
     "metadata": {},
     "output_type": "execute_result"
    }
   ],
   "source": [
    "x = [8, 4, 9, 1, 5, 2, 7, 6, 3]\n",
    "len(x)"
   ]
  },
  {
   "cell_type": "code",
   "execution_count": 71,
   "id": "bbe97cbd-d38d-4ed7-bb9a-0965ea155945",
   "metadata": {},
   "outputs": [
    {
     "data": {
      "text/plain": [
       "([1, 2, 3, 4, 5, 6, 7, 8, 8, 9, 9], 11, [9, 9, 8, 8, 7, 6, 5, 4, 3, 2, 1])"
      ]
     },
     "execution_count": 71,
     "metadata": {},
     "output_type": "execute_result"
    }
   ],
   "source": [
    "x = [8, 4, 9, 1, 5, 2, 7, 6, 9, 8, 3]   #list ma unique value hunu parena\n",
    "sorted(x), len(x), sorted(x, reverse = True)"
   ]
  }
 ],
 "metadata": {
  "kernelspec": {
   "display_name": "Python 3 (ipykernel)",
   "language": "python",
   "name": "python3"
  },
  "language_info": {
   "codemirror_mode": {
    "name": "ipython",
    "version": 3
   },
   "file_extension": ".py",
   "mimetype": "text/x-python",
   "name": "python",
   "nbconvert_exporter": "python",
   "pygments_lexer": "ipython3",
   "version": "3.12.4"
  }
 },
 "nbformat": 4,
 "nbformat_minor": 5
}
