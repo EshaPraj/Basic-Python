{
 "cells": [
  {
   "cell_type": "code",
   "execution_count": 1,
   "id": "dd077fd6-4f6b-4b44-9004-0803789c346c",
   "metadata": {},
   "outputs": [],
   "source": [
    "#string datatype"
   ]
  },
  {
   "cell_type": "code",
   "execution_count": 3,
   "id": "04595cce-4446-488d-997b-5fc8c16d2a36",
   "metadata": {},
   "outputs": [
    {
     "name": "stdout",
     "output_type": "stream",
     "text": [
      "This is string <class 'str'>\n"
     ]
    }
   ],
   "source": [
    "s = \"This is string\"\n",
    "print(s, type(s))"
   ]
  },
  {
   "cell_type": "code",
   "execution_count": null,
   "id": "81679938-5fc5-4658-b35c-7da7523cb651",
   "metadata": {},
   "outputs": [],
   "source": [
    "#INDEXING"
   ]
  },
  {
   "cell_type": "code",
   "execution_count": 7,
   "id": "4e066d78-cd23-4f0d-a8b1-01ee25055ed5",
   "metadata": {},
   "outputs": [
    {
     "data": {
      "text/plain": [
       "'T'"
      ]
     },
     "execution_count": 7,
     "metadata": {},
     "output_type": "execute_result"
    }
   ],
   "source": [
    "s = \"This is string\" #0 bata count garne\n",
    "s[0]"
   ]
  },
  {
   "cell_type": "code",
   "execution_count": 8,
   "id": "5ee6e29e-02a1-4821-aa97-5925e69c8df3",
   "metadata": {},
   "outputs": [
    {
     "data": {
      "text/plain": [
       "' '"
      ]
     },
     "execution_count": 8,
     "metadata": {},
     "output_type": "execute_result"
    }
   ],
   "source": [
    "s = \"This is string\"\n",
    "s[7]"
   ]
  },
  {
   "cell_type": "code",
   "execution_count": 14,
   "id": "44576238-2e80-4bad-9196-4e62fb718960",
   "metadata": {},
   "outputs": [
    {
     "name": "stdout",
     "output_type": "stream",
     "text": [
      "T h i s\n"
     ]
    }
   ],
   "source": [
    "s = \"This is string\"\n",
    "print(s[0], s[1], s[2], s[3])"
   ]
  },
  {
   "cell_type": "code",
   "execution_count": 17,
   "id": "b9034190-f043-4ae2-9e55-595aaf9bcbd2",
   "metadata": {},
   "outputs": [],
   "source": [
    "#SLICING"
   ]
  },
  {
   "cell_type": "code",
   "execution_count": 18,
   "id": "594e5408-0799-4521-9d00-13440d3aee18",
   "metadata": {},
   "outputs": [
    {
     "data": {
      "text/plain": [
       "'This'"
      ]
     },
     "execution_count": 18,
     "metadata": {},
     "output_type": "execute_result"
    }
   ],
   "source": [
    "s = \"This is string\"\n",
    "s[0:4]"
   ]
  },
  {
   "cell_type": "code",
   "execution_count": 19,
   "id": "c8f4ad80-9f5d-4e8b-be80-dbbad5fc3fdc",
   "metadata": {},
   "outputs": [
    {
     "data": {
      "text/plain": [
       "'is strin'"
      ]
     },
     "execution_count": 19,
     "metadata": {},
     "output_type": "execute_result"
    }
   ],
   "source": [
    "s = \"This is string\"\n",
    "s[5:13]"
   ]
  },
  {
   "cell_type": "code",
   "execution_count": 20,
   "id": "465b1f73-37e5-44bf-b449-9dfe70763b10",
   "metadata": {},
   "outputs": [
    {
     "name": "stdout",
     "output_type": "stream",
     "text": [
      "48\n"
     ]
    }
   ],
   "source": [
    "s = \"This is string. Strings in python are immutable.\"\n",
    "print(len(s))"
   ]
  },
  {
   "cell_type": "code",
   "execution_count": 26,
   "id": "e5a6824c-829c-4231-a042-ee6c8798d45d",
   "metadata": {},
   "outputs": [],
   "source": [
    "#NEGATIVE INDEXING (-1)"
   ]
  },
  {
   "cell_type": "code",
   "execution_count": 30,
   "id": "29960f04-84cf-438d-b9a8-da70b84a653b",
   "metadata": {},
   "outputs": [
    {
     "data": {
      "text/plain": [
       "'e'"
      ]
     },
     "execution_count": 30,
     "metadata": {},
     "output_type": "execute_result"
    }
   ],
   "source": [
    "s = \"This is string. Strings in python are immutable. Python is my favourite language.\" #last bata count garna -1 bata start counting\n",
    "s[-2]\n"
   ]
  },
  {
   "cell_type": "code",
   "execution_count": 32,
   "id": "3b0b9140-8bab-4e33-a63b-a9b00350c30b",
   "metadata": {},
   "outputs": [
    {
     "data": {
      "text/plain": [
       "'immutable'"
      ]
     },
     "execution_count": 32,
     "metadata": {},
     "output_type": "execute_result"
    }
   ],
   "source": [
    "s = \"This is string. Strings in python are immutable.\"  #positive index\n",
    "s[38:47]"
   ]
  },
  {
   "cell_type": "code",
   "execution_count": 1,
   "id": "c220083c-b985-455c-a7c5-a8f61e6f0763",
   "metadata": {},
   "outputs": [
    {
     "data": {
      "text/plain": [
       "' immutable'"
      ]
     },
     "execution_count": 1,
     "metadata": {},
     "output_type": "execute_result"
    }
   ],
   "source": [
    "s = \"This is string. Strings in python are immutable.\"  #negative index\n",
    "s[-11:-1]"
   ]
  },
  {
   "cell_type": "code",
   "execution_count": 3,
   "id": "e934bda3-b34a-4700-9606-cc630dda8df3",
   "metadata": {},
   "outputs": [
    {
     "data": {
      "text/plain": [
       "'This is string.'"
      ]
     },
     "execution_count": 3,
     "metadata": {},
     "output_type": "execute_result"
    }
   ],
   "source": [
    "s = \"This is string. Strings in python are immutable.\"\n",
    "s[0:15]"
   ]
  },
  {
   "cell_type": "code",
   "execution_count": 4,
   "id": "f91a20f4-2588-4013-9092-d2503e5cb428",
   "metadata": {},
   "outputs": [
    {
     "name": "stdout",
     "output_type": "stream",
     "text": [
      "This is string.\n"
     ]
    }
   ],
   "source": [
    "s = \"This is string. Strings in python are immutable.\"\n",
    "print(s[0:15:1]) #by default start:stop:step"
   ]
  },
  {
   "cell_type": "code",
   "execution_count": 6,
   "id": "8307e7a9-d1a3-4567-bb40-4c5ed255a969",
   "metadata": {},
   "outputs": [
    {
     "name": "stdout",
     "output_type": "stream",
     "text": [
      "Ti ssrn.\n"
     ]
    }
   ],
   "source": [
    "s = \"This is string. Strings in python are immutable.\"\n",
    "print(s[0:15:2]) #bich ko letter skip garchha"
   ]
  },
  {
   "cell_type": "code",
   "execution_count": 7,
   "id": "ba4966e6-0a9b-48b6-ba4a-7c305fe7738d",
   "metadata": {},
   "outputs": [
    {
     "name": "stdout",
     "output_type": "stream",
     "text": [
      "This is string. Strings in python are immutable\n"
     ]
    }
   ],
   "source": [
    "s = \"This is string. Strings in python are immutable.\"\n",
    "print(s[0:-1])"
   ]
  },
  {
   "cell_type": "code",
   "execution_count": 8,
   "id": "f6f333c4-872b-4473-8e91-a809966f0444",
   "metadata": {},
   "outputs": [
    {
     "name": "stdout",
     "output_type": "stream",
     "text": [
      "This is string. Strings in python are immutable.\n"
     ]
    }
   ],
   "source": [
    "s = \"This is string. Strings in python are immutable.\"\n",
    "print(s[0:])"
   ]
  },
  {
   "cell_type": "code",
   "execution_count": 9,
   "id": "fc1e6143-69ee-4048-b46a-9b0d5358bc46",
   "metadata": {},
   "outputs": [
    {
     "name": "stdout",
     "output_type": "stream",
     "text": [
      "This is string. Strings in python are immutable\n"
     ]
    }
   ],
   "source": [
    "s = \"This is string. Strings in python are immutable.\"\n",
    "print(s[:-1])"
   ]
  },
  {
   "cell_type": "code",
   "execution_count": 10,
   "id": "98751b91-c25f-4509-aa07-c88a5b724f30",
   "metadata": {},
   "outputs": [
    {
     "name": "stdout",
     "output_type": "stream",
     "text": [
      "This is string. Strings in python are immutable.\n"
     ]
    }
   ],
   "source": [
    "s = \"This is string. Strings in python are immutable.\"\n",
    "print(s[:])"
   ]
  },
  {
   "cell_type": "code",
   "execution_count": 13,
   "id": "4aaba272-063c-48c8-863d-d3123190163d",
   "metadata": {},
   "outputs": [
    {
     "data": {
      "text/plain": [
       "'.elbatummi era nohtyp ni sgnirtS .gnirts si sihT'"
      ]
     },
     "execution_count": 13,
     "metadata": {},
     "output_type": "execute_result"
    }
   ],
   "source": [
    "s = \"This is string. Strings in python are immutable.\"\n",
    "s[::-1]"
   ]
  },
  {
   "cell_type": "code",
   "execution_count": 14,
   "id": "d01c81c1-c9ca-4dce-a927-bc487e95f5b2",
   "metadata": {},
   "outputs": [
    {
     "data": {
      "text/plain": [
       "'.elbatummi era nohtyp ni sgnirtS .gnirts si sihT'"
      ]
     },
     "execution_count": 14,
     "metadata": {},
     "output_type": "execute_result"
    }
   ],
   "source": [
    "s = \"This is string. Strings in python are immutable.\"\n",
    "s[-1::-1]"
   ]
  },
  {
   "cell_type": "code",
   "execution_count": 15,
   "id": "cdfb5af7-f2d0-46ef-985a-ebc1f00aaeb1",
   "metadata": {},
   "outputs": [],
   "source": [
    "#help(str)   =  to seek help to understand string"
   ]
  },
  {
   "cell_type": "code",
   "execution_count": 16,
   "id": "3f18c514-509a-42ef-89fd-4d3b4e2c3e6c",
   "metadata": {},
   "outputs": [
    {
     "data": {
      "text/plain": [
       "'This is string. strings in python are immutable.'"
      ]
     },
     "execution_count": 16,
     "metadata": {},
     "output_type": "execute_result"
    }
   ],
   "source": [
    "s = \"This is string. Strings in python are immutable.\"\n",
    "s.capitalize()"
   ]
  },
  {
   "cell_type": "code",
   "execution_count": 17,
   "id": "a176dac5-dbd7-4aa8-ad2b-02027e97d321",
   "metadata": {},
   "outputs": [
    {
     "data": {
      "text/plain": [
       "'This Is String. Strings In Python Are Immutable.'"
      ]
     },
     "execution_count": 17,
     "metadata": {},
     "output_type": "execute_result"
    }
   ],
   "source": [
    "s = \"This is string. Strings in python are immutable.\"\n",
    "s.title()"
   ]
  },
  {
   "cell_type": "code",
   "execution_count": 18,
   "id": "01770d85-4491-4315-bcc3-89a82a3d7de7",
   "metadata": {},
   "outputs": [
    {
     "data": {
      "text/plain": [
       "'this is string. strings in python are immutable.'"
      ]
     },
     "execution_count": 18,
     "metadata": {},
     "output_type": "execute_result"
    }
   ],
   "source": [
    "s = \"This is string. Strings in python are immutable.\"\n",
    "s.lower()"
   ]
  },
  {
   "cell_type": "code",
   "execution_count": 21,
   "id": "07695f82-eac4-4202-b1f5-8a4b81f41be7",
   "metadata": {},
   "outputs": [
    {
     "data": {
      "text/plain": [
       "False"
      ]
     },
     "execution_count": 21,
     "metadata": {},
     "output_type": "execute_result"
    }
   ],
   "source": [
    "s = \"This is string. Strings in python are immutable.\"\n",
    "s.startswith(\"t\")"
   ]
  },
  {
   "cell_type": "code",
   "execution_count": 22,
   "id": "19b832d9-fa4a-4edb-bf33-443213921ae0",
   "metadata": {},
   "outputs": [
    {
     "data": {
      "text/plain": [
       "True"
      ]
     },
     "execution_count": 22,
     "metadata": {},
     "output_type": "execute_result"
    }
   ],
   "source": [
    "s = \"This is string. Strings in python are immutable.\"\n",
    "s.startswith(\"T\")"
   ]
  },
  {
   "cell_type": "code",
   "execution_count": 23,
   "id": "345950bb-b3ba-483f-ba59-afe436a623f9",
   "metadata": {},
   "outputs": [
    {
     "data": {
      "text/plain": [
       "False"
      ]
     },
     "execution_count": 23,
     "metadata": {},
     "output_type": "execute_result"
    }
   ],
   "source": [
    "s = \"This is string. Strings in python are immutable.\"\n",
    "s.endswith(\"e\")"
   ]
  },
  {
   "cell_type": "code",
   "execution_count": 24,
   "id": "c1fd6bbd-4e32-4e75-b65b-e3430a8cb9d0",
   "metadata": {},
   "outputs": [
    {
     "data": {
      "text/plain": [
       "True"
      ]
     },
     "execution_count": 24,
     "metadata": {},
     "output_type": "execute_result"
    }
   ],
   "source": [
    "s = \"This is string. Strings in python are immutable.\"\n",
    "s.endswith(\"e.\")"
   ]
  },
  {
   "cell_type": "code",
   "execution_count": 25,
   "id": "268e9735-2cba-49b0-972b-cad734274bc4",
   "metadata": {},
   "outputs": [
    {
     "data": {
      "text/plain": [
       "9"
      ]
     },
     "execution_count": 25,
     "metadata": {},
     "output_type": "execute_result"
    }
   ],
   "source": [
    "s = \"This is string. Strings in python are immutable.\"\n",
    "s.find(\"t\")"
   ]
  },
  {
   "cell_type": "code",
   "execution_count": 27,
   "id": "3387386a-dcf0-4165-9949-5e55f0d8e840",
   "metadata": {},
   "outputs": [
    {
     "data": {
      "text/plain": [
       "0"
      ]
     },
     "execution_count": 27,
     "metadata": {},
     "output_type": "execute_result"
    }
   ],
   "source": [
    "s = \"This is string. Strings in python are immutable.\"\n",
    "s.find(\"Th\")"
   ]
  },
  {
   "cell_type": "code",
   "execution_count": 28,
   "id": "3857800a-c645-49df-9f06-3eeeec2e8cd0",
   "metadata": {},
   "outputs": [
    {
     "data": {
      "text/plain": [
       "6"
      ]
     },
     "execution_count": 28,
     "metadata": {},
     "output_type": "execute_result"
    }
   ],
   "source": [
    "s = \"This is string. Strings in python are immutable.\"\n",
    "s.count(\"i\")"
   ]
  },
  {
   "cell_type": "code",
   "execution_count": 35,
   "id": "6f9dcd64-f05d-4491-a96b-30f8fbb6f141",
   "metadata": {},
   "outputs": [
    {
     "data": {
      "text/plain": [
       "'tHIs IS STrING. sTRINGS iN PYThON ARE IMMUtAbLE.'"
      ]
     },
     "execution_count": 35,
     "metadata": {},
     "output_type": "execute_result"
    }
   ],
   "source": [
    "s = \"ThiS is stRing. Strings In pytHon are immuTaBle.\"\n",
    "s.swapcase()"
   ]
  },
  {
   "cell_type": "code",
   "execution_count": 37,
   "id": "5ce47e6e-5fc6-4d05-bb3a-0a4a7cd7c9bb",
   "metadata": {},
   "outputs": [
    {
     "data": {
      "text/plain": [
       "['ram', ' hari', ' sita']"
      ]
     },
     "execution_count": 37,
     "metadata": {},
     "output_type": "execute_result"
    }
   ],
   "source": [
    "x = 'ram-> hari-> sita'\n",
    "x.split(\"->\")"
   ]
  },
  {
   "cell_type": "code",
   "execution_count": 40,
   "id": "b8f97a14-2397-4e80-a1d1-b4ea78f869b5",
   "metadata": {},
   "outputs": [
    {
     "name": "stdout",
     "output_type": "stream",
     "text": [
      "ram+hari+sita\n"
     ]
    }
   ],
   "source": [
    "x = 'ram', 'hari', 'sita'\n",
    "print(\"+\".join(x))"
   ]
  }
 ],
 "metadata": {
  "kernelspec": {
   "display_name": "Python 3 (ipykernel)",
   "language": "python",
   "name": "python3"
  },
  "language_info": {
   "codemirror_mode": {
    "name": "ipython",
    "version": 3
   },
   "file_extension": ".py",
   "mimetype": "text/x-python",
   "name": "python",
   "nbconvert_exporter": "python",
   "pygments_lexer": "ipython3",
   "version": "3.12.4"
  }
 },
 "nbformat": 4,
 "nbformat_minor": 5
}
