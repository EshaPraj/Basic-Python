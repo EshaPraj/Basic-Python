{
 "cells": [
  {
   "cell_type": "code",
   "execution_count": 11,
   "id": "b99febeb-a47f-4f01-8c44-32f33cfb4e3c",
   "metadata": {},
   "outputs": [
    {
     "name": "stdout",
     "output_type": "stream",
     "text": [
      "3\n"
     ]
    }
   ],
   "source": [
    "def addition():   #function definition\n",
    "    x = 1\n",
    "    y = 2\n",
    "    sum = x + y\n",
    "    print (sum)\n",
    "addition()"
   ]
  },
  {
   "cell_type": "code",
   "execution_count": 14,
   "id": "9ac99747-78c5-4de2-9929-36336ed9413a",
   "metadata": {},
   "outputs": [
    {
     "ename": "TypeError",
     "evalue": "addition() missing 2 required positional arguments: 'x' and 'y'",
     "output_type": "error",
     "traceback": [
      "\u001b[1;31m---------------------------------------------------------------------------\u001b[0m",
      "\u001b[1;31mTypeError\u001b[0m                                 Traceback (most recent call last)",
      "Cell \u001b[1;32mIn[14], line 4\u001b[0m\n\u001b[0;32m      2\u001b[0m     \u001b[38;5;28msum\u001b[39m \u001b[38;5;241m=\u001b[39m x \u001b[38;5;241m+\u001b[39m y\n\u001b[0;32m      3\u001b[0m     \u001b[38;5;28mprint\u001b[39m(\u001b[38;5;28msum\u001b[39m)   \n\u001b[1;32m----> 4\u001b[0m \u001b[43maddition\u001b[49m\u001b[43m(\u001b[49m\u001b[43m)\u001b[49m\n",
      "\u001b[1;31mTypeError\u001b[0m: addition() missing 2 required positional arguments: 'x' and 'y'"
     ]
    }
   ],
   "source": [
    "def addition(x, y):   #parameters / arguements\n",
    "    sum = x + y\n",
    "    print(sum)   \n",
    "addition()"
   ]
  },
  {
   "cell_type": "code",
   "execution_count": 15,
   "id": "d69cff8f-2fba-400f-91b6-65818c495e3b",
   "metadata": {},
   "outputs": [
    {
     "name": "stdout",
     "output_type": "stream",
     "text": [
      "7\n"
     ]
    }
   ],
   "source": [
    "addition(x=2, y=5)"
   ]
  },
  {
   "cell_type": "code",
   "execution_count": 19,
   "id": "c47ece29-25e7-4476-a428-6ec23ee9d016",
   "metadata": {},
   "outputs": [
    {
     "name": "stdout",
     "output_type": "stream",
     "text": [
      "9\n"
     ]
    }
   ],
   "source": [
    "addition(2, 7)"
   ]
  },
  {
   "cell_type": "code",
   "execution_count": 20,
   "id": "6284822a-3219-47c6-a6af-68350b6cb040",
   "metadata": {},
   "outputs": [
    {
     "name": "stdout",
     "output_type": "stream",
     "text": [
      "9\n"
     ]
    }
   ],
   "source": [
    "addition(y = 4, x= 5)"
   ]
  },
  {
   "cell_type": "code",
   "execution_count": 21,
   "id": "373a1703-4e0b-4e9e-8b63-b2b52d2bd32a",
   "metadata": {},
   "outputs": [
    {
     "name": "stdout",
     "output_type": "stream",
     "text": [
      "11\n"
     ]
    }
   ],
   "source": [
    "addition(2, y=9)"
   ]
  },
  {
   "cell_type": "code",
   "execution_count": 22,
   "id": "fb9a4f94-1a42-4c97-b8bb-ade339d5f60c",
   "metadata": {},
   "outputs": [
    {
     "ename": "TypeError",
     "evalue": "addition() got multiple values for argument 'x'",
     "output_type": "error",
     "traceback": [
      "\u001b[1;31m---------------------------------------------------------------------------\u001b[0m",
      "\u001b[1;31mTypeError\u001b[0m                                 Traceback (most recent call last)",
      "Cell \u001b[1;32mIn[22], line 1\u001b[0m\n\u001b[1;32m----> 1\u001b[0m \u001b[43maddition\u001b[49m\u001b[43m(\u001b[49m\u001b[38;5;241;43m2\u001b[39;49m\u001b[43m,\u001b[49m\u001b[43m \u001b[49m\u001b[43mx\u001b[49m\u001b[38;5;241;43m=\u001b[39;49m\u001b[38;5;241;43m4\u001b[39;49m\u001b[43m)\u001b[49m\n",
      "\u001b[1;31mTypeError\u001b[0m: addition() got multiple values for argument 'x'"
     ]
    }
   ],
   "source": [
    "addition(2, x=4)"
   ]
  },
  {
   "cell_type": "code",
   "execution_count": 23,
   "id": "0ba29858-3797-4702-830c-c0634a423ac1",
   "metadata": {},
   "outputs": [],
   "source": [
    "from math import sqrt"
   ]
  },
  {
   "cell_type": "code",
   "execution_count": 24,
   "id": "0a88f9f5-9651-43c7-8c88-d99d725ca2cc",
   "metadata": {},
   "outputs": [
    {
     "data": {
      "text/plain": [
       "2.0"
      ]
     },
     "execution_count": 24,
     "metadata": {},
     "output_type": "execute_result"
    }
   ],
   "source": [
    "sqrt(4)"
   ]
  },
  {
   "cell_type": "code",
   "execution_count": 25,
   "id": "d8b92bb0-b424-4de5-980d-6bcca80fcef9",
   "metadata": {},
   "outputs": [
    {
     "name": "stdout",
     "output_type": "stream",
     "text": [
      "Help on built-in function sqrt in module math:\n",
      "\n",
      "sqrt(x, /)\n",
      "    Return the square root of x.\n",
      "\n"
     ]
    }
   ],
   "source": [
    "help(sqrt)"
   ]
  },
  {
   "cell_type": "code",
   "execution_count": 28,
   "id": "a12cf053-45d3-4049-9137-3923285ad46c",
   "metadata": {},
   "outputs": [],
   "source": [
    "def addition(x, y): #parameters / arguements\n",
    "    \"\"\"Return the sum of x and y\"\"\"   #yo tin wola quoatation ma j lekhyo tei print garchha\n",
    "    sum = x + y\n",
    "    print(sum)"
   ]
  },
  {
   "cell_type": "code",
   "execution_count": 29,
   "id": "61539f80-6898-4a65-8423-73420f0296be",
   "metadata": {},
   "outputs": [
    {
     "name": "stdout",
     "output_type": "stream",
     "text": [
      "Help on function addition in module __main__:\n",
      "\n",
      "addition(x, y)\n",
      "    Return the sum of x and y\n",
      "\n"
     ]
    }
   ],
   "source": [
    "help(addition)"
   ]
  },
  {
   "cell_type": "code",
   "execution_count": 30,
   "id": "5c66caec-2346-4e4f-9ba5-841275736eb0",
   "metadata": {},
   "outputs": [],
   "source": [
    "def addition(x, y):\n",
    "    sum = x + y\n",
    "    return sum"
   ]
  },
  {
   "cell_type": "code",
   "execution_count": 31,
   "id": "d3148657-02e9-43f1-a151-8e8251c7741a",
   "metadata": {},
   "outputs": [
    {
     "data": {
      "text/plain": [
       "8"
      ]
     },
     "execution_count": 31,
     "metadata": {},
     "output_type": "execute_result"
    }
   ],
   "source": [
    "addition(3, 5)"
   ]
  },
  {
   "cell_type": "code",
   "execution_count": 32,
   "id": "ab4ce6fa-156d-41d3-949c-3153d10716c6",
   "metadata": {},
   "outputs": [],
   "source": [
    "h = addition(4, 6)"
   ]
  },
  {
   "cell_type": "code",
   "execution_count": 34,
   "id": "b7265bae-454c-4ba5-92ee-386930cd9666",
   "metadata": {},
   "outputs": [
    {
     "name": "stdout",
     "output_type": "stream",
     "text": [
      "10\n"
     ]
    }
   ],
   "source": [
    "print(h)"
   ]
  },
  {
   "cell_type": "code",
   "execution_count": 42,
   "id": "922430f0-e4c1-4f2a-a0e1-ef5fa4562901",
   "metadata": {},
   "outputs": [],
   "source": [
    "def addition(x, y=0):      # y is default argument\n",
    "    sum = x + y    \n",
    "    return sum"
   ]
  },
  {
   "cell_type": "code",
   "execution_count": 49,
   "id": "a0f0f4bc-7823-46a7-a735-44d05fe64a6b",
   "metadata": {},
   "outputs": [
    {
     "data": {
      "text/plain": [
       "4"
      ]
     },
     "execution_count": 49,
     "metadata": {},
     "output_type": "execute_result"
    }
   ],
   "source": [
    "addition(4)"
   ]
  },
  {
   "cell_type": "code",
   "execution_count": 53,
   "id": "d4e820ec-9977-403d-9177-addeea476860",
   "metadata": {},
   "outputs": [],
   "source": [
    "def addition(y, x=0):      # x is default argument\n",
    "    sum = x + y    \n",
    "    return sum"
   ]
  },
  {
   "cell_type": "code",
   "execution_count": 54,
   "id": "f6e203ea-698f-4a5b-8e78-29e8acaceb4e",
   "metadata": {},
   "outputs": [
    {
     "data": {
      "text/plain": [
       "7"
      ]
     },
     "execution_count": 54,
     "metadata": {},
     "output_type": "execute_result"
    }
   ],
   "source": [
    "addition(7)"
   ]
  },
  {
   "cell_type": "code",
   "execution_count": 72,
   "id": "8be6a04e-66fe-481e-96b2-349757a884a6",
   "metadata": {},
   "outputs": [],
   "source": [
    "def number(x, y):\n",
    "    add = x + y\n",
    "    sub = x - y\n",
    "    mult = x * y\n",
    "    div = x / y\n",
    "    return add, sub, mult, div    #exit from function"
   ]
  },
  {
   "cell_type": "code",
   "execution_count": 73,
   "id": "1063b3cd-94d8-4936-bc16-bbb0387cb43e",
   "metadata": {},
   "outputs": [
    {
     "data": {
      "text/plain": [
       "(8, -2, 15, 0.6)"
      ]
     },
     "execution_count": 73,
     "metadata": {},
     "output_type": "execute_result"
    }
   ],
   "source": [
    "number(3, 5)"
   ]
  },
  {
   "cell_type": "code",
   "execution_count": 74,
   "id": "c8af50e3-1a17-4d1e-80b0-1438a82562af",
   "metadata": {},
   "outputs": [
    {
     "name": "stdout",
     "output_type": "stream",
     "text": [
      "(10, -2, 24, 0.6666666666666666)\n"
     ]
    }
   ],
   "source": [
    "result = number(4, 6)\n",
    "print(result)"
   ]
  },
  {
   "cell_type": "code",
   "execution_count": 78,
   "id": "5b4b7b9c-b456-4a28-b619-ae761869f2d3",
   "metadata": {},
   "outputs": [
    {
     "name": "stdout",
     "output_type": "stream",
     "text": [
      "8 -2 15 0.6\n"
     ]
    }
   ],
   "source": [
    "# tuple unpacking\n",
    "addition, substraction, division, multiplication = number(3, 5)\n",
    "print(addition, substraction, division, multiplication)"
   ]
  },
  {
   "cell_type": "code",
   "execution_count": null,
   "id": "e7b0b433-3b72-46a0-b02d-b53eda0fed79",
   "metadata": {},
   "outputs": [],
   "source": [
    "def number(x, y, z, a)\n",
    "    "
   ]
  },
  {
   "cell_type": "code",
   "execution_count": 85,
   "id": "aa846d52-593e-47fe-95ca-28d38fe57be3",
   "metadata": {},
   "outputs": [],
   "source": [
    "def addition(*args):   #jati wota pathaye pani output nikalna lai\n",
    "    print(args, type(args))"
   ]
  },
  {
   "cell_type": "code",
   "execution_count": 86,
   "id": "8f8353b5-e5d7-40a9-a8c0-39c995c66345",
   "metadata": {},
   "outputs": [
    {
     "name": "stdout",
     "output_type": "stream",
     "text": [
      "(1, 2, 3) <class 'tuple'>\n"
     ]
    }
   ],
   "source": [
    "addition(1, 2, 3)"
   ]
  },
  {
   "cell_type": "code",
   "execution_count": 88,
   "id": "a9b79b31-dd26-4e1e-968b-21a2fe019704",
   "metadata": {},
   "outputs": [
    {
     "name": "stdout",
     "output_type": "stream",
     "text": [
      "(1, 2, 3, 4, 5, 6) <class 'tuple'>\n"
     ]
    }
   ],
   "source": [
    "addition(1, 2, 3, 4, 5, 6)"
   ]
  },
  {
   "cell_type": "code",
   "execution_count": 101,
   "id": "c8ea696c-4728-4871-9c3a-9dab01bf5cb5",
   "metadata": {},
   "outputs": [],
   "source": [
    "def addition(*args):   #positional argument\n",
    "    sum = 0\n",
    "    for i in args:\n",
    "        sum += i\n",
    "    return sum    "
   ]
  },
  {
   "cell_type": "code",
   "execution_count": 102,
   "id": "558b002e-f38e-46d6-b833-ca86408d5c2d",
   "metadata": {},
   "outputs": [
    {
     "data": {
      "text/plain": [
       "15"
      ]
     },
     "execution_count": 102,
     "metadata": {},
     "output_type": "execute_result"
    }
   ],
   "source": [
    "addition(1, 2, 3, 4, 5)"
   ]
  },
  {
   "cell_type": "code",
   "execution_count": 103,
   "id": "7c66b2af-03ea-4311-80d9-cf9e53a9574d",
   "metadata": {},
   "outputs": [
    {
     "ename": "TypeError",
     "evalue": "addition() got an unexpected keyword argument 'x'",
     "output_type": "error",
     "traceback": [
      "\u001b[1;31m---------------------------------------------------------------------------\u001b[0m",
      "\u001b[1;31mTypeError\u001b[0m                                 Traceback (most recent call last)",
      "Cell \u001b[1;32mIn[103], line 1\u001b[0m\n\u001b[1;32m----> 1\u001b[0m \u001b[43maddition\u001b[49m\u001b[43m(\u001b[49m\u001b[43mx\u001b[49m\u001b[38;5;241;43m=\u001b[39;49m\u001b[38;5;241;43m6\u001b[39;49m\u001b[43m,\u001b[49m\u001b[43m \u001b[49m\u001b[43my\u001b[49m\u001b[38;5;241;43m=\u001b[39;49m\u001b[38;5;241;43m4\u001b[39;49m\u001b[43m)\u001b[49m\n",
      "\u001b[1;31mTypeError\u001b[0m: addition() got an unexpected keyword argument 'x'"
     ]
    }
   ],
   "source": [
    "addition(x=6, y=4)"
   ]
  },
  {
   "cell_type": "code",
   "execution_count": 104,
   "id": "b572996f-08e4-4582-9747-49b0cf4cf28b",
   "metadata": {},
   "outputs": [],
   "source": [
    "def addition(**kwargs):\n",
    "    print(kwargs)       #keyword arguments\n"
   ]
  },
  {
   "cell_type": "code",
   "execution_count": 105,
   "id": "f5244275-8965-4c85-a408-63151132ec14",
   "metadata": {},
   "outputs": [
    {
     "name": "stdout",
     "output_type": "stream",
     "text": [
      "{'x': 1, 'y': 5}\n"
     ]
    }
   ],
   "source": [
    "addition(x=1, y=5)"
   ]
  },
  {
   "cell_type": "code",
   "execution_count": 111,
   "id": "21d3f196-63b6-45fe-a3fe-7ddc5f026cfd",
   "metadata": {},
   "outputs": [],
   "source": [
    "def addition(**kwargs):\n",
    "    sum = 0\n",
    "    for i in kwargs.values():\n",
    "        sum += i\n",
    "    return sum"
   ]
  },
  {
   "cell_type": "code",
   "execution_count": 112,
   "id": "530c2214-b1b9-4abd-ad35-3df1484477f0",
   "metadata": {},
   "outputs": [
    {
     "data": {
      "text/plain": [
       "5"
      ]
     },
     "execution_count": 112,
     "metadata": {},
     "output_type": "execute_result"
    }
   ],
   "source": [
    "addition(x= 3, y=2)"
   ]
  },
  {
   "cell_type": "code",
   "execution_count": 113,
   "id": "05cb1b1b-d7ff-4d44-b8fd-0bdb07dd8fa4",
   "metadata": {},
   "outputs": [
    {
     "ename": "TypeError",
     "evalue": "addition() takes 0 positional arguments but 3 were given",
     "output_type": "error",
     "traceback": [
      "\u001b[1;31m---------------------------------------------------------------------------\u001b[0m",
      "\u001b[1;31mTypeError\u001b[0m                                 Traceback (most recent call last)",
      "Cell \u001b[1;32mIn[113], line 1\u001b[0m\n\u001b[1;32m----> 1\u001b[0m \u001b[43maddition\u001b[49m\u001b[43m(\u001b[49m\u001b[38;5;241;43m3\u001b[39;49m\u001b[43m,\u001b[49m\u001b[43m \u001b[49m\u001b[38;5;241;43m4\u001b[39;49m\u001b[43m,\u001b[49m\u001b[43m \u001b[49m\u001b[38;5;241;43m5\u001b[39;49m\u001b[43m,\u001b[49m\u001b[43m \u001b[49m\u001b[43mx\u001b[49m\u001b[38;5;241;43m=\u001b[39;49m\u001b[38;5;241;43m1\u001b[39;49m\u001b[43m,\u001b[49m\u001b[43m \u001b[49m\u001b[43my\u001b[49m\u001b[38;5;241;43m=\u001b[39;49m\u001b[38;5;241;43m2\u001b[39;49m\u001b[43m,\u001b[49m\u001b[43m \u001b[49m\u001b[43mz\u001b[49m\u001b[38;5;241;43m=\u001b[39;49m\u001b[43m \u001b[49m\u001b[38;5;241;43m4\u001b[39;49m\u001b[43m,\u001b[49m\u001b[43m \u001b[49m\u001b[43ma\u001b[49m\u001b[38;5;241;43m=\u001b[39;49m\u001b[38;5;241;43m6\u001b[39;49m\u001b[43m)\u001b[49m\n",
      "\u001b[1;31mTypeError\u001b[0m: addition() takes 0 positional arguments but 3 were given"
     ]
    }
   ],
   "source": [
    "addition(3, 4, 5, x=1, y=2, z= 4, a=6)"
   ]
  },
  {
   "cell_type": "code",
   "execution_count": 114,
   "id": "e8523e89-38dc-489b-810a-a397101863a5",
   "metadata": {},
   "outputs": [],
   "source": [
    "#kwargs ra args duitai lini banaune"
   ]
  },
  {
   "cell_type": "code",
   "execution_count": null,
   "id": "17f1afa1-b490-45c5-9474-bf68cd1352e6",
   "metadata": {},
   "outputs": [],
   "source": []
  }
 ],
 "metadata": {
  "kernelspec": {
   "display_name": "Python 3 (ipykernel)",
   "language": "python",
   "name": "python3"
  },
  "language_info": {
   "codemirror_mode": {
    "name": "ipython",
    "version": 3
   },
   "file_extension": ".py",
   "mimetype": "text/x-python",
   "name": "python",
   "nbconvert_exporter": "python",
   "pygments_lexer": "ipython3",
   "version": "3.12.4"
  }
 },
 "nbformat": 4,
 "nbformat_minor": 5
}
