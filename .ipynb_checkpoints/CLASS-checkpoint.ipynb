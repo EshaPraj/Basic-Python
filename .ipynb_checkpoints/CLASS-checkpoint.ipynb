{
 "cells": [
  {
   "cell_type": "code",
   "execution_count": 15,
   "id": "ff14dd8d-1b7b-4bc1-b143-335aaea351c4",
   "metadata": {},
   "outputs": [],
   "source": [
    "#recursion #calling itself\n",
    "#def hello():\n",
    "    #print(\"hello\")\n",
    " #   hello()\n",
    "#hello()\n"
   ]
  },
  {
   "cell_type": "code",
   "execution_count": 16,
   "id": "d418c5e9-dd1d-4443-9b3e-620df72fa3ba",
   "metadata": {},
   "outputs": [],
   "source": [
    "#factorial(5) = 5+ 4+ 3+ 2+ 1\n",
    "#factorial(5) = 5 + factorial(4)"
   ]
  },
  {
   "cell_type": "code",
   "execution_count": 17,
   "id": "ef17ac70-f8e8-47c4-a209-14759e8ab816",
   "metadata": {},
   "outputs": [],
   "source": [
    "#recursive function\n",
    "#1. call itself\n",
    "# 2. base condition => terminating condition / returning\n",
    "# 3. value must be modified\n",
    "#4. value must be returned by function"
   ]
  },
  {
   "cell_type": "code",
   "execution_count": 18,
   "id": "f44b7e5d-3157-4930-933b-acb872b1a101",
   "metadata": {},
   "outputs": [
    {
     "data": {
      "text/plain": [
       "6"
      ]
     },
     "execution_count": 18,
     "metadata": {},
     "output_type": "execute_result"
    }
   ],
   "source": [
    "def factorial(n): #1\n",
    "    if n <= 1:\n",
    "        return 1\n",
    "    else:\n",
    "        return n * factorial(n-1)\n",
    "factorial(3)\n",
    "\n",
    "# 3 = factorial(2)\n",
    "# 3 * 2 * factorial(1)\n",
    "# 3 * 2 * 1"
   ]
  },
  {
   "cell_type": "code",
   "execution_count": 19,
   "id": "8e67d33f-30c9-46bd-94ea-ae3a54870db4",
   "metadata": {},
   "outputs": [
    {
     "ename": "RecursionError",
     "evalue": "maximum recursion depth exceeded",
     "output_type": "error",
     "traceback": [
      "\u001b[1;31m---------------------------------------------------------------------------\u001b[0m",
      "\u001b[1;31mRecursionError\u001b[0m                            Traceback (most recent call last)",
      "Cell \u001b[1;32mIn[19], line 3\u001b[0m\n\u001b[0;32m      1\u001b[0m \u001b[38;5;28;01mimport\u001b[39;00m \u001b[38;5;21;01msys\u001b[39;00m\n\u001b[0;32m      2\u001b[0m sys\u001b[38;5;241m.\u001b[39mset_int_max_str_digits(\u001b[38;5;241m1500000\u001b[39m)\n\u001b[1;32m----> 3\u001b[0m \u001b[43mfactorial\u001b[49m\u001b[43m(\u001b[49m\u001b[38;5;241;43m5000\u001b[39;49m\u001b[43m)\u001b[49m\n",
      "Cell \u001b[1;32mIn[18], line 5\u001b[0m, in \u001b[0;36mfactorial\u001b[1;34m(n)\u001b[0m\n\u001b[0;32m      3\u001b[0m     \u001b[38;5;28;01mreturn\u001b[39;00m \u001b[38;5;241m1\u001b[39m\n\u001b[0;32m      4\u001b[0m \u001b[38;5;28;01melse\u001b[39;00m:\n\u001b[1;32m----> 5\u001b[0m     \u001b[38;5;28;01mreturn\u001b[39;00m n \u001b[38;5;241m*\u001b[39m \u001b[43mfactorial\u001b[49m\u001b[43m(\u001b[49m\u001b[43mn\u001b[49m\u001b[38;5;241;43m-\u001b[39;49m\u001b[38;5;241;43m1\u001b[39;49m\u001b[43m)\u001b[49m\n",
      "Cell \u001b[1;32mIn[18], line 5\u001b[0m, in \u001b[0;36mfactorial\u001b[1;34m(n)\u001b[0m\n\u001b[0;32m      3\u001b[0m     \u001b[38;5;28;01mreturn\u001b[39;00m \u001b[38;5;241m1\u001b[39m\n\u001b[0;32m      4\u001b[0m \u001b[38;5;28;01melse\u001b[39;00m:\n\u001b[1;32m----> 5\u001b[0m     \u001b[38;5;28;01mreturn\u001b[39;00m n \u001b[38;5;241m*\u001b[39m \u001b[43mfactorial\u001b[49m\u001b[43m(\u001b[49m\u001b[43mn\u001b[49m\u001b[38;5;241;43m-\u001b[39;49m\u001b[38;5;241;43m1\u001b[39;49m\u001b[43m)\u001b[49m\n",
      "    \u001b[1;31m[... skipping similar frames: factorial at line 5 (2974 times)]\u001b[0m\n",
      "Cell \u001b[1;32mIn[18], line 5\u001b[0m, in \u001b[0;36mfactorial\u001b[1;34m(n)\u001b[0m\n\u001b[0;32m      3\u001b[0m     \u001b[38;5;28;01mreturn\u001b[39;00m \u001b[38;5;241m1\u001b[39m\n\u001b[0;32m      4\u001b[0m \u001b[38;5;28;01melse\u001b[39;00m:\n\u001b[1;32m----> 5\u001b[0m     \u001b[38;5;28;01mreturn\u001b[39;00m n \u001b[38;5;241m*\u001b[39m \u001b[43mfactorial\u001b[49m\u001b[43m(\u001b[49m\u001b[43mn\u001b[49m\u001b[38;5;241;43m-\u001b[39;49m\u001b[38;5;241;43m1\u001b[39;49m\u001b[43m)\u001b[49m\n",
      "\u001b[1;31mRecursionError\u001b[0m: maximum recursion depth exceeded"
     ]
    }
   ],
   "source": [
    "import sys\n",
    "sys.set_int_max_str_digits(1500000)\n",
    "factorial(5000)"
   ]
  },
  {
   "cell_type": "code",
   "execution_count": null,
   "id": "226b92d1-af7a-49bf-ac36-2926c339b293",
   "metadata": {},
   "outputs": [],
   "source": [
    "from math import factorial"
   ]
  },
  {
   "cell_type": "code",
   "execution_count": null,
   "id": "17a8a4ef-166d-47be-ba92-ab6dd1473307",
   "metadata": {},
   "outputs": [],
   "source": [
    "factorial(4)"
   ]
  },
  {
   "cell_type": "code",
   "execution_count": null,
   "id": "97f1f7a7-04f7-49a3-b7e8-dd703a9c11b1",
   "metadata": {},
   "outputs": [],
   "source": [
    "#name, age, address, college, faculty, roll_no\n",
    "class Student:\n",
    "    def __init__(self, name, age, address, college, faculty, roll_no):\n",
    "        self.name = name\n",
    "        self.age = age\n",
    "        self.address = address\n",
    "        self.college = college\n",
    "        self.faculty = faculty\n",
    "        self.roll_no = roll_no\n",
    "    def learn(self):\n",
    "        print(f\"Student is learning\")"
   ]
  },
  {
   "cell_type": "code",
   "execution_count": null,
   "id": "9766742a-45bf-4f65-bc3e-b2d0810bbfc3",
   "metadata": {},
   "outputs": [],
   "source": [
    "s1 = Student(name =\"Ram\", age=22, address = \"KTM\", college = \"ISMT\", faculty = \"BIT\", roll_no = 5)"
   ]
  },
  {
   "cell_type": "code",
   "execution_count": null,
   "id": "28ef0f9e-937c-4bcc-9fb9-1e9e3c146d98",
   "metadata": {},
   "outputs": [],
   "source": [
    "s1.learn()"
   ]
  },
  {
   "cell_type": "code",
   "execution_count": null,
   "id": "52ccb76e-bd2c-4398-b08e-c0e35d3441d0",
   "metadata": {},
   "outputs": [],
   "source": [
    "#name, age, address, college, faculty, roll_no\n",
    "class Student:\n",
    "    def __init__(self, name, age, address, college, faculty, roll_no):\n",
    "        self.name = name\n",
    "        self.age = age\n",
    "        self.address = address\n",
    "        self.college = college\n",
    "        self.faculty = faculty\n",
    "        self.roll_no = roll_no\n",
    "        self.subjects = []\n",
    "    def learn(self):\n",
    "        print(f\"Student is learning: {self.subjects}\")\n",
    "    def add_subject(self, subject_name):\n",
    "        self.subjects.append(subject_name)"
   ]
  },
  {
   "cell_type": "code",
   "execution_count": null,
   "id": "71eaa24a-32f6-48dc-ac12-a85ec2f8570f",
   "metadata": {},
   "outputs": [],
   "source": [
    "s1 = Student(name = \"Ram\", age = 22, address = \"KTM\", college = \"ISMT\", faculty = \"BIT\", roll_no = 5)"
   ]
  },
  {
   "cell_type": "code",
   "execution_count": null,
   "id": "b0b05878-8700-4557-95e2-cf11f66d610b",
   "metadata": {},
   "outputs": [],
   "source": [
    "s1.learn()"
   ]
  },
  {
   "cell_type": "code",
   "execution_count": null,
   "id": "eec03194-8996-49da-951a-900a6af4e163",
   "metadata": {},
   "outputs": [],
   "source": [
    "s1.add_subject('Python')"
   ]
  },
  {
   "cell_type": "code",
   "execution_count": null,
   "id": "edc5326c-bd14-4ed3-a14b-189eabab1705",
   "metadata": {},
   "outputs": [],
   "source": [
    "s1.learn()"
   ]
  },
  {
   "cell_type": "code",
   "execution_count": null,
   "id": "75af6866-8e0f-44af-bf75-f88286896209",
   "metadata": {},
   "outputs": [],
   "source": [
    "s1.add_subject('Django')"
   ]
  },
  {
   "cell_type": "code",
   "execution_count": null,
   "id": "eb91d226-dd4d-4eff-b0e5-957a29570a22",
   "metadata": {},
   "outputs": [],
   "source": [
    "s1.learn()"
   ]
  },
  {
   "cell_type": "code",
   "execution_count": null,
   "id": "4d81920e-a4ff-4e53-ba68-5fee72de850f",
   "metadata": {},
   "outputs": [],
   "source": [
    "s1.add_subject('Python')"
   ]
  },
  {
   "cell_type": "code",
   "execution_count": null,
   "id": "de2b0936-221a-4e4d-bae7-6eece896061b",
   "metadata": {},
   "outputs": [],
   "source": [
    "s1.learn()"
   ]
  },
  {
   "cell_type": "code",
   "execution_count": 20,
   "id": "91045ca1-7406-4902-a3c5-68294f90a232",
   "metadata": {},
   "outputs": [],
   "source": [
    "#name, age, address, college, faculty, roll_no\n",
    "class Student:\n",
    "    def __init__(self, name, age, address, college, faculty, roll_no):\n",
    "        self.name = name\n",
    "        self.age = age\n",
    "        self.address = address\n",
    "        self.college = college\n",
    "        self.faculty = faculty\n",
    "        self.roll_no = roll_no\n",
    "        self.subjects = []\n",
    "    def learn(self):\n",
    "        print(f\"Student is learning: {self.subjects}\")\n",
    "    def add_subject(self, name):\n",
    "        if name not in self.subjects:\n",
    "            self.subjects.append(name)"
   ]
  },
  {
   "cell_type": "code",
   "execution_count": 21,
   "id": "f046aa08-e1ef-4cca-908e-b008c53bd12f",
   "metadata": {},
   "outputs": [],
   "source": [
    "s1 = Student(name = \"Ram\", age = 22, address = \"KTM\", college = \"ISMT\", faculty = \"BIT\", roll_no = 5)"
   ]
  },
  {
   "cell_type": "code",
   "execution_count": 22,
   "id": "e69eb277-17de-48c8-a907-e8fff064e8a6",
   "metadata": {},
   "outputs": [],
   "source": [
    "s1.add_subject('python')\n",
    "s1.add_subject('python')\n",
    "s1.add_subject('python')\n",
    "s1.add_subject('python')"
   ]
  },
  {
   "cell_type": "code",
   "execution_count": 23,
   "id": "72405b2d-26ff-44d2-b254-85b46b8671ea",
   "metadata": {},
   "outputs": [
    {
     "name": "stdout",
     "output_type": "stream",
     "text": [
      "Student is learning: ['python']\n"
     ]
    }
   ],
   "source": [
    "s1.learn()"
   ]
  },
  {
   "cell_type": "code",
   "execution_count": 26,
   "id": "2e2aacfa-50dc-49e2-8596-94d36beeefa3",
   "metadata": {},
   "outputs": [],
   "source": [
    "#to calculate area and perimeter of rectangle\n",
    "class Rectangle:\n",
    "    def __init__(self, length, breadth):\n",
    "        self.l = length\n",
    "        self.b = breadth\n",
    "    def area(self):\n",
    "        return self.l * self.b\n",
    "    def perimeter(self):\n",
    "        return 2 * (self.l + self.b)"
   ]
  },
  {
   "cell_type": "code",
   "execution_count": 27,
   "id": "6b724d1c-6c56-46df-bf35-7805d7949245",
   "metadata": {},
   "outputs": [],
   "source": [
    "r1 = Rectangle(2, 4)"
   ]
  },
  {
   "cell_type": "code",
   "execution_count": 31,
   "id": "9faf1c8b-91d8-403d-9cb3-2c75820924e7",
   "metadata": {},
   "outputs": [
    {
     "name": "stdout",
     "output_type": "stream",
     "text": [
      "8\n"
     ]
    }
   ],
   "source": [
    "print(r1.area())"
   ]
  },
  {
   "cell_type": "code",
   "execution_count": 32,
   "id": "08bf6113-1dd9-4d30-bb9e-74a717b316a1",
   "metadata": {},
   "outputs": [
    {
     "name": "stdout",
     "output_type": "stream",
     "text": [
      "12\n"
     ]
    }
   ],
   "source": [
    "print(r1.perimeter())"
   ]
  },
  {
   "cell_type": "code",
   "execution_count": 39,
   "id": "02a1b464-d06c-4233-80f2-f6561b72cf7c",
   "metadata": {},
   "outputs": [],
   "source": [
    "#to calculate area and perimeter of circle\n",
    "class Circle:\n",
    "    def __init__(self, radius):\n",
    "        self.r = radius\n",
    "    def area(self):\n",
    "        return 3.14 * self.r ** 2 \n",
    "    def perimeter(self):\n",
    "        return 2 * 3.14 * self.r"
   ]
  },
  {
   "cell_type": "code",
   "execution_count": 40,
   "id": "fc145892-0662-453e-80b1-0d0d3e08e249",
   "metadata": {},
   "outputs": [],
   "source": [
    "r1 = Circle(4)"
   ]
  },
  {
   "cell_type": "code",
   "execution_count": 41,
   "id": "2ef3497a-9daa-4cfc-8701-53623c5369d4",
   "metadata": {},
   "outputs": [
    {
     "name": "stdout",
     "output_type": "stream",
     "text": [
      "50.24\n"
     ]
    }
   ],
   "source": [
    "print(r1.area())"
   ]
  },
  {
   "cell_type": "code",
   "execution_count": 42,
   "id": "2f546f11-b4f2-4ce6-9886-bc288cf0b8ff",
   "metadata": {},
   "outputs": [
    {
     "name": "stdout",
     "output_type": "stream",
     "text": [
      "25.12\n"
     ]
    }
   ],
   "source": [
    "print(r1.perimeter())"
   ]
  },
  {
   "cell_type": "code",
   "execution_count": 43,
   "id": "d6ca0fed-2d9a-4aa4-a5db-287bd9b63339",
   "metadata": {},
   "outputs": [],
   "source": [
    "#to calculate area and perimeter of circle\n",
    "from math import pi\n",
    "class Circle:\n",
    "    def __init__(self, radius):\n",
    "        self.r = radius\n",
    "    def area(self):\n",
    "        return pi * self.r ** 2 \n",
    "    def perimeter(self):\n",
    "        return 2 * pi * self.r"
   ]
  },
  {
   "cell_type": "code",
   "execution_count": 50,
   "id": "db63f19c-ce16-4a48-b475-79cd0ff45c4d",
   "metadata": {},
   "outputs": [],
   "source": [
    "c1 = Circle(4)"
   ]
  },
  {
   "cell_type": "code",
   "execution_count": 51,
   "id": "c0b72cfb-73dc-45fb-b20b-6664142f25fa",
   "metadata": {},
   "outputs": [
    {
     "name": "stdout",
     "output_type": "stream",
     "text": [
      "50.26548245743669\n"
     ]
    }
   ],
   "source": [
    "print(c1.area())"
   ]
  },
  {
   "cell_type": "code",
   "execution_count": 52,
   "id": "8c3f1289-5b9b-44ef-9b3d-f0befb20a6fe",
   "metadata": {},
   "outputs": [
    {
     "name": "stdout",
     "output_type": "stream",
     "text": [
      "25.132741228718345\n"
     ]
    }
   ],
   "source": [
    "print(c1.perimeter())"
   ]
  },
  {
   "cell_type": "code",
   "execution_count": 53,
   "id": "0da8ddc3-0a24-434f-a417-58cfdc6cb5b0",
   "metadata": {},
   "outputs": [],
   "source": [
    "#Inheritence"
   ]
  },
  {
   "cell_type": "code",
   "execution_count": 55,
   "id": "7c5e12e8-f75b-4095-8f61-422a92999886",
   "metadata": {},
   "outputs": [],
   "source": [
    "class Parent:\n",
    "    def hello(self):\n",
    "        print(\"Helloworld\")\n",
    "\n",
    "class Child(Parent):      #Single inheritence\n",
    "    pass"
   ]
  },
  {
   "cell_type": "code",
   "execution_count": 56,
   "id": "11bf146f-420c-4eaf-b052-8b98948acbba",
   "metadata": {},
   "outputs": [],
   "source": [
    "c = Child()"
   ]
  },
  {
   "cell_type": "code",
   "execution_count": 57,
   "id": "6dd04cce-bd9b-4f3d-8d84-9eb3e2eab20d",
   "metadata": {},
   "outputs": [
    {
     "name": "stdout",
     "output_type": "stream",
     "text": [
      "Helloworld\n"
     ]
    }
   ],
   "source": [
    "c.hello()"
   ]
  },
  {
   "cell_type": "code",
   "execution_count": 1,
   "id": "6bc165e2-a56e-4d87-8b45-bb580db5113f",
   "metadata": {},
   "outputs": [],
   "source": [
    "class Person:\n",
    "    def __init__(self, name, age, address):\n",
    "        print(name, age, address)\n",
    "    #attribute/property (inside class), variable (outside class)\n",
    "        self.name = \"Ram\"\n",
    "        self.age = 22\n",
    "        self.address = \"Kathmandu\"\n",
    "    \n",
    "    #action/ behaviour/method(inside class) , function(outside class)\n",
    "    def eat(self):\n",
    "        print(\"Person is eating\")\n",
    "    def sleep(self):\n",
    "        print(\"Person is sleeping\")\n",
    "    def walk(self):\n",
    "        print(\"Person is walking\")\n",
    "    def info(self):\n",
    "        print(f\"Name:{self.name}\")\n",
    "        print(f\"Age: {self.age}\")\n",
    "        print(f\"Address: {self.address}\")\n",
    "class Student(Person):    #single inheritence\n",
    "    def __init__(self, name, age, address, college, faculty, roll_no):\n",
    "        super(). __init__(name, age, address)     #duplicate lai inherit gareko\n",
    "        self.college = college\n",
    "        self.faculty = faculty\n",
    "        self.roll_no = roll_no\n",
    "        self.subjects = []\n",
    "    def learn(self):\n",
    "        print(f\"Student is learning: {self.subjects}\")\n",
    "    def add_subject(self, name):\n",
    "        if name not in self.subjects:\n",
    "            self.subjects.append(name)\n",
    "     #self is object\n",
    "    def info(self):\n",
    "        super().info()\n",
    "        print(f\"Roll_no: {self.roll_no}\")\n",
    "        print(f\"Faculty: {self.faculty}\")\n",
    "        print(f\"Subjects: {self.subjects}\")\n",
    "        print(f\"College: {self.college}\")\n",
    "class BachelorStudent(Student):\n",
    "    def __init__(self, name, address, college, faculty, roll_no, university):\n",
    "        #calling Student's __init__method\n",
    "        super().__init__(name, age, address, college, faculty, roll_no)\n",
    "        self.university = university\n",
    "# BachelorStudent class le Student class ko info method override gareko ho\n",
    "    def info(self):\n",
    "        #calling Student's info method\n",
    "        super().info()\n",
    "        print(f\"University: {self.university}\")"
   ]
  },
  {
   "cell_type": "code",
   "execution_count": 3,
   "id": "0a84dc71-9bf3-4b37-a8ab-eb6c83850158",
   "metadata": {},
   "outputs": [
    {
     "ename": "TypeError",
     "evalue": "BachelorStudent.__init__() got an unexpected keyword argument 'age'",
     "output_type": "error",
     "traceback": [
      "\u001b[1;31m---------------------------------------------------------------------------\u001b[0m",
      "\u001b[1;31mTypeError\u001b[0m                                 Traceback (most recent call last)",
      "Cell \u001b[1;32mIn[3], line 1\u001b[0m\n\u001b[1;32m----> 1\u001b[0m s1 \u001b[38;5;241m=\u001b[39m \u001b[43mBachelorStudent\u001b[49m\u001b[43m(\u001b[49m\u001b[43mname\u001b[49m\u001b[43m \u001b[49m\u001b[38;5;241;43m=\u001b[39;49m\u001b[38;5;124;43m\"\u001b[39;49m\u001b[38;5;124;43mRam\u001b[39;49m\u001b[38;5;124;43m\"\u001b[39;49m\u001b[43m,\u001b[49m\u001b[43m \u001b[49m\u001b[43mage\u001b[49m\u001b[43m \u001b[49m\u001b[38;5;241;43m=\u001b[39;49m\u001b[43m \u001b[49m\u001b[38;5;241;43m22\u001b[39;49m\u001b[43m,\u001b[49m\u001b[43m \u001b[49m\u001b[43maddress\u001b[49m\u001b[43m \u001b[49m\u001b[38;5;241;43m=\u001b[39;49m\u001b[43m \u001b[49m\u001b[38;5;124;43m\"\u001b[39;49m\u001b[38;5;124;43mKTM\u001b[39;49m\u001b[38;5;124;43m\"\u001b[39;49m\u001b[43m,\u001b[49m\u001b[43m \u001b[49m\u001b[43mcollege\u001b[49m\u001b[43m \u001b[49m\u001b[38;5;241;43m=\u001b[39;49m\u001b[43m \u001b[49m\u001b[38;5;124;43m\"\u001b[39;49m\u001b[38;5;124;43mISMT\u001b[39;49m\u001b[38;5;124;43m\"\u001b[39;49m\u001b[43m,\u001b[49m\u001b[43m \u001b[49m\u001b[43mfaculty\u001b[49m\u001b[43m \u001b[49m\u001b[38;5;241;43m=\u001b[39;49m\u001b[43m \u001b[49m\u001b[38;5;124;43m\"\u001b[39;49m\u001b[38;5;124;43mIT\u001b[39;49m\u001b[38;5;124;43m\"\u001b[39;49m\u001b[43m,\u001b[49m\u001b[43m \u001b[49m\u001b[43mroll_no\u001b[49m\u001b[43m \u001b[49m\u001b[38;5;241;43m=\u001b[39;49m\u001b[43m \u001b[49m\u001b[38;5;241;43m5\u001b[39;49m\u001b[43m,\u001b[49m\u001b[43m \u001b[49m\u001b[43muniversity\u001b[49m\u001b[43m \u001b[49m\u001b[38;5;241;43m=\u001b[39;49m\u001b[43m \u001b[49m\u001b[38;5;124;43m\"\u001b[39;49m\u001b[38;5;124;43mSunderland\u001b[39;49m\u001b[38;5;124;43m\"\u001b[39;49m\u001b[43m)\u001b[49m\n\u001b[0;32m      2\u001b[0m s1\u001b[38;5;241m.\u001b[39minfo()\n",
      "\u001b[1;31mTypeError\u001b[0m: BachelorStudent.__init__() got an unexpected keyword argument 'age'"
     ]
    }
   ],
   "source": [
    "s1 = BachelorStudent(name =\"Ram\", age = 22, address = \"KTM\", college = \"ISMT\", faculty = \"IT\", roll_no = 5, university = \"Sunderland\")\n",
    "s1.info()"
   ]
  },
  {
   "cell_type": "code",
   "execution_count": 5,
   "id": "5e519ae7-a813-45f4-bc62-db4ca605ee73",
   "metadata": {},
   "outputs": [],
   "source": [
    "#hierarchical inheritence    => eutai class lai dherai class le inherit garirako \n",
    "class Person:\n",
    "    pass\n",
    "class Student(Person):\n",
    "    pass\n",
    "class Teacher(Person):\n",
    "    pass\n",
    "class Employee(Person):\n",
    "    pass\n",
    "class Principal(Person):\n",
    "    pass\n"
   ]
  },
  {
   "cell_type": "code",
   "execution_count": 10,
   "id": "5cca30bd-abaa-4e0f-8c25-b10aed904c64",
   "metadata": {},
   "outputs": [
    {
     "name": "stdout",
     "output_type": "stream",
     "text": [
      "This is vehicle\n",
      "Car name is: BMW\n",
      "This is vehicle\n",
      "Truck name is: Ford\n"
     ]
    }
   ],
   "source": [
    "class Vehicle:     #hierarchical / multiple inheritance\n",
    "    def info(self):\n",
    "        print(\"This is vehicle\")\n",
    "        \n",
    "class Car(Vehicle):\n",
    "    def car_info(self, name):\n",
    "        print(\"Car name is:\", name)\n",
    "            \n",
    "class Truck(Vehicle):\n",
    "    def truck_info(self, name):\n",
    "        print(\"Truck name is:\", name)\n",
    "\n",
    "obj1 = Car()\n",
    "obj1.info()\n",
    "obj1.car_info('BMW')\n",
    "\n",
    "obj2 = Truck()\n",
    "obj2.info()\n",
    "obj2.truck_info('Ford')"
   ]
  },
  {
   "cell_type": "code",
   "execution_count": 11,
   "id": "075ba54f-5a68-424d-beee-1c5305a5c6b9",
   "metadata": {},
   "outputs": [
    {
     "name": "stdout",
     "output_type": "stream",
     "text": [
      "Inside Vehicle Class\n",
      "Inside Car Class\n",
      "Inside SportsCar Class\n"
     ]
    }
   ],
   "source": [
    "#hybrid inheritance/ spaghetti code\n",
    "class Vehicle:\n",
    "    def vehicle_info(self):\n",
    "        print(\"Inside Vehicle Class\")\n",
    "\n",
    "class Car(Vehicle):\n",
    "    def car_info(self):\n",
    "        print(\"Inside Car Class\")\n",
    "\n",
    "class Truck(Vehicle):\n",
    "    def truck_info(self):\n",
    "        print(\"Inside Truck Class\")\n",
    "\n",
    "#sport car can inherits properties of Vehicle and Car\n",
    "class SportsCar(Car, Vehicle):\n",
    "    def sports_car_info(self):\n",
    "        print(\"Inside SportsCar Class\")\n",
    "\n",
    "#create object\n",
    "s_car = SportsCar()\n",
    "\n",
    "s_car.vehicle_info()\n",
    "s_car.car_info()\n",
    "s_car.sports_car_info()"
   ]
  },
  {
   "cell_type": "code",
   "execution_count": 12,
   "id": "6421a3c5-ad3e-4378-be9f-ea9e6f9b1ef1",
   "metadata": {},
   "outputs": [],
   "source": [
    "class Hello:\n",
    "    def hi(self):\n",
    "        print(self)"
   ]
  },
  {
   "cell_type": "code",
   "execution_count": 13,
   "id": "74a86b66-5a27-4bdb-b2b6-12ec6a683458",
   "metadata": {},
   "outputs": [],
   "source": [
    "h1 = Hello()"
   ]
  },
  {
   "cell_type": "code",
   "execution_count": 14,
   "id": "d0e6e46b-f20c-429a-a07e-547f6d87b919",
   "metadata": {},
   "outputs": [
    {
     "name": "stdout",
     "output_type": "stream",
     "text": [
      "<__main__.Hello object at 0x0000018D995DEAB0>\n"
     ]
    }
   ],
   "source": [
    "print(h1)"
   ]
  },
  {
   "cell_type": "code",
   "execution_count": 15,
   "id": "8822fd28-f0f5-4caf-a556-7285b70963dc",
   "metadata": {},
   "outputs": [
    {
     "name": "stdout",
     "output_type": "stream",
     "text": [
      "<__main__.Hello object at 0x0000018D995DEAB0>\n"
     ]
    }
   ],
   "source": [
    "h1.hi()"
   ]
  },
  {
   "cell_type": "code",
   "execution_count": 17,
   "id": "8241d7d3-00bd-4f7b-80fa-8add39355986",
   "metadata": {},
   "outputs": [
    {
     "name": "stdout",
     "output_type": "stream",
     "text": [
      "<__main__.Hello object at 0x0000018D995DEAB0>\n"
     ]
    }
   ],
   "source": [
    "Hello.hi(h1)"
   ]
  },
  {
   "cell_type": "code",
   "execution_count": 18,
   "id": "7faa4597-cacd-44ae-9629-7446d4313578",
   "metadata": {},
   "outputs": [],
   "source": [
    "class Rectangle:\n",
    "    def __init__(self, length, breadth):\n",
    "        #public attribute => can be accessed outside of class\n",
    "        self.l = length\n",
    "        self.b = breadth\n",
    "    #public method\n",
    "    def area(self):\n",
    "        return self.l * self.b\n",
    "    #public method\n",
    "    def perimeter(self):\n",
    "        return 2 * (self.l + self.b)"
   ]
  },
  {
   "cell_type": "code",
   "execution_count": 19,
   "id": "c2199042-a2f6-43de-82d2-287f1031a65f",
   "metadata": {},
   "outputs": [],
   "source": [
    "r = Rectangle(2, 3)"
   ]
  },
  {
   "cell_type": "code",
   "execution_count": 21,
   "id": "38650513-3ba3-4542-b7d8-556c02a94e0b",
   "metadata": {},
   "outputs": [
    {
     "data": {
      "text/plain": [
       "2"
      ]
     },
     "execution_count": 21,
     "metadata": {},
     "output_type": "execute_result"
    }
   ],
   "source": [
    "r.l"
   ]
  },
  {
   "cell_type": "code",
   "execution_count": 22,
   "id": "e2610672-0d5f-4b5f-95ca-f65caaf8e07f",
   "metadata": {},
   "outputs": [
    {
     "data": {
      "text/plain": [
       "3"
      ]
     },
     "execution_count": 22,
     "metadata": {},
     "output_type": "execute_result"
    }
   ],
   "source": [
    "r.b"
   ]
  },
  {
   "cell_type": "code",
   "execution_count": 23,
   "id": "fc1342af-18ef-45d4-b46b-19ceb89bc963",
   "metadata": {},
   "outputs": [],
   "source": [
    "r.l = \"ram\""
   ]
  },
  {
   "cell_type": "code",
   "execution_count": 24,
   "id": "8e353134-c9c9-4810-bd38-6620a1d4194e",
   "metadata": {},
   "outputs": [
    {
     "data": {
      "text/plain": [
       "'ramramram'"
      ]
     },
     "execution_count": 24,
     "metadata": {},
     "output_type": "execute_result"
    }
   ],
   "source": [
    "r.area()"
   ]
  },
  {
   "cell_type": "code",
   "execution_count": 25,
   "id": "a769e62d-76bb-4889-9bdb-5f388afe6d7f",
   "metadata": {},
   "outputs": [],
   "source": [
    "class Rectangle:\n",
    "    def __init__(self, length, breadth):\n",
    "        #public attribute => can be accessed outside of class\n",
    "        self.__l = length    #double underscore garyo vane public attribute private ma change hunchha\n",
    "        self.__b = breadth\n",
    "    #public method\n",
    "    def area(self):\n",
    "        return self.__l * self.__b\n",
    "    #public method\n",
    "    def perimeter(self):\n",
    "        return 2 * (self.__l + self.__b)"
   ]
  },
  {
   "cell_type": "code",
   "execution_count": 26,
   "id": "f6f1a4c5-1b08-4a45-bacd-9d6f718a3875",
   "metadata": {},
   "outputs": [],
   "source": [
    "r = Rectangle(2, 3)"
   ]
  },
  {
   "cell_type": "code",
   "execution_count": 29,
   "id": "64efbbe4-069f-4984-a312-08054bb2863f",
   "metadata": {},
   "outputs": [
    {
     "ename": "AttributeError",
     "evalue": "'Rectangle' object has no attribute '__l'",
     "output_type": "error",
     "traceback": [
      "\u001b[1;31m---------------------------------------------------------------------------\u001b[0m",
      "\u001b[1;31mAttributeError\u001b[0m                            Traceback (most recent call last)",
      "Cell \u001b[1;32mIn[29], line 1\u001b[0m\n\u001b[1;32m----> 1\u001b[0m \u001b[43mr\u001b[49m\u001b[38;5;241;43m.\u001b[39;49m\u001b[43m__l\u001b[49m\n",
      "\u001b[1;31mAttributeError\u001b[0m: 'Rectangle' object has no attribute '__l'"
     ]
    }
   ],
   "source": [
    "r.__l"
   ]
  },
  {
   "cell_type": "code",
   "execution_count": 31,
   "id": "f4d9ff38-757d-4fc4-b8e1-3f705638885f",
   "metadata": {},
   "outputs": [
    {
     "ename": "NameError",
     "evalue": "name 'r1' is not defined",
     "output_type": "error",
     "traceback": [
      "\u001b[1;31m---------------------------------------------------------------------------\u001b[0m",
      "\u001b[1;31mNameError\u001b[0m                                 Traceback (most recent call last)",
      "Cell \u001b[1;32mIn[31], line 1\u001b[0m\n\u001b[1;32m----> 1\u001b[0m \u001b[43mr1\u001b[49m\u001b[38;5;241m.\u001b[39ml \u001b[38;5;241m=\u001b[39m \u001b[38;5;124m\"\u001b[39m\u001b[38;5;124mram\u001b[39m\u001b[38;5;124m\"\u001b[39m\n",
      "\u001b[1;31mNameError\u001b[0m: name 'r1' is not defined"
     ]
    }
   ],
   "source": [
    "r1.l = \"ram\""
   ]
  },
  {
   "cell_type": "code",
   "execution_count": 32,
   "id": "4bbedf74-6c61-4030-a60e-d3f0e3f8be5b",
   "metadata": {},
   "outputs": [
    {
     "ename": "NameError",
     "evalue": "name 'r1' is not defined",
     "output_type": "error",
     "traceback": [
      "\u001b[1;31m---------------------------------------------------------------------------\u001b[0m",
      "\u001b[1;31mNameError\u001b[0m                                 Traceback (most recent call last)",
      "Cell \u001b[1;32mIn[32], line 1\u001b[0m\n\u001b[1;32m----> 1\u001b[0m \u001b[43mr1\u001b[49m\u001b[38;5;241m.\u001b[39m__l \u001b[38;5;241m=\u001b[39m \u001b[38;5;124m\"\u001b[39m\u001b[38;5;124mram\u001b[39m\u001b[38;5;124m\"\u001b[39m\n\u001b[0;32m      2\u001b[0m r1\u001b[38;5;241m.\u001b[39marea()\n",
      "\u001b[1;31mNameError\u001b[0m: name 'r1' is not defined"
     ]
    }
   ],
   "source": [
    "r1.__l = \"ram\"\n",
    "r1.area()"
   ]
  },
  {
   "cell_type": "code",
   "execution_count": 33,
   "id": "613f8928-3aa0-4db1-ab42-c485a76ba3fd",
   "metadata": {},
   "outputs": [
    {
     "ename": "NameError",
     "evalue": "name 'r1' is not defined",
     "output_type": "error",
     "traceback": [
      "\u001b[1;31m---------------------------------------------------------------------------\u001b[0m",
      "\u001b[1;31mNameError\u001b[0m                                 Traceback (most recent call last)",
      "Cell \u001b[1;32mIn[33], line 1\u001b[0m\n\u001b[1;32m----> 1\u001b[0m \u001b[43mr1\u001b[49m\u001b[38;5;241m.\u001b[39ml \u001b[38;5;241m=\u001b[39m \u001b[38;5;124m'\u001b[39m\u001b[38;5;124mram\u001b[39m\u001b[38;5;124m'\u001b[39m\n\u001b[0;32m      2\u001b[0m r1\u001b[38;5;241m.\u001b[39marea()\n",
      "\u001b[1;31mNameError\u001b[0m: name 'r1' is not defined"
     ]
    }
   ],
   "source": [
    "r1.l = 'ram'\n",
    "r1.area()"
   ]
  },
  {
   "cell_type": "code",
   "execution_count": 61,
   "id": "ec15121c-d45c-460c-8ff9-b9473bb64709",
   "metadata": {},
   "outputs": [],
   "source": [
    "class Rectangle:\n",
    "    def __init__(self, length, breadth):\n",
    "        #public attribute => can be accessed outside of class\n",
    "        self.__length = length\n",
    "        self.__breadth = breadth\n",
    "    #public method\n",
    "    def area(self):\n",
    "        return self.__length * self.__breadth\n",
    "    #public method\n",
    "    def perimeter(self):\n",
    "        return 2 * (self.__length + self.__breadth)\n",
    "\n",
    "    def length_getter(self):    #public attribute lai herna chai payo tara change garna mildaina\n",
    "        return self.__length"
   ]
  },
  {
   "cell_type": "code",
   "execution_count": 62,
   "id": "40366657-8a20-40e6-ac2e-1555fc7775fa",
   "metadata": {},
   "outputs": [],
   "source": [
    "r1 = Rectangle(2, 4)"
   ]
  },
  {
   "cell_type": "code",
   "execution_count": 63,
   "id": "7de4fa7f-1b30-471c-ac97-0d2232d985f1",
   "metadata": {},
   "outputs": [
    {
     "data": {
      "text/plain": [
       "2"
      ]
     },
     "execution_count": 63,
     "metadata": {},
     "output_type": "execute_result"
    }
   ],
   "source": [
    "r1.length_getter()"
   ]
  },
  {
   "cell_type": "code",
   "execution_count": 64,
   "id": "1efaa2e4-030c-41a4-98d8-9f19e4b9ac24",
   "metadata": {},
   "outputs": [],
   "source": [
    "class Rectangle:\n",
    "    def __init__(self, length, breadth):\n",
    "        #public attribute => can be accessed outside of class\n",
    "        self.__length = length\n",
    "        self.__breadth = breadth\n",
    "    #public method\n",
    "    def area(self):\n",
    "        return self.__length * self.__breadth\n",
    "    #public method\n",
    "    def perimeter(self):\n",
    "        return 2 * (self.__length + self.__breadth)\n",
    "\n",
    "    def length_getter(self):    #public attribute lai herna chai payo tara change garna mildaina\n",
    "        return self.__length\n",
    "\n",
    "    def length_setter(self, value):\n",
    "        self.__length = value\n",
    "        "
   ]
  },
  {
   "cell_type": "code",
   "execution_count": 65,
   "id": "5f6b29a7-c039-49cc-8f4c-6628280f9d6d",
   "metadata": {},
   "outputs": [],
   "source": [
    "r1 = Rectangle(2, 4)"
   ]
  },
  {
   "cell_type": "code",
   "execution_count": 66,
   "id": "16f3d97f-bc9a-456f-9dfd-cf871cbbd52b",
   "metadata": {},
   "outputs": [
    {
     "data": {
      "text/plain": [
       "2"
      ]
     },
     "execution_count": 66,
     "metadata": {},
     "output_type": "execute_result"
    }
   ],
   "source": [
    "r1.length_getter()"
   ]
  },
  {
   "cell_type": "code",
   "execution_count": 67,
   "id": "bbd0a959-90ed-45b7-8ab0-a2b5f6034f9e",
   "metadata": {},
   "outputs": [],
   "source": [
    "r1.length_setter(5)"
   ]
  },
  {
   "cell_type": "code",
   "execution_count": 68,
   "id": "8ed00ee7-a49e-4b18-8432-5c5a4b41286f",
   "metadata": {},
   "outputs": [
    {
     "data": {
      "text/plain": [
       "5"
      ]
     },
     "execution_count": 68,
     "metadata": {},
     "output_type": "execute_result"
    }
   ],
   "source": [
    "r1.length_getter()"
   ]
  },
  {
   "cell_type": "code",
   "execution_count": 69,
   "id": "03537b85-dbbf-4b67-a291-30189f9d6942",
   "metadata": {},
   "outputs": [
    {
     "data": {
      "text/plain": [
       "20"
      ]
     },
     "execution_count": 69,
     "metadata": {},
     "output_type": "execute_result"
    }
   ],
   "source": [
    "r1.area()"
   ]
  },
  {
   "cell_type": "code",
   "execution_count": 70,
   "id": "f9910ffb-1280-4c0f-bb4d-a97328f1223f",
   "metadata": {},
   "outputs": [],
   "source": [
    "class Rectangle:\n",
    "    def __init__(self, length, breadth):\n",
    "        #public attribute => can be accessed outside of class\n",
    "        self.__length = length\n",
    "        self.__breadth = breadth\n",
    "    #public method\n",
    "    def area(self):\n",
    "        return self.__length * self.__breadth\n",
    "    #public method\n",
    "    def perimeter(self):\n",
    "        return 2 * (self.__length + self.__breadth)\n",
    "\n",
    "    def length_getter(self):    #public attribute lai herna chai payo tara change garna mildaina\n",
    "        return self.__length\n",
    "\n",
    "    def length_setter(self, value):\n",
    "        if isinstance(value, (int, float)):\n",
    "            raise ValueError(\"Not a valid data type.\")\n",
    "        self.__length = value"
   ]
  },
  {
   "cell_type": "code",
   "execution_count": 71,
   "id": "fedea891-a095-4001-a9f2-fbe3966938c7",
   "metadata": {},
   "outputs": [],
   "source": [
    "r1 = Rectangle(4, 2)"
   ]
  },
  {
   "cell_type": "code",
   "execution_count": 72,
   "id": "e7a29e64-ef7a-4f25-bc35-236393a7a4f5",
   "metadata": {},
   "outputs": [],
   "source": [
    "r1.length_setter(\"ram\")"
   ]
  },
  {
   "cell_type": "code",
   "execution_count": 73,
   "id": "ea0a7c1e-d4b5-4325-a5aa-c525f0a52bc6",
   "metadata": {},
   "outputs": [
    {
     "data": {
      "text/plain": [
       "<bound method Rectangle.area of <__main__.Rectangle object at 0x0000018D99594BF0>>"
      ]
     },
     "execution_count": 73,
     "metadata": {},
     "output_type": "execute_result"
    }
   ],
   "source": [
    "r1.area"
   ]
  },
  {
   "cell_type": "code",
   "execution_count": 80,
   "id": "4bdc9f44-cf10-451c-b28b-291ce840a9ba",
   "metadata": {},
   "outputs": [],
   "source": [
    "class Rectangle:\n",
    "    def __init__(self, length, breadth):\n",
    "        #public attribute => can be accessed outside of class\n",
    "        self.__length = length\n",
    "        self.__breadth = breadth\n",
    "    #public method\n",
    "    def area(self):\n",
    "        return self.__length * self.__breadth\n",
    "    #public method\n",
    "    def perimeter(self):\n",
    "        return 2 * (self.__length + self.__breadth)\n",
    "        \n",
    "    def length_setter(self, value):\n",
    "        if isinstance(value, (int, float)):\n",
    "            raise ValueError(\"Not a valid data type.\")\n",
    "        self.__length = value\n",
    "\n",
    "    def breadth_getter(self):    #public attribute lai herna chai payo tara change garna mildaina\n",
    "        return self.__breadth\n",
    "\n",
    "    def breadth_setter(self, value):\n",
    "        if isinstance(value, (int, float)):\n",
    "            raise ValueError(\"Not a valid data type.\")\n",
    "        self.__length = value"
   ]
  },
  {
   "cell_type": "code",
   "execution_count": 81,
   "id": "f7a9fdf5-df41-4a92-8ef0-76383b3ebdab",
   "metadata": {},
   "outputs": [],
   "source": [
    "r1 = Rectangle(2, 6)"
   ]
  },
  {
   "cell_type": "code",
   "execution_count": 82,
   "id": "09f6e05d-28a9-4e70-99a7-9c4cabb5f27b",
   "metadata": {},
   "outputs": [
    {
     "ename": "TypeError",
     "evalue": "Rectangle.breadth_getter() takes 1 positional argument but 2 were given",
     "output_type": "error",
     "traceback": [
      "\u001b[1;31m---------------------------------------------------------------------------\u001b[0m",
      "\u001b[1;31mTypeError\u001b[0m                                 Traceback (most recent call last)",
      "Cell \u001b[1;32mIn[82], line 1\u001b[0m\n\u001b[1;32m----> 1\u001b[0m \u001b[43mr1\u001b[49m\u001b[38;5;241;43m.\u001b[39;49m\u001b[43mbreadth_getter\u001b[49m\u001b[43m(\u001b[49m\u001b[38;5;124;43m\"\u001b[39;49m\u001b[38;5;124;43mram\u001b[39;49m\u001b[38;5;124;43m\"\u001b[39;49m\u001b[43m)\u001b[49m\n",
      "\u001b[1;31mTypeError\u001b[0m: Rectangle.breadth_getter() takes 1 positional argument but 2 were given"
     ]
    }
   ],
   "source": [
    "r1.breadth_getter(\"ram\")"
   ]
  },
  {
   "cell_type": "code",
   "execution_count": 87,
   "id": "4c3cc5f5-d59b-4f07-9170-0311ef27340c",
   "metadata": {},
   "outputs": [],
   "source": [
    "class Rectangle:\n",
    "    def __init__(self, length, breadth):\n",
    "        #public attribute => can be accessed outside of class\n",
    "        self.__length = length\n",
    "        self.__breadth = breadth\n",
    "    #public method\n",
    "    def area(self):\n",
    "        return self.__length * self.__breadth\n",
    "    #public method\n",
    "    def perimeter(self):\n",
    "        return 2 * (self.__length + self.__breadth)\n",
    "\n",
    "    def __validate(self, value):\n",
    "        if not isinstance(value, (int, float)):\n",
    "            raise ValueError(\"Invalid datatype\")\n",
    "\n",
    "    def length_getter(self):\n",
    "        return self.__length\n",
    "        \n",
    "    def length_setter(self, value):\n",
    "        self.__validate(value)\n",
    "        self.__length = value\n",
    "\n",
    "    def breadth_getter(self):    #public attribute lai herna chai payo tara change garna mildaina\n",
    "        return self.__breadth\n",
    "\n",
    "    def breadth_setter(self, value):\n",
    "        self.__validate(value)\n",
    "        self.__length = value\n",
    "    "
   ]
  },
  {
   "cell_type": "code",
   "execution_count": 88,
   "id": "a377e38d-de46-4b8d-94f1-3e41692a4c20",
   "metadata": {},
   "outputs": [],
   "source": [
    "r1 = Rectangle(2, 4)"
   ]
  },
  {
   "cell_type": "code",
   "execution_count": 89,
   "id": "6ad4f730-0cf1-4254-8d78-f80ca167cede",
   "metadata": {},
   "outputs": [
    {
     "data": {
      "text/plain": [
       "8"
      ]
     },
     "execution_count": 89,
     "metadata": {},
     "output_type": "execute_result"
    }
   ],
   "source": [
    "r1.area()"
   ]
  },
  {
   "cell_type": "code",
   "execution_count": 90,
   "id": "c2631817-7b8e-4dcf-9682-6c7dd9aad67c",
   "metadata": {},
   "outputs": [],
   "source": [
    "class Point:\n",
    "    def __init__(self, x, y):\n",
    "        self.x = x\n",
    "        self.y = y \n",
    "    "
   ]
  },
  {
   "cell_type": "code",
   "execution_count": 91,
   "id": "4cb311c3-cac4-4218-bc44-c119a24351a0",
   "metadata": {},
   "outputs": [],
   "source": [
    "p =Point(2, 3)"
   ]
  },
  {
   "cell_type": "code",
   "execution_count": 92,
   "id": "36b79429-4674-4412-97af-7ebdd4e23d16",
   "metadata": {},
   "outputs": [
    {
     "name": "stdout",
     "output_type": "stream",
     "text": [
      "<__main__.Point object at 0x0000018D995DF9E0>\n"
     ]
    }
   ],
   "source": [
    "print(p)"
   ]
  },
  {
   "cell_type": "code",
   "execution_count": 93,
   "id": "1b55dd77-5fb0-4477-bef3-0b03f0c9c391",
   "metadata": {},
   "outputs": [],
   "source": [
    "class Point:\n",
    "    def __init__(self, x, y):\n",
    "        self.x = x\n",
    "        self.y = y\n",
    "\n",
    "    #special method/ double underscore/ dunder/ magic method\n",
    "    def __str__(self):\n",
    "        return f\"Point({self.x}, {self.y})\""
   ]
  },
  {
   "cell_type": "code",
   "execution_count": 94,
   "id": "bc7d138d-baa1-47ff-96bf-a47d164325e1",
   "metadata": {},
   "outputs": [],
   "source": [
    "p = Point(2, 3)"
   ]
  },
  {
   "cell_type": "code",
   "execution_count": 95,
   "id": "7a65cb18-f7de-4cc7-9e7d-02cc31015a1f",
   "metadata": {},
   "outputs": [
    {
     "name": "stdout",
     "output_type": "stream",
     "text": [
      "Point(2, 3)\n"
     ]
    }
   ],
   "source": [
    "print(p)"
   ]
  },
  {
   "cell_type": "code",
   "execution_count": 19,
   "id": "14fee0d9-e30b-4070-9531-2b8565d9e5f2",
   "metadata": {},
   "outputs": [],
   "source": [
    "#Two types of developers:\n",
    "#framework/library use garne/ python use garne\n",
    "#framework banaune/ python banaune"
   ]
  },
  {
   "cell_type": "code",
   "execution_count": 20,
   "id": "aa77146b-f2c4-42cf-9592-3bf37e886d78",
   "metadata": {},
   "outputs": [],
   "source": [
    "class Point:\n",
    "    def __init__(self, x, y):\n",
    "        self.x = x\n",
    "        self.y = y\n",
    "\n",
    "    #special method/ double underscore/ dunder/ magic method\n",
    "    def __str__(self):     #framework/library use garne/ python use garne\n",
    "        return f\"Point({self.x}, {self.y})\"\n",
    "\n",
    "    def __repr__(self):    #framework banaune/ python banaune\n",
    "        return f\"Point({self.x}, {self.y})\""
   ]
  },
  {
   "cell_type": "code",
   "execution_count": 21,
   "id": "df3091fc-7f9c-466c-a614-d9881564977f",
   "metadata": {},
   "outputs": [],
   "source": [
    "p =Point(7, 8)"
   ]
  },
  {
   "cell_type": "code",
   "execution_count": 22,
   "id": "ac66ef2f-ec11-4125-81bf-80bd3cfb65de",
   "metadata": {},
   "outputs": [
    {
     "data": {
      "text/plain": [
       "Point(7, 8)"
      ]
     },
     "execution_count": 22,
     "metadata": {},
     "output_type": "execute_result"
    }
   ],
   "source": [
    "p"
   ]
  },
  {
   "cell_type": "code",
   "execution_count": 38,
   "id": "73b2f222-b172-4c65-95d5-64ec65457f08",
   "metadata": {},
   "outputs": [],
   "source": [
    "class Point:\n",
    "    def __init__(self, x, y):\n",
    "        self.x = x\n",
    "        self.y = y\n",
    "\n",
    "    #special method/ double underscore/ dunder/ magic method\n",
    "    def __str__(self):     #framework/library use garne/ python use garne\n",
    "        return f\"Point({self.x}, {self.y})\"\n",
    "\n",
    "    def __repr__(self):    #framework banaune/ python banaune\n",
    "        return f\"Point({self.x}, {self.y})\""
   ]
  },
  {
   "cell_type": "code",
   "execution_count": 39,
   "id": "3345a6fc-16e7-4e1c-9ee8-f048a144ba17",
   "metadata": {},
   "outputs": [],
   "source": [
    "    def __add__(self, other):  \n",
    "        total_x = self.x + other.x\n",
    "        total_y = self.y + other.y\n",
    "        return Point(total_x + total_y)\n",
    "\n",
    "    def __sub__(self, other):\n",
    "        total_x = self.x - other.x\n",
    "        total_y = self.y - other.y\n",
    "        return Point(total_x - total_y)"
   ]
  },
  {
   "cell_type": "code",
   "execution_count": 45,
   "id": "96805253-c9a3-4361-90cb-6ece1dd9356b",
   "metadata": {},
   "outputs": [],
   "source": [
    "p1 = Point(1, 2)\n",
    "p2 = Point(3, 4)"
   ]
  },
  {
   "cell_type": "code",
   "execution_count": 46,
   "id": "1ef7e230-55df-4072-a185-864d60a6b8ae",
   "metadata": {},
   "outputs": [
    {
     "ename": "TypeError",
     "evalue": "unsupported operand type(s) for +: 'Point' and 'Point'",
     "output_type": "error",
     "traceback": [
      "\u001b[1;31m---------------------------------------------------------------------------\u001b[0m",
      "\u001b[1;31mTypeError\u001b[0m                                 Traceback (most recent call last)",
      "Cell \u001b[1;32mIn[46], line 1\u001b[0m\n\u001b[1;32m----> 1\u001b[0m \u001b[43mp1\u001b[49m\u001b[38;5;241;43m+\u001b[39;49m\u001b[43mp2\u001b[49m\n",
      "\u001b[1;31mTypeError\u001b[0m: unsupported operand type(s) for +: 'Point' and 'Point'"
     ]
    }
   ],
   "source": [
    "p1+p2"
   ]
  },
  {
   "cell_type": "code",
   "execution_count": null,
   "id": "4f04262c-d4f6-4120-8b25-f13f8a670c82",
   "metadata": {},
   "outputs": [],
   "source": []
  },
  {
   "cell_type": "code",
   "execution_count": null,
   "id": "3b57a7ad-2f8a-4dc0-b7e9-bd9fec37d105",
   "metadata": {},
   "outputs": [],
   "source": []
  },
  {
   "cell_type": "code",
   "execution_count": null,
   "id": "81dd9487-07e5-4ee8-9786-4f1b1fc9d47a",
   "metadata": {},
   "outputs": [],
   "source": []
  }
 ],
 "metadata": {
  "kernelspec": {
   "display_name": "Python 3 (ipykernel)",
   "language": "python",
   "name": "python3"
  },
  "language_info": {
   "codemirror_mode": {
    "name": "ipython",
    "version": 3
   },
   "file_extension": ".py",
   "mimetype": "text/x-python",
   "name": "python",
   "nbconvert_exporter": "python",
   "pygments_lexer": "ipython3",
   "version": "3.12.4"
  }
 },
 "nbformat": 4,
 "nbformat_minor": 5
}
