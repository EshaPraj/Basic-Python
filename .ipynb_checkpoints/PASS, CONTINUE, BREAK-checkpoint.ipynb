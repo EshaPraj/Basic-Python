{
 "cells": [
  {
   "cell_type": "code",
   "execution_count": 1,
   "id": "2bb56196-ac59-4c5f-8f89-34dadfc7b4c4",
   "metadata": {},
   "outputs": [],
   "source": [
    "#pass, continue, break"
   ]
  },
  {
   "cell_type": "code",
   "execution_count": 2,
   "id": "31994b9f-1171-4f50-b066-6f944723aa0d",
   "metadata": {},
   "outputs": [
    {
     "name": "stdout",
     "output_type": "stream",
     "text": [
      "hi\n"
     ]
    }
   ],
   "source": [
    "age = 17\n",
    "if age < 18:\n",
    "    pass\n",
    "print(\"hi\")"
   ]
  },
  {
   "cell_type": "code",
   "execution_count": 16,
   "id": "dc7fa5aa-0956-451f-8307-78b5d7633c21",
   "metadata": {},
   "outputs": [
    {
     "name": "stdout",
     "output_type": "stream",
     "text": [
      "30\n"
     ]
    }
   ],
   "source": [
    "number = [1, 2, 6, 8, 9, 6, 10]\n",
    "sum = 0\n",
    "for i in number:\n",
    "    if i != 6:\n",
    "        sum += i\n",
    "print(sum)"
   ]
  },
  {
   "cell_type": "code",
   "execution_count": 17,
   "id": "0b79415b-1eb4-45f9-9c9a-a9da93a86fd9",
   "metadata": {},
   "outputs": [
    {
     "name": "stdout",
     "output_type": "stream",
     "text": [
      "30\n"
     ]
    }
   ],
   "source": [
    "number = [1, 2, 6, 8, 9, 6, 10]\n",
    "sum = 0\n",
    "for i in number:\n",
    "    if i == 6:\n",
    "        pass\n",
    "    else:\n",
    "        sum += i\n",
    "print(sum)"
   ]
  },
  {
   "cell_type": "code",
   "execution_count": 20,
   "id": "b79de317-c3b0-4d70-8ba9-66d8623ab8ec",
   "metadata": {},
   "outputs": [
    {
     "name": "stdout",
     "output_type": "stream",
     "text": [
      "42\n"
     ]
    }
   ],
   "source": [
    "number = [1, 2, 6, 8, 9, 6, 10]\n",
    "sum = 0\n",
    "for i in number:\n",
    "    if i == 6:\n",
    "        pass\n",
    "    sum += i   #else chhaina, if kai condition lagiracha so, 6 duita pani sum hunchha \n",
    "print(sum)"
   ]
  },
  {
   "cell_type": "code",
   "execution_count": 22,
   "id": "bb7b2a0f-65a2-4336-8bd8-75cfc1a99d7b",
   "metadata": {},
   "outputs": [
    {
     "name": "stdout",
     "output_type": "stream",
     "text": [
      "1\n",
      "3\n",
      "9\n",
      "17\n",
      "26\n",
      "32\n",
      "42\n"
     ]
    }
   ],
   "source": [
    "number = [1, 2, 6, 8, 9, 6, 10]\n",
    "sum = 0\n",
    "for i in number:\n",
    "    if i == 6:\n",
    "        pass\n",
    "    sum += i   \n",
    "    print(sum)"
   ]
  },
  {
   "cell_type": "code",
   "execution_count": 30,
   "id": "9de57a08-29d6-4ce9-b3b3-8db312d946b1",
   "metadata": {},
   "outputs": [
    {
     "name": "stdout",
     "output_type": "stream",
     "text": [
      "30\n"
     ]
    }
   ],
   "source": [
    "number = [1, 2, 6, 8, 9, 6, 10]\n",
    "sum = 0\n",
    "for i in number:\n",
    "    if i == 6:\n",
    "        continue  #skip the currently iterate item\n",
    "                  #doesnot run anything after continue\n",
    "                  #jumps to next item\n",
    "    sum += i\n",
    "print(sum)"
   ]
  },
  {
   "cell_type": "code",
   "execution_count": 32,
   "id": "36cbaf79-4419-4aed-b6cb-03ecd9b1b16d",
   "metadata": {},
   "outputs": [
    {
     "name": "stdout",
     "output_type": "stream",
     "text": [
      "3\n"
     ]
    }
   ],
   "source": [
    "numbers = [1, 2, 6, 8, 9, 6, 10]\n",
    "# 6 aauna bitikai stop sum\n",
    "sum = 0\n",
    "for i in number:\n",
    "    if i == 6:\n",
    "        break #terminate from current loop , skip gardaina / stop\n",
    "    sum += i\n",
    "print(sum)\n",
    "        "
   ]
  }
 ],
 "metadata": {
  "kernelspec": {
   "display_name": "Python 3 (ipykernel)",
   "language": "python",
   "name": "python3"
  },
  "language_info": {
   "codemirror_mode": {
    "name": "ipython",
    "version": 3
   },
   "file_extension": ".py",
   "mimetype": "text/x-python",
   "name": "python",
   "nbconvert_exporter": "python",
   "pygments_lexer": "ipython3",
   "version": "3.12.4"
  }
 },
 "nbformat": 4,
 "nbformat_minor": 5
}
