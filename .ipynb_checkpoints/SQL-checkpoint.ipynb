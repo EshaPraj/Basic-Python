{
 "cells": [
  {
   "cell_type": "code",
   "execution_count": 4,
   "id": "4eb65b70-ec15-4ddf-a041-2f4889297cf1",
   "metadata": {},
   "outputs": [],
   "source": [
    "import sqlite3"
   ]
  },
  {
   "cell_type": "code",
   "execution_count": 5,
   "id": "e16f5782-3816-47aa-835e-c4b77acd6b49",
   "metadata": {},
   "outputs": [],
   "source": [
    "con = sqlite3.connect(\"students1.sqlite3\")"
   ]
  },
  {
   "cell_type": "code",
   "execution_count": 6,
   "id": "fc3f64e6-ace9-4a6e-9ccd-ff2c024c3521",
   "metadata": {},
   "outputs": [],
   "source": [
    "cur = con.cursor()"
   ]
  },
  {
   "cell_type": "code",
   "execution_count": 7,
   "id": "b0069a8a-1732-4978-8fd9-8453b1ccfd73",
   "metadata": {},
   "outputs": [
    {
     "ename": "OperationalError",
     "evalue": "table student already exists",
     "output_type": "error",
     "traceback": [
      "\u001b[1;31m---------------------------------------------------------------------------\u001b[0m",
      "\u001b[1;31mOperationalError\u001b[0m                          Traceback (most recent call last)",
      "Cell \u001b[1;32mIn[7], line 12\u001b[0m\n\u001b[0;32m      1\u001b[0m CREATE_TABLE_QUERY \u001b[38;5;241m=\u001b[39m \u001b[38;5;124m\"\"\"\u001b[39m\n\u001b[0;32m      2\u001b[0m \u001b[38;5;124mCREATE TABLE student(\u001b[39m\n\u001b[0;32m      3\u001b[0m \u001b[38;5;124m\tid int primary key,\u001b[39m\n\u001b[1;32m   (...)\u001b[0m\n\u001b[0;32m     10\u001b[0m \u001b[38;5;124m);\u001b[39m\n\u001b[0;32m     11\u001b[0m \u001b[38;5;124m\"\"\"\u001b[39m\n\u001b[1;32m---> 12\u001b[0m \u001b[43mcur\u001b[49m\u001b[38;5;241;43m.\u001b[39;49m\u001b[43mexecute\u001b[49m\u001b[43m(\u001b[49m\u001b[43mCREATE_TABLE_QUERY\u001b[49m\u001b[43m)\u001b[49m\n",
      "\u001b[1;31mOperationalError\u001b[0m: table student already exists"
     ]
    }
   ],
   "source": [
    "CREATE_TABLE_QUERY = \"\"\"\n",
    "CREATE TABLE student(\n",
    "\tid int primary key,\n",
    "\tname varchar not null,\n",
    "\taddress varchar not null,\n",
    "\tcollege varchar not null,\n",
    "\tage int not null,\n",
    "\tgender varchar(1) not null,\n",
    "\tfaculty varchar not null\n",
    ");\n",
    "\"\"\"\n",
    "cur.execute(CREATE_TABLE_QUERY)"
   ]
  },
  {
   "cell_type": "code",
   "execution_count": 8,
   "id": "96d9044d-3f2d-4987-a2fa-72541c7b01e7",
   "metadata": {},
   "outputs": [
    {
     "ename": "IntegrityError",
     "evalue": "UNIQUE constraint failed: student.id",
     "output_type": "error",
     "traceback": [
      "\u001b[1;31m---------------------------------------------------------------------------\u001b[0m",
      "\u001b[1;31mIntegrityError\u001b[0m                            Traceback (most recent call last)",
      "Cell \u001b[1;32mIn[8], line 10\u001b[0m\n\u001b[0;32m      1\u001b[0m INSERT_RECORDS \u001b[38;5;241m=\u001b[39m \u001b[38;5;124m\"\"\"\u001b[39m\n\u001b[0;32m      2\u001b[0m \u001b[38;5;124mINSERT INTO student\u001b[39m\n\u001b[0;32m      3\u001b[0m \u001b[38;5;124m(\u001b[39m\u001b[38;5;124m'\u001b[39m\u001b[38;5;124mid\u001b[39m\u001b[38;5;124m'\u001b[39m\u001b[38;5;124m, \u001b[39m\u001b[38;5;124m'\u001b[39m\u001b[38;5;124mname\u001b[39m\u001b[38;5;124m'\u001b[39m\u001b[38;5;124m, \u001b[39m\u001b[38;5;124m'\u001b[39m\u001b[38;5;124maddress\u001b[39m\u001b[38;5;124m'\u001b[39m\u001b[38;5;124m, \u001b[39m\u001b[38;5;124m'\u001b[39m\u001b[38;5;124mcollege\u001b[39m\u001b[38;5;124m'\u001b[39m\u001b[38;5;124m, \u001b[39m\u001b[38;5;124m'\u001b[39m\u001b[38;5;124mage\u001b[39m\u001b[38;5;124m'\u001b[39m\u001b[38;5;124m, \u001b[39m\u001b[38;5;124m'\u001b[39m\u001b[38;5;124mgender\u001b[39m\u001b[38;5;124m'\u001b[39m\u001b[38;5;124m, \u001b[39m\u001b[38;5;124m'\u001b[39m\u001b[38;5;124mfaculty\u001b[39m\u001b[38;5;124m'\u001b[39m\u001b[38;5;124m)\u001b[39m\n\u001b[1;32m   (...)\u001b[0m\n\u001b[0;32m      8\u001b[0m \u001b[38;5;124m(4, \u001b[39m\u001b[38;5;124m'\u001b[39m\u001b[38;5;124mnayna\u001b[39m\u001b[38;5;124m'\u001b[39m\u001b[38;5;124m, \u001b[39m\u001b[38;5;124m'\u001b[39m\u001b[38;5;124mpokhara\u001b[39m\u001b[38;5;124m'\u001b[39m\u001b[38;5;124m, \u001b[39m\u001b[38;5;124m'\u001b[39m\u001b[38;5;124mtu\u001b[39m\u001b[38;5;124m'\u001b[39m\u001b[38;5;124m, 23, \u001b[39m\u001b[38;5;124m'\u001b[39m\u001b[38;5;124mf\u001b[39m\u001b[38;5;124m'\u001b[39m\u001b[38;5;124m, \u001b[39m\u001b[38;5;124m'\u001b[39m\u001b[38;5;124mCE\u001b[39m\u001b[38;5;124m'\u001b[39m\u001b[38;5;124m);\u001b[39m\n\u001b[0;32m      9\u001b[0m \u001b[38;5;124m\"\"\"\u001b[39m\n\u001b[1;32m---> 10\u001b[0m \u001b[43mcur\u001b[49m\u001b[38;5;241;43m.\u001b[39;49m\u001b[43mexecute\u001b[49m\u001b[43m(\u001b[49m\u001b[43mINSERT_RECORDS\u001b[49m\u001b[43m)\u001b[49m\n",
      "\u001b[1;31mIntegrityError\u001b[0m: UNIQUE constraint failed: student.id"
     ]
    }
   ],
   "source": [
    "INSERT_RECORDS = \"\"\"\n",
    "INSERT INTO student\n",
    "('id', 'name', 'address', 'college', 'age', 'gender', 'faculty')\n",
    "VALUES\n",
    "(1, 'ram', 'kathmandu', 'ncit', 18, 'm', 'IT'),\n",
    "(2, 'shyam', 'lalitpur', 'islington', 23, 'm', 'CSIT'),\n",
    "(3, 'esha', 'bhaktapur', 'ismt', 22, 'f', 'IT'),\n",
    "(4, 'nayna', 'pokhara', 'tu', 23, 'f', 'CE');\n",
    "\"\"\"\n",
    "cur.execute(INSERT_RECORDS)"
   ]
  },
  {
   "cell_type": "code",
   "execution_count": 9,
   "id": "f6c60863-bdc7-4d72-ae41-8bcd72dbbc86",
   "metadata": {},
   "outputs": [],
   "source": [
    "con.commit()"
   ]
  },
  {
   "cell_type": "code",
   "execution_count": 10,
   "id": "ada19868-db1e-4ab4-b993-166041de79f4",
   "metadata": {},
   "outputs": [
    {
     "name": "stdout",
     "output_type": "stream",
     "text": [
      "<sqlite3.Cursor object at 0x0000027E4F146540>\n"
     ]
    }
   ],
   "source": [
    "students = cur.execute(\"SELECT * FROM student;\")\n",
    "print(students)"
   ]
  },
  {
   "cell_type": "code",
   "execution_count": 11,
   "id": "e94c626b-7a48-4d82-b77c-043cbd2dfb60",
   "metadata": {},
   "outputs": [
    {
     "name": "stdout",
     "output_type": "stream",
     "text": [
      "(1, 'ram', 'kathmandu', 'ncit', 18, 'm', 'IT')\n",
      "(2, 'shyam', 'lalitpur', 'islington', 23, 'm', 'CSIT')\n",
      "(3, 'esha', 'bhaktapur', 'ismt', 22, 'f', 'IT')\n",
      "(4, 'nayna', 'pokhara', 'tu', 23, 'f', 'CE')\n"
     ]
    }
   ],
   "source": [
    "students = cur.execute(\"SELECT * FROM student;\")\n",
    "for student in students:\n",
    "    print(student)"
   ]
  },
  {
   "cell_type": "code",
   "execution_count": 12,
   "id": "5777ab56-013f-428d-9f5f-32fdfa5b3ff4",
   "metadata": {},
   "outputs": [
    {
     "name": "stdout",
     "output_type": "stream",
     "text": [
      "(2, 'shyam', 'lalitpur', 'islington', 23, 'm', 'CSIT')\n"
     ]
    }
   ],
   "source": [
    "students = cur.execute(\"SELECT * FROM student WHERE address = 'lalitpur';\")\n",
    "for student in students:\n",
    "    print(student)"
   ]
  },
  {
   "cell_type": "code",
   "execution_count": 13,
   "id": "b7c4887c-d9a1-485b-880d-75fa6a835ed7",
   "metadata": {},
   "outputs": [],
   "source": [
    "#address = input(\"Enter the address\")\n",
    "#students = cur.execute(f\"SELECT * FROM students WHERE address = '{address}';\")\n",
    "#for student in students:\n",
    " #   print(student)\n",
    "\n",
    "#output ma kathmandu garyo vane tesko result dinchha"
   ]
  },
  {
   "cell_type": "code",
   "execution_count": 14,
   "id": "1100fdf2-2c33-4be8-a70b-14247d827d46",
   "metadata": {},
   "outputs": [],
   "source": [
    "#address = input(\"Enter the address\")\n",
    "#students = cur.execute(f\"SELECT * FROM students WHERE address = '{address}';\")\n",
    "#for student in students:\n",
    " #   print(student) \n",
    "#sql inject vanchha eslai esle garera data leakage hunchha which is bad\n",
    "# output ma lalitpur' or 'kathmandu diyo vane dubai dinchha == {address}"
   ]
  },
  {
   "cell_type": "code",
   "execution_count": 15,
   "id": "322874bd-b300-4bc2-9f9a-4f935e41f646",
   "metadata": {},
   "outputs": [],
   "source": [
    "#address = input(\"Enter the address\")\n",
    "#students = cur.execute(f\"SELECT * FROM students WHERE address = ?;\" '(address,)) \n",
    "#yo case ma chai jati pani sql inject garna khojey pani lidaina\n",
    "#for student in students:\n",
    " #   print(student) "
   ]
  },
  {
   "cell_type": "code",
   "execution_count": 20,
   "id": "409bd46f-0d18-4b7b-a6a6-148423d73900",
   "metadata": {},
   "outputs": [
    {
     "ename": "OperationalError",
     "evalue": "near \"and\": syntax error",
     "output_type": "error",
     "traceback": [
      "\u001b[1;31m---------------------------------------------------------------------------\u001b[0m",
      "\u001b[1;31mOperationalError\u001b[0m                          Traceback (most recent call last)",
      "Cell \u001b[1;32mIn[20], line 1\u001b[0m\n\u001b[1;32m----> 1\u001b[0m student \u001b[38;5;241m=\u001b[39m \u001b[43mcur\u001b[49m\u001b[38;5;241;43m.\u001b[39;49m\u001b[43mexecute\u001b[49m\u001b[43m(\u001b[49m\u001b[38;5;124;43mf\u001b[39;49m\u001b[38;5;124;43m\"\"\"\u001b[39;49m\u001b[38;5;124;43malter table student and column university varchar default \u001b[39;49m\u001b[38;5;124;43m'\u001b[39;49m\u001b[38;5;124;43mTU\u001b[39;49m\u001b[38;5;124;43m'\u001b[39;49m\u001b[38;5;124;43m;\u001b[39;49m\u001b[38;5;124;43m\"\"\"\u001b[39;49m\u001b[43m)\u001b[49m\n\u001b[0;32m      2\u001b[0m con\u001b[38;5;241m.\u001b[39mcommit()\n",
      "\u001b[1;31mOperationalError\u001b[0m: near \"and\": syntax error"
     ]
    }
   ],
   "source": [
    "student = cur.execute(f\"\"\"alter table student and column university varchar default 'TU';\"\"\")\n",
    "con.commit()"
   ]
  },
  {
   "cell_type": "code",
   "execution_count": 21,
   "id": "9e271c51-f97c-4617-b344-c8e5b4b240b5",
   "metadata": {},
   "outputs": [
    {
     "ename": "OperationalError",
     "evalue": "table student has no column named university",
     "output_type": "error",
     "traceback": [
      "\u001b[1;31m---------------------------------------------------------------------------\u001b[0m",
      "\u001b[1;31mOperationalError\u001b[0m                          Traceback (most recent call last)",
      "Cell \u001b[1;32mIn[21], line 8\u001b[0m\n\u001b[0;32m      1\u001b[0m student \u001b[38;5;241m=\u001b[39m (\u001b[38;5;241m11\u001b[39m, \u001b[38;5;124m'\u001b[39m\u001b[38;5;124mramesh pradhan\u001b[39m\u001b[38;5;124m'\u001b[39m, \u001b[38;5;124m'\u001b[39m\u001b[38;5;124mlalitpur\u001b[39m\u001b[38;5;124m'\u001b[39m, \u001b[38;5;124m'\u001b[39m\u001b[38;5;124mncit\u001b[39m\u001b[38;5;124m'\u001b[39m, \u001b[38;5;241m23\u001b[39m, \u001b[38;5;124m'\u001b[39m\u001b[38;5;124mm\u001b[39m\u001b[38;5;124m'\u001b[39m, \u001b[38;5;124m\"\u001b[39m\u001b[38;5;124mIT\u001b[39m\u001b[38;5;124m\"\u001b[39m, \u001b[38;5;124m\"\u001b[39m\u001b[38;5;124mTU\u001b[39m\u001b[38;5;124m\"\u001b[39m)\n\u001b[0;32m      2\u001b[0m INSERT_RECORDS \u001b[38;5;241m=\u001b[39m \u001b[38;5;124m\"\"\"\u001b[39m\n\u001b[0;32m      3\u001b[0m \u001b[38;5;124mINSERT INTO student\u001b[39m\n\u001b[0;32m      4\u001b[0m \u001b[38;5;124m(\u001b[39m\u001b[38;5;124m'\u001b[39m\u001b[38;5;124mid\u001b[39m\u001b[38;5;124m'\u001b[39m\u001b[38;5;124m, \u001b[39m\u001b[38;5;124m'\u001b[39m\u001b[38;5;124mname\u001b[39m\u001b[38;5;124m'\u001b[39m\u001b[38;5;124m, \u001b[39m\u001b[38;5;124m'\u001b[39m\u001b[38;5;124maddress\u001b[39m\u001b[38;5;124m'\u001b[39m\u001b[38;5;124m, \u001b[39m\u001b[38;5;124m'\u001b[39m\u001b[38;5;124mcollege\u001b[39m\u001b[38;5;124m'\u001b[39m\u001b[38;5;124m, \u001b[39m\u001b[38;5;124m'\u001b[39m\u001b[38;5;124mage\u001b[39m\u001b[38;5;124m'\u001b[39m\u001b[38;5;124m, \u001b[39m\u001b[38;5;124m'\u001b[39m\u001b[38;5;124mgender\u001b[39m\u001b[38;5;124m'\u001b[39m\u001b[38;5;124m, \u001b[39m\u001b[38;5;124m'\u001b[39m\u001b[38;5;124mfaculty\u001b[39m\u001b[38;5;124m'\u001b[39m\u001b[38;5;124m, \u001b[39m\u001b[38;5;124m'\u001b[39m\u001b[38;5;124muniversity\u001b[39m\u001b[38;5;124m'\u001b[39m\u001b[38;5;124m)\u001b[39m\n\u001b[0;32m      5\u001b[0m \u001b[38;5;124mVALUES\u001b[39m\n\u001b[0;32m      6\u001b[0m \u001b[38;5;124m(?,?,?,?,?,?,?,?)\u001b[39m\n\u001b[0;32m      7\u001b[0m \u001b[38;5;124m\"\"\"\u001b[39m\n\u001b[1;32m----> 8\u001b[0m \u001b[43mcur\u001b[49m\u001b[38;5;241;43m.\u001b[39;49m\u001b[43mexecute\u001b[49m\u001b[43m(\u001b[49m\u001b[43mINSERT_RECORDS\u001b[49m\u001b[43m,\u001b[49m\u001b[43m \u001b[49m\u001b[43mstudent\u001b[49m\u001b[43m)\u001b[49m\n\u001b[0;32m      9\u001b[0m con\u001b[38;5;241m.\u001b[39mcommit()\n",
      "\u001b[1;31mOperationalError\u001b[0m: table student has no column named university"
     ]
    }
   ],
   "source": [
    "student = (11, 'ramesh pradhan', 'lalitpur', 'ncit', 23, 'm', \"IT\", \"TU\")\n",
    "INSERT_RECORDS = \"\"\"\n",
    "INSERT INTO student\n",
    "('id', 'name', 'address', 'college', 'age', 'gender', 'faculty', 'university')\n",
    "VALUES\n",
    "(?,?,?,?,?,?,?,?)\n",
    "\"\"\"\n",
    "cur.execute(INSERT_RECORDS, student)\n",
    "con.commit()"
   ]
  },
  {
   "cell_type": "code",
   "execution_count": null,
   "id": "147e1503-064a-4d68-9df5-2dcd2893545b",
   "metadata": {},
   "outputs": [],
   "source": [
    "students = [\n",
    "    (113, 'hari bahadur','lalitpur', 'ncit', 23, 'm', \"SE\",\"PU\"),\n",
    "    (114, 'madan bahadur', 'bhaktapur', 'ismt', 22, 'm', \"CE\", \"TU\")\n",
    "\n",
    "INSERT_RECORDS = \"\"\"\n",
    "('id', 'name', 'address', 'college', 'age', 'gender', 'faculty', 'university')\n",
    "VALUES\n",
    "(?,?,?,?,?,?,?,?)\n",
    "\"\"\"\n",
    "cur.execuremany(INSERT_RECORDS, students) #insert at once => bulk\n",
    "con.commit()"
   ]
  }
 ],
 "metadata": {
  "kernelspec": {
   "display_name": "Python 3 (ipykernel)",
   "language": "python",
   "name": "python3"
  },
  "language_info": {
   "codemirror_mode": {
    "name": "ipython",
    "version": 3
   },
   "file_extension": ".py",
   "mimetype": "text/x-python",
   "name": "python",
   "nbconvert_exporter": "python",
   "pygments_lexer": "ipython3",
   "version": "3.12.4"
  }
 },
 "nbformat": 4,
 "nbformat_minor": 5
}
