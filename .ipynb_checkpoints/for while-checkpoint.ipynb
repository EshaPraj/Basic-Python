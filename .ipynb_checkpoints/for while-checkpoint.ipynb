{
 "cells": [
  {
   "cell_type": "code",
   "execution_count": 1,
   "id": "28db18ca-bb58-4ef7-a684-c060f34ba189",
   "metadata": {},
   "outputs": [],
   "source": [
    "#guessing random number"
   ]
  },
  {
   "cell_type": "markdown",
   "id": "34efc249-000f-41de-b284-3768da03b7f3",
   "metadata": {},
   "source": [
    "###### import random\n",
    "\n",
    "# Generate a random number between 1 and 100\n",
    "random_number = random.randint(1, 100)\n",
    "\n",
    "# Initialize the guess variable\n",
    "guess = None\n",
    "\n",
    "print(\"Welcome to the Number Guessing Game!\")\n",
    "print(\"I'm thinking of a number between 1 and 100.\")\n",
    "\n",
    "# Use a while loop to keep asking for guesses until the correct number is guessed\n",
    "while guess != random_number:\n",
    "    # Ask the user for their guess\n",
    "    guess = int(input(\"Enter your guess: \"))\n",
    "\n",
    "    # Check if the guess is too low\n",
    "    if guess < random_number:\n",
    "        print(\"Too low! Try again.\")\n",
    "    # Check if the guess is too high\n",
    "    elif guess > random_number:\n",
    "        print(\"Too high! Try again.\")\n",
    "    # If the guess is correct, congratulate the user\n",
    "    else:\n",
    "        print(f\"Congratulations! You guessed the correct number: {random_number}\")\n"
   ]
  },
  {
   "cell_type": "code",
   "execution_count": 6,
   "id": "267ae5f5-6c45-4ed5-8b9a-60482e77b3d1",
   "metadata": {},
   "outputs": [],
   "source": [
    "#secret game"
   ]
  },
  {
   "cell_type": "code",
   "execution_count": null,
   "id": "97875e00-f79d-4938-a53e-d579c3a61803",
   "metadata": {},
   "outputs": [],
   "source": [
    "secret_number = 5\n",
    "guess_count = 0\n",
    "guess_limit = 3\n",
    "while guess_count<guess_limit:\n",
    "    guess = int(input(\"Guess the number\"))\n",
    "    guess_count += 1\n",
    "    if guess == secret_number:\n",
    "        print(\"You won!\")\n",
    "    else:\n",
    "        print(\"Try more!\")\n",
    "        print"
   ]
  },
  {
   "cell_type": "code",
   "execution_count": null,
   "id": "9874593d-9540-40b5-b8a8-41ce8353183f",
   "metadata": {},
   "outputs": [],
   "source": []
  }
 ],
 "metadata": {
  "kernelspec": {
   "display_name": "Python 3 (ipykernel)",
   "language": "python",
   "name": "python3"
  },
  "language_info": {
   "codemirror_mode": {
    "name": "ipython",
    "version": 3
   },
   "file_extension": ".py",
   "mimetype": "text/x-python",
   "name": "python",
   "nbconvert_exporter": "python",
   "pygments_lexer": "ipython3",
   "version": "3.12.4"
  }
 },
 "nbformat": 4,
 "nbformat_minor": 5
}
