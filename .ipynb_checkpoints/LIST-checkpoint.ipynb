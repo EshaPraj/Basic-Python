{
 "cells": [
  {
   "cell_type": "code",
   "execution_count": 1,
   "id": "ad9b5fee-6c21-4ab7-94a8-e9fd7d16ee08",
   "metadata": {},
   "outputs": [],
   "source": [
    "#list datatype"
   ]
  },
  {
   "cell_type": "code",
   "execution_count": 4,
   "id": "b2a77c1f-9dfe-42cf-8fcb-94899928c5e5",
   "metadata": {},
   "outputs": [
    {
     "name": "stdout",
     "output_type": "stream",
     "text": [
      "[1, 2, 3, 4] <class 'list'>\n"
     ]
    }
   ],
   "source": [
    "x= [1, 2, 3, 4]\n",
    "print(x, type(x))"
   ]
  },
  {
   "cell_type": "code",
   "execution_count": 5,
   "id": "50b64034-df75-4641-a33b-e0c82fb674b2",
   "metadata": {},
   "outputs": [],
   "source": [
    "#list ma jasto ni datatype rakhna milchha, jasari data halya tei order ma output aaucha "
   ]
  },
  {
   "cell_type": "code",
   "execution_count": 6,
   "id": "780384c1-dae9-497b-b885-ad09bbc03900",
   "metadata": {},
   "outputs": [
    {
     "name": "stdout",
     "output_type": "stream",
     "text": [
      "[1, 1.6, {'ram', 1, 3, 'hari'}, [1, 2, 3], {'name': 'hari'}]\n"
     ]
    }
   ],
   "source": [
    "x = [1, 1.6, {'ram', 1, 3, 'hari'}, [1,2,3], {'name':'hari'}] \n",
    "print(x)"
   ]
  },
  {
   "cell_type": "code",
   "execution_count": 8,
   "id": "baf1739c-4e39-43c8-9549-8d112ed66150",
   "metadata": {},
   "outputs": [
    {
     "data": {
      "text/plain": [
       "['shivram', 'nayna']"
      ]
     },
     "execution_count": 8,
     "metadata": {},
     "output_type": "execute_result"
    }
   ],
   "source": [
    "x = ['esha', 'shivram', 'nayna', 'shyam']\n",
    "x[1:3]"
   ]
  },
  {
   "cell_type": "code",
   "execution_count": 9,
   "id": "9a3c34d1-67e0-4a7d-bc1c-221944db32f1",
   "metadata": {},
   "outputs": [
    {
     "data": {
      "text/plain": [
       "'shyam'"
      ]
     },
     "execution_count": 9,
     "metadata": {},
     "output_type": "execute_result"
    }
   ],
   "source": [
    "x[-1]"
   ]
  },
  {
   "cell_type": "code",
   "execution_count": 10,
   "id": "b18b4f6a-1110-4300-9e63-e7dbe469ba8c",
   "metadata": {},
   "outputs": [
    {
     "data": {
      "text/plain": [
       "['shyam', 'nayna', 'shivram', 'esha']"
      ]
     },
     "execution_count": 10,
     "metadata": {},
     "output_type": "execute_result"
    }
   ],
   "source": [
    "x[::-1]"
   ]
  },
  {
   "cell_type": "code",
   "execution_count": 15,
   "id": "ce25bc85-56d4-4935-a594-67f6ae1e87a5",
   "metadata": {},
   "outputs": [
    {
     "data": {
      "text/plain": [
       "[4, 5, 6]"
      ]
     },
     "execution_count": 15,
     "metadata": {},
     "output_type": "execute_result"
    }
   ],
   "source": [
    "x = [1, 2, [3, 4, 5, 6],7, 8, 9]   #nested list == list vitra list\n",
    "x[2][1:4]"
   ]
  },
  {
   "cell_type": "code",
   "execution_count": 19,
   "id": "97f9759c-c4f4-4aac-8230-15316b31ac35",
   "metadata": {},
   "outputs": [
    {
     "data": {
      "text/plain": [
       "3"
      ]
     },
     "execution_count": 19,
     "metadata": {},
     "output_type": "execute_result"
    }
   ],
   "source": [
    "x = [1, [2,[3,4,5,6],7],8,9]\n",
    "x[1][1][0]"
   ]
  },
  {
   "cell_type": "code",
   "execution_count": 25,
   "id": "f882c10d-90c9-452d-bf74-a21d0bacd545",
   "metadata": {},
   "outputs": [
    {
     "data": {
      "text/plain": [
       "4"
      ]
     },
     "execution_count": 25,
     "metadata": {},
     "output_type": "execute_result"
    }
   ],
   "source": [
    "x = [1, [[2,[3,4,5,6],7],8],9]\n",
    "x[1][0][1][1]"
   ]
  },
  {
   "cell_type": "code",
   "execution_count": 26,
   "id": "4b29f817-c1bf-4f36-b9d8-e7d3b8feb7ea",
   "metadata": {},
   "outputs": [],
   "source": [
    "#list = mutable = can be change"
   ]
  },
  {
   "cell_type": "code",
   "execution_count": 27,
   "id": "c77d34d8-f6a7-4701-805f-4ce2f89abb28",
   "metadata": {},
   "outputs": [
    {
     "name": "stdout",
     "output_type": "stream",
     "text": [
      "['grapes', 'mango', 'banana']\n"
     ]
    }
   ],
   "source": [
    "fruits = ['apple', 'mango', 'banana']\n",
    "fruits[0] = 'grapes'\n",
    "print(fruits)"
   ]
  },
  {
   "cell_type": "code",
   "execution_count": 29,
   "id": "4fb36363-68cf-4823-8ea5-a12a029d1800",
   "metadata": {},
   "outputs": [
    {
     "name": "stdout",
     "output_type": "stream",
     "text": [
      "['apple', ['papaya', 'grapes', 'banana']]\n"
     ]
    }
   ],
   "source": [
    "fruits = ['apple',['papaya', 'mango', 'banana']]\n",
    "fruits[1][1] = 'grapes'\n",
    "print(fruits)"
   ]
  },
  {
   "cell_type": "code",
   "execution_count": 30,
   "id": "62d73a93-2abb-4f73-89f5-08518977c3b8",
   "metadata": {},
   "outputs": [],
   "source": [
    "#help(list) "
   ]
  },
  {
   "cell_type": "code",
   "execution_count": 40,
   "id": "4c41a58d-570d-4796-8559-7f330bc4bea9",
   "metadata": {},
   "outputs": [
    {
     "name": "stdout",
     "output_type": "stream",
     "text": [
      "['apple', 'mango', 'banana', 'papaya']\n"
     ]
    }
   ],
   "source": [
    "fruits = ['apple', 'mango', 'banana']\n",
    "fruits.append(\"papaya\")  #to add \n",
    "print(fruits)"
   ]
  },
  {
   "cell_type": "code",
   "execution_count": 41,
   "id": "e50f03a5-a82a-4809-91b3-57bc198a60f1",
   "metadata": {},
   "outputs": [
    {
     "name": "stdout",
     "output_type": "stream",
     "text": [
      "[]\n"
     ]
    }
   ],
   "source": [
    "fruits = ['apple', 'mango', 'banana']\n",
    "fruits.clear() #to remove all the value\n",
    "print(fruits)"
   ]
  },
  {
   "cell_type": "code",
   "execution_count": 48,
   "id": "1a779725-5645-4ab5-8ee9-1871ec3162d5",
   "metadata": {},
   "outputs": [
    {
     "name": "stdout",
     "output_type": "stream",
     "text": [
      "1874044319232 1874044319232\n",
      "['mango', 'banana', 'papaya', 'pear', 'grapes'] ['mango', 'banana', 'papaya', 'pear', 'grapes']\n"
     ]
    }
   ],
   "source": [
    "fruits1=['mango', 'banana', 'papaya', 'pear']\n",
    "fruits2 = fruits1\n",
    "print(id(fruits1), id(fruits2)) #same aaucha\n",
    "fruits2.append('grapes')\n",
    "print(fruits1, fruits2)"
   ]
  },
  {
   "cell_type": "code",
   "execution_count": 49,
   "id": "fb25af67-1d05-4ee0-8b42-63759f91f980",
   "metadata": {},
   "outputs": [
    {
     "name": "stdout",
     "output_type": "stream",
     "text": [
      "1874044648576 1874044635648\n",
      "['mango', 'banana', 'papaya', 'pear'] ['mango', 'banana', 'papaya', 'pear', 'grapes']\n"
     ]
    }
   ],
   "source": [
    "fruits1=['mango', 'banana', 'papaya', 'pear']\n",
    "fruits2 = fruits1.copy()  #fruits1 ko jati chha teti copy garna without hampering output of fruits2 when it's being added\n",
    "print(id(fruits1), id(fruits2))\n",
    "fruits2.append('grapes')\n",
    "print(fruits1, fruits2)"
   ]
  },
  {
   "cell_type": "code",
   "execution_count": 52,
   "id": "64e4fdd6-c8a4-43d7-b9fc-0980b21c0b69",
   "metadata": {},
   "outputs": [
    {
     "data": {
      "text/plain": [
       "1"
      ]
     },
     "execution_count": 52,
     "metadata": {},
     "output_type": "execute_result"
    }
   ],
   "source": [
    "fruits1=['mango', 'banana', 'papaya', 'pear']\n",
    "fruits1.count(\"mango\")"
   ]
  },
  {
   "cell_type": "code",
   "execution_count": 58,
   "id": "84f99ff2-340f-4a6b-be9b-fc12b23d9d2f",
   "metadata": {},
   "outputs": [
    {
     "name": "stdout",
     "output_type": "stream",
     "text": [
      "['mango', 'banana', 'papaya', 'pear', ['ram', 1, 4]]\n"
     ]
    }
   ],
   "source": [
    "fruits1=['mango', 'banana', 'papaya', 'pear']\n",
    "fruits1.append(['ram', 1, 4])  #append le chai tyo purai list nai dhikka ma rakhchha\n",
    "print(fruits1)"
   ]
  },
  {
   "cell_type": "code",
   "execution_count": 59,
   "id": "6a0c0983-5fdb-4a34-89c1-f600ff0993fc",
   "metadata": {},
   "outputs": [
    {
     "name": "stdout",
     "output_type": "stream",
     "text": [
      "['mango', 'banana', 'papaya', 'pear', 'ram', 1, 4]\n"
     ]
    }
   ],
   "source": [
    "fruits1=['mango', 'banana', 'papaya', 'pear']\n",
    "fruits1.extend(['ram', 1, 4]) #extend le separately add garchha\n",
    "print(fruits1)"
   ]
  },
  {
   "cell_type": "code",
   "execution_count": 62,
   "id": "92f3dac4-4002-40ab-adfe-0f6db5388a0c",
   "metadata": {},
   "outputs": [
    {
     "data": {
      "text/plain": [
       "2"
      ]
     },
     "execution_count": 62,
     "metadata": {},
     "output_type": "execute_result"
    }
   ],
   "source": [
    "fruits1=['mango', 'banana', 'papaya', 'pear']\n",
    "fruits1.index(\"papaya\")  #kati number ma chha herna lai"
   ]
  },
  {
   "cell_type": "code",
   "execution_count": 63,
   "id": "63cfc32f-04fd-46bc-b86f-c006f86dac05",
   "metadata": {},
   "outputs": [
    {
     "ename": "ValueError",
     "evalue": "'nayna' is not in list",
     "output_type": "error",
     "traceback": [
      "\u001b[1;31m---------------------------------------------------------------------------\u001b[0m",
      "\u001b[1;31mValueError\u001b[0m                                Traceback (most recent call last)",
      "Cell \u001b[1;32mIn[63], line 2\u001b[0m\n\u001b[0;32m      1\u001b[0m fruits1\u001b[38;5;241m=\u001b[39m[\u001b[38;5;124m'\u001b[39m\u001b[38;5;124mmango\u001b[39m\u001b[38;5;124m'\u001b[39m, \u001b[38;5;124m'\u001b[39m\u001b[38;5;124mbanana\u001b[39m\u001b[38;5;124m'\u001b[39m, \u001b[38;5;124m'\u001b[39m\u001b[38;5;124mpapaya\u001b[39m\u001b[38;5;124m'\u001b[39m, \u001b[38;5;124m'\u001b[39m\u001b[38;5;124mpear\u001b[39m\u001b[38;5;124m'\u001b[39m]\n\u001b[1;32m----> 2\u001b[0m \u001b[43mfruits1\u001b[49m\u001b[38;5;241;43m.\u001b[39;49m\u001b[43mindex\u001b[49m\u001b[43m(\u001b[49m\u001b[38;5;124;43m\"\u001b[39;49m\u001b[38;5;124;43mnayna\u001b[39;49m\u001b[38;5;124;43m\"\u001b[39;49m\u001b[43m)\u001b[49m\n",
      "\u001b[1;31mValueError\u001b[0m: 'nayna' is not in list"
     ]
    }
   ],
   "source": [
    "fruits1=['mango', 'banana', 'papaya', 'pear']\n",
    "fruits1.index(\"nayna\")"
   ]
  },
  {
   "cell_type": "code",
   "execution_count": 69,
   "id": "f8145bd8-c060-49b5-8d2b-62ec4e45d123",
   "metadata": {},
   "outputs": [
    {
     "name": "stdout",
     "output_type": "stream",
     "text": [
      "['mango', 'nayna', 'banana', 'papaya', 'pear']\n"
     ]
    }
   ],
   "source": [
    "fruits1=['mango', 'banana', 'papaya', 'pear']\n",
    "fruits1.insert(1, \"nayna\") #kata rakhna mann tesari insert garne, as append le last ma matra add gardinchha \n",
    "print(fruits1)"
   ]
  },
  {
   "cell_type": "code",
   "execution_count": 70,
   "id": "6852c398-bdb2-45ac-9923-361ee2df7230",
   "metadata": {},
   "outputs": [
    {
     "name": "stdout",
     "output_type": "stream",
     "text": [
      "banana\n",
      "['mango', 'papaya', 'pear']\n"
     ]
    }
   ],
   "source": [
    "fruits1=['mango', 'banana', 'papaya', 'pear']\n",
    "print(fruits1.pop(1))\n",
    "print(fruits1)"
   ]
  },
  {
   "cell_type": "code",
   "execution_count": 72,
   "id": "1427baf0-4dfd-4552-85b6-64618fd52eca",
   "metadata": {},
   "outputs": [
    {
     "name": "stdout",
     "output_type": "stream",
     "text": [
      "pear\n",
      "['mango', 'banana', 'papaya']\n"
     ]
    }
   ],
   "source": [
    "fruits1=['mango', 'banana', 'papaya', 'pear']\n",
    "print(fruits1.pop())  #index/number diyena vane last ko value hatchha \n",
    "print(fruits1)"
   ]
  },
  {
   "cell_type": "code",
   "execution_count": 74,
   "id": "d3236f03-54a9-48e0-9f94-40846a1c940d",
   "metadata": {},
   "outputs": [
    {
     "name": "stdout",
     "output_type": "stream",
     "text": [
      "None\n",
      "['mango', 'papaya', 'pear']\n"
     ]
    }
   ],
   "source": [
    "fruits1=['mango', 'banana', 'papaya', 'pear']\n",
    "print(fruits1.remove(\"banana\"))  #value hataunu paryo vane remove use garne, pop le number ko through bata hatauchha\n",
    "print(fruits1)"
   ]
  },
  {
   "cell_type": "code",
   "execution_count": 76,
   "id": "e8d91979-c289-40c2-8364-90976affd5dd",
   "metadata": {},
   "outputs": [
    {
     "name": "stdout",
     "output_type": "stream",
     "text": [
      "[1, 2, 3, 4, 5, 8, 9]\n"
     ]
    }
   ],
   "source": [
    "#ascending order ma milauna lai, sort use garne\n",
    "x = [1, 2, 3, 8, 5, 9, 4]\n",
    "x.sort()\n",
    "print(x)"
   ]
  },
  {
   "cell_type": "code",
   "execution_count": 78,
   "id": "7e72a525-c4b6-4329-b64d-b7c79f38ca03",
   "metadata": {},
   "outputs": [
    {
     "name": "stdout",
     "output_type": "stream",
     "text": [
      "[9, 8, 5, 4, 3, 2, 1]\n"
     ]
    }
   ],
   "source": [
    "#descending order ma milauna lai, sort(reverse = True) use garne\n",
    "x = [1, 2, 3, 8, 5, 9, 4]\n",
    "x.sort(reverse=True)\n",
    "print(x)"
   ]
  }
 ],
 "metadata": {
  "kernelspec": {
   "display_name": "Python 3 (ipykernel)",
   "language": "python",
   "name": "python3"
  },
  "language_info": {
   "codemirror_mode": {
    "name": "ipython",
    "version": 3
   },
   "file_extension": ".py",
   "mimetype": "text/x-python",
   "name": "python",
   "nbconvert_exporter": "python",
   "pygments_lexer": "ipython3",
   "version": "3.12.4"
  }
 },
 "nbformat": 4,
 "nbformat_minor": 5
}
