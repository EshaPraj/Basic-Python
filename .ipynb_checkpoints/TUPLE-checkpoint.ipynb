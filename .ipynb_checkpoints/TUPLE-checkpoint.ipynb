{
 "cells": [
  {
   "cell_type": "code",
   "execution_count": 8,
   "id": "557b0b48-748a-47a9-a6c5-d3f1e5500ed3",
   "metadata": {},
   "outputs": [
    {
     "name": "stdout",
     "output_type": "stream",
     "text": [
      "<class 'tuple'>\n"
     ]
    }
   ],
   "source": [
    "#tuple datatype = ()  = immutable data structure = cannot be change\n",
    "x = (1, 2, 3, 4, 5)\n",
    "print(type(x))"
   ]
  },
  {
   "cell_type": "code",
   "execution_count": 9,
   "id": "2122645c-3450-441c-80e5-50fa9097158f",
   "metadata": {},
   "outputs": [
    {
     "name": "stdout",
     "output_type": "stream",
     "text": [
      "(1, 1.6, {1, 'ram', 3, 'hari'}, [1, 2, 3], {'name': 'hari'}) <class 'tuple'>\n"
     ]
    }
   ],
   "source": [
    "x = (1, 1.6, {'ram', 1, 3, 'hari'}, [1,2,3], {'name':'hari'})\n",
    "print(x, type(x))"
   ]
  },
  {
   "cell_type": "code",
   "execution_count": 10,
   "id": "7664dc15-2e77-4901-b09e-53e40d0b4c1e",
   "metadata": {},
   "outputs": [
    {
     "data": {
      "text/plain": [
       "3"
      ]
     },
     "execution_count": 10,
     "metadata": {},
     "output_type": "execute_result"
    }
   ],
   "source": [
    "x = (1, 2, 3, 4, 5)\n",
    "x[2]"
   ]
  },
  {
   "cell_type": "code",
   "execution_count": 11,
   "id": "3e352796-d870-41a6-ae01-6e9d1343afe9",
   "metadata": {},
   "outputs": [
    {
     "data": {
      "text/plain": [
       "(2, 3, 4)"
      ]
     },
     "execution_count": 11,
     "metadata": {},
     "output_type": "execute_result"
    }
   ],
   "source": [
    "x[1:4]"
   ]
  },
  {
   "cell_type": "code",
   "execution_count": 1,
   "id": "a547506f-3ac9-4439-8f79-d7fd2e1db66e",
   "metadata": {},
   "outputs": [
    {
     "ename": "TypeError",
     "evalue": "'tuple' object does not support item assignment",
     "output_type": "error",
     "traceback": [
      "\u001b[1;31m---------------------------------------------------------------------------\u001b[0m",
      "\u001b[1;31mTypeError\u001b[0m                                 Traceback (most recent call last)",
      "Cell \u001b[1;32mIn[1], line 2\u001b[0m\n\u001b[0;32m      1\u001b[0m x \u001b[38;5;241m=\u001b[39m (\u001b[38;5;241m1\u001b[39m, \u001b[38;5;241m2\u001b[39m, \u001b[38;5;241m3\u001b[39m, \u001b[38;5;241m4\u001b[39m, \u001b[38;5;241m5\u001b[39m)\n\u001b[1;32m----> 2\u001b[0m \u001b[43mx\u001b[49m\u001b[43m[\u001b[49m\u001b[38;5;241;43m2\u001b[39;49m\u001b[43m]\u001b[49m \u001b[38;5;241m=\u001b[39m \u001b[38;5;124m'\u001b[39m\u001b[38;5;124mram\u001b[39m\u001b[38;5;124m'\u001b[39m\n",
      "\u001b[1;31mTypeError\u001b[0m: 'tuple' object does not support item assignment"
     ]
    }
   ],
   "source": [
    "x = (1, 2, 3, 4, 5)\n",
    "x[2] = 'ram'"
   ]
  },
  {
   "cell_type": "code",
   "execution_count": 2,
   "id": "a9fba262-cfd8-4197-8980-50f2b4524fc9",
   "metadata": {},
   "outputs": [],
   "source": [
    "#help(tuple)"
   ]
  },
  {
   "cell_type": "code",
   "execution_count": 3,
   "id": "c3f1fcef-707c-4862-9330-b382ceed0517",
   "metadata": {},
   "outputs": [
    {
     "data": {
      "text/plain": [
       "2"
      ]
     },
     "execution_count": 3,
     "metadata": {},
     "output_type": "execute_result"
    }
   ],
   "source": [
    "x = (1, 2, 3, 4,5, 5)\n",
    "x.count(5)"
   ]
  },
  {
   "cell_type": "code",
   "execution_count": 4,
   "id": "a80a824b-1e40-4130-8633-e23be330292c",
   "metadata": {},
   "outputs": [
    {
     "data": {
      "text/plain": [
       "1"
      ]
     },
     "execution_count": 4,
     "metadata": {},
     "output_type": "execute_result"
    }
   ],
   "source": [
    "x = (1, 2, 3, 4, 5)\n",
    "x.index(2)"
   ]
  },
  {
   "cell_type": "code",
   "execution_count": 12,
   "id": "adcfff68-5715-4770-92a3-951f897ff662",
   "metadata": {},
   "outputs": [
    {
     "name": "stdout",
     "output_type": "stream",
     "text": [
      "1\n",
      "2\n",
      "3\n"
     ]
    }
   ],
   "source": [
    "#tuple unpacking\n",
    "x, y, z = 1, 2, 3\n",
    "print(x)\n",
    "print(y)\n",
    "print(z)"
   ]
  },
  {
   "cell_type": "code",
   "execution_count": 13,
   "id": "26656ad9-89b4-41eb-86ec-7707a5ff4529",
   "metadata": {},
   "outputs": [
    {
     "name": "stdout",
     "output_type": "stream",
     "text": [
      "1 <class 'int'>\n"
     ]
    }
   ],
   "source": [
    "x = (1)\n",
    "print(x, type(x))"
   ]
  },
  {
   "cell_type": "code",
   "execution_count": 14,
   "id": "698e5d6d-a38e-4f13-97f4-0b6e491346b6",
   "metadata": {},
   "outputs": [
    {
     "name": "stdout",
     "output_type": "stream",
     "text": [
      "(1,) <class 'tuple'>\n"
     ]
    }
   ],
   "source": [
    "x = (1,)    #type ma tuple nikalna lai (,) ko use hunchha\n",
    "print(x, type(x)) "
   ]
  },
  {
   "cell_type": "code",
   "execution_count": 11,
   "id": "1f0935e5-7ef0-48a4-ad83-ed2a46aba374",
   "metadata": {},
   "outputs": [
    {
     "name": "stdout",
     "output_type": "stream",
     "text": [
      "(1,) <class 'tuple'>\n"
     ]
    }
   ],
   "source": [
    "x = 1,\n",
    "print(x, type(x))"
   ]
  },
  {
   "cell_type": "code",
   "execution_count": 16,
   "id": "d3204f93-9e4b-4418-a857-028cf229d1cf",
   "metadata": {},
   "outputs": [],
   "source": [
    "#difference between list and tuple\n",
    "#list => mutable, tuple => immutable\n",
    "#list => [], tuple => maybe (), but comma is neccessary\n",
    "#list => slower than tuple, tuple => faster than list\n",
    "#list => takes more memory than tuple, tuple => takes less memory than list\n",
    "#list => homogeneous datastructure (same type of datastructure)\n",
    "#tuple => heterogeneous datastructure (different types of datastructure)"
   ]
  },
  {
   "cell_type": "code",
   "execution_count": 18,
   "id": "29d19963-9e9f-4788-8fce-2cfd8cf22680",
   "metadata": {},
   "outputs": [],
   "source": [
    "a = ['ram', 'esha', 'pam', 'hattori']   #homogeneous data structure => contains same type of data structure\n",
    "b = (1, 'doraemon', 22, 3343564, 908849.22) #heterogeneous datstructure => contains different types of datastructure"
   ]
  }
 ],
 "metadata": {
  "kernelspec": {
   "display_name": "Python 3 (ipykernel)",
   "language": "python",
   "name": "python3"
  },
  "language_info": {
   "codemirror_mode": {
    "name": "ipython",
    "version": 3
   },
   "file_extension": ".py",
   "mimetype": "text/x-python",
   "name": "python",
   "nbconvert_exporter": "python",
   "pygments_lexer": "ipython3",
   "version": "3.12.4"
  }
 },
 "nbformat": 4,
 "nbformat_minor": 5
}
