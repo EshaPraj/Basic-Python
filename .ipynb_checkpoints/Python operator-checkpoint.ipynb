{
 "cells": [
  {
   "cell_type": "code",
   "execution_count": 21,
   "id": "75871a22-1351-4431-9371-467c3309dd76",
   "metadata": {},
   "outputs": [],
   "source": [
    "#LOGICAL OPERATOR:\n",
    "#and = all value true= True\n",
    "#or = any value true = True\n",
    "#not = opposite value"
   ]
  },
  {
   "cell_type": "code",
   "execution_count": 22,
   "id": "b502da68-47d3-4d32-8ba1-686bedbf5b82",
   "metadata": {},
   "outputs": [
    {
     "data": {
      "text/plain": [
       "True"
      ]
     },
     "execution_count": 22,
     "metadata": {},
     "output_type": "execute_result"
    }
   ],
   "source": [
    "True and True and True"
   ]
  },
  {
   "cell_type": "code",
   "execution_count": 23,
   "id": "a43507de-5da7-42d8-8fac-4b5fdb062197",
   "metadata": {},
   "outputs": [
    {
     "data": {
      "text/plain": [
       "False"
      ]
     },
     "execution_count": 23,
     "metadata": {},
     "output_type": "execute_result"
    }
   ],
   "source": [
    "True and False and True"
   ]
  },
  {
   "cell_type": "code",
   "execution_count": 24,
   "id": "14e06c13-7bad-4ad9-a11e-72403e4256fe",
   "metadata": {},
   "outputs": [
    {
     "data": {
      "text/plain": [
       "True"
      ]
     },
     "execution_count": 24,
     "metadata": {},
     "output_type": "execute_result"
    }
   ],
   "source": [
    "True or False or True"
   ]
  },
  {
   "cell_type": "code",
   "execution_count": 25,
   "id": "5adba0bb-0a1c-484d-b66d-9722c3a1c630",
   "metadata": {},
   "outputs": [
    {
     "data": {
      "text/plain": [
       "False"
      ]
     },
     "execution_count": 25,
     "metadata": {},
     "output_type": "execute_result"
    }
   ],
   "source": [
    "not True"
   ]
  },
  {
   "cell_type": "code",
   "execution_count": 26,
   "id": "02422b83-eaa7-4541-a197-82ddf04dd78a",
   "metadata": {},
   "outputs": [
    {
     "data": {
      "text/plain": [
       "True"
      ]
     },
     "execution_count": 26,
     "metadata": {},
     "output_type": "execute_result"
    }
   ],
   "source": [
    "not False"
   ]
  },
  {
   "cell_type": "code",
   "execution_count": 27,
   "id": "355d393f-8627-41eb-a137-b9b479951de1",
   "metadata": {},
   "outputs": [
    {
     "data": {
      "text/plain": [
       "True"
      ]
     },
     "execution_count": 27,
     "metadata": {},
     "output_type": "execute_result"
    }
   ],
   "source": [
    "not not True"
   ]
  },
  {
   "cell_type": "code",
   "execution_count": 28,
   "id": "695555b0-8f31-461a-a4ca-a7f6c37afd71",
   "metadata": {},
   "outputs": [
    {
     "data": {
      "text/plain": [
       "False"
      ]
     },
     "execution_count": 28,
     "metadata": {},
     "output_type": "execute_result"
    }
   ],
   "source": [
    "not not False"
   ]
  },
  {
   "cell_type": "code",
   "execution_count": 29,
   "id": "fa941d41-d639-4df0-bbc8-1127be16e98f",
   "metadata": {},
   "outputs": [
    {
     "data": {
      "text/plain": [
       "False"
      ]
     },
     "execution_count": 29,
     "metadata": {},
     "output_type": "execute_result"
    }
   ],
   "source": [
    "False or True and False\n",
    "#and first calculate garne\n",
    "#False or False\n",
    "#False"
   ]
  },
  {
   "cell_type": "code",
   "execution_count": 30,
   "id": "448c36d5-b3b6-4731-b572-a0e6b7ba467c",
   "metadata": {},
   "outputs": [],
   "source": [
    "#precedence:\n",
    "#small bracket\n",
    "#and\n",
    "#or"
   ]
  },
  {
   "cell_type": "code",
   "execution_count": 31,
   "id": "323986c7-90be-45b2-93cf-b55870a2c200",
   "metadata": {},
   "outputs": [
    {
     "data": {
      "text/plain": [
       "True"
      ]
     },
     "execution_count": 31,
     "metadata": {},
     "output_type": "execute_result"
    }
   ],
   "source": [
    "True and (not (not True)) or False or (not False)"
   ]
  },
  {
   "cell_type": "code",
   "execution_count": 32,
   "id": "cb2246d7-883c-4423-ae8a-a4a237ce9e40",
   "metadata": {},
   "outputs": [],
   "source": [
    "#ASSIGNMENT OPERATOR:"
   ]
  },
  {
   "cell_type": "code",
   "execution_count": 33,
   "id": "df25e6a8-2846-454a-abad-50ae21e0a313",
   "metadata": {},
   "outputs": [
    {
     "name": "stdout",
     "output_type": "stream",
     "text": [
      "10\n"
     ]
    }
   ],
   "source": [
    "x = 5\n",
    "x = x + 5\n",
    "print(x)"
   ]
  },
  {
   "cell_type": "code",
   "execution_count": 34,
   "id": "69076bad-4495-42c0-8224-24cbfee55b31",
   "metadata": {},
   "outputs": [
    {
     "name": "stdout",
     "output_type": "stream",
     "text": [
      "10\n"
     ]
    }
   ],
   "source": [
    "x = 5\n",
    "x += 5\n",
    "print(x)"
   ]
  },
  {
   "cell_type": "code",
   "execution_count": 36,
   "id": "3704e399-e7f0-4d65-999b-8b787e52062a",
   "metadata": {},
   "outputs": [
    {
     "name": "stdout",
     "output_type": "stream",
     "text": [
      "5\n"
     ]
    }
   ],
   "source": [
    "x = 10\n",
    "x -= 5\n",
    "print(x)"
   ]
  },
  {
   "cell_type": "code",
   "execution_count": 37,
   "id": "c3dcd877-a296-4436-a71f-d531987e7a41",
   "metadata": {},
   "outputs": [
    {
     "name": "stdout",
     "output_type": "stream",
     "text": [
      "2.0\n"
     ]
    }
   ],
   "source": [
    "x = 10\n",
    "x /= 5\n",
    "print(x)"
   ]
  },
  {
   "cell_type": "code",
   "execution_count": 38,
   "id": "89cde84f-1195-4869-bba1-a7cd10ca2765",
   "metadata": {},
   "outputs": [
    {
     "name": "stdout",
     "output_type": "stream",
     "text": [
      "50\n"
     ]
    }
   ],
   "source": [
    "x = 10\n",
    "x *= 5\n",
    "print(x)"
   ]
  },
  {
   "cell_type": "code",
   "execution_count": 39,
   "id": "4b36c507-aa4a-4ff3-a35e-729e01cab9c8",
   "metadata": {},
   "outputs": [
    {
     "name": "stdout",
     "output_type": "stream",
     "text": [
      "0\n"
     ]
    }
   ],
   "source": [
    "x = 10\n",
    "x %= 5\n",
    "print(x)"
   ]
  },
  {
   "cell_type": "code",
   "execution_count": 40,
   "id": "70564ce5-406f-4bed-8c7b-e3a6d2313863",
   "metadata": {},
   "outputs": [
    {
     "name": "stdout",
     "output_type": "stream",
     "text": [
      "10\n"
     ]
    }
   ],
   "source": [
    "x = 10\n",
    "x %2!= 5\n",
    "print(x)"
   ]
  },
  {
   "cell_type": "code",
   "execution_count": 42,
   "id": "a2c02d35-b9dd-4d10-93a1-af28e70e535e",
   "metadata": {},
   "outputs": [
    {
     "data": {
      "text/plain": [
       "True"
      ]
     },
     "execution_count": 42,
     "metadata": {},
     "output_type": "execute_result"
    }
   ],
   "source": [
    "x = 5\n",
    "y = 5\n",
    "x == y"
   ]
  },
  {
   "cell_type": "code",
   "execution_count": 43,
   "id": "f1bdb86d-426a-42bc-85b4-2b5c77a81c80",
   "metadata": {},
   "outputs": [
    {
     "data": {
      "text/plain": [
       "True"
      ]
     },
     "execution_count": 43,
     "metadata": {},
     "output_type": "execute_result"
    }
   ],
   "source": [
    "x = 5\n",
    "y = 5\n",
    "x is y #identity operator"
   ]
  },
  {
   "cell_type": "code",
   "execution_count": 44,
   "id": "7d8deab0-a45d-4fcc-bdb1-d4dea35c6fdf",
   "metadata": {},
   "outputs": [
    {
     "name": "stdout",
     "output_type": "stream",
     "text": [
      "140727948474936\n",
      "140727948474936\n"
     ]
    }
   ],
   "source": [
    "x = 5\n",
    "y = 5\n",
    "print (id(x))\n",
    "print (id(y))"
   ]
  },
  {
   "cell_type": "code",
   "execution_count": 45,
   "id": "9e864b8f-6cf8-4104-83af-73e2f81b1ebd",
   "metadata": {},
   "outputs": [
    {
     "data": {
      "text/plain": [
       "True"
      ]
     },
     "execution_count": 45,
     "metadata": {},
     "output_type": "execute_result"
    }
   ],
   "source": [
    "x is y"
   ]
  },
  {
   "cell_type": "markdown",
   "id": "14ec49a5-baa1-4d67-9abd-e4bf5b70ad5e",
   "metadata": {},
   "source": [
    "# 0 - 256 samma same memory address ma gayera baschha 256 vanda mathi ko different"
   ]
  },
  {
   "cell_type": "code",
   "execution_count": 55,
   "id": "23c06e36-a5d7-42c8-b3fb-ec15b4304392",
   "metadata": {},
   "outputs": [
    {
     "name": "stdout",
     "output_type": "stream",
     "text": [
      "140727948481336\n",
      "140727948481336\n"
     ]
    }
   ],
   "source": [
    "x = 205 # same memory = optimization\n",
    "y = 205 \n",
    "print (id(x))\n",
    "print (id(y))"
   ]
  },
  {
   "cell_type": "code",
   "execution_count": 56,
   "id": "3b623d01-0bd5-443c-80d2-87ab414ae3d1",
   "metadata": {},
   "outputs": [
    {
     "name": "stdout",
     "output_type": "stream",
     "text": [
      "1469135972144\n",
      "1469135971344\n"
     ]
    },
    {
     "data": {
      "text/plain": [
       "False"
      ]
     },
     "execution_count": 56,
     "metadata": {},
     "output_type": "execute_result"
    }
   ],
   "source": [
    "x = 290\n",
    "y = 290\n",
    "print (id(x))\n",
    "print (id(y))\n",
    "x is y"
   ]
  },
  {
   "cell_type": "markdown",
   "id": "4fdf066f-d454-4b43-8845-97fa5578ad1e",
   "metadata": {},
   "source": [
    "#membership operator =  sabai datatype ma milchha (tuple, set, string)"
   ]
  },
  {
   "cell_type": "code",
   "execution_count": 58,
   "id": "a3b19fa5-b538-4f2a-87ee-34107b55729a",
   "metadata": {},
   "outputs": [
    {
     "data": {
      "text/plain": [
       "True"
      ]
     },
     "execution_count": 58,
     "metadata": {},
     "output_type": "execute_result"
    }
   ],
   "source": [
    "1 in [1, 2, 3, 4, 5]"
   ]
  },
  {
   "cell_type": "code",
   "execution_count": 60,
   "id": "594def87-3adf-4ef5-9472-19c597bc35b7",
   "metadata": {},
   "outputs": [
    {
     "data": {
      "text/plain": [
       "True"
      ]
     },
     "execution_count": 60,
     "metadata": {},
     "output_type": "execute_result"
    }
   ],
   "source": [
    "'a' in ['a', 'b', 'c', 'd']"
   ]
  },
  {
   "cell_type": "code",
   "execution_count": 61,
   "id": "6f36b2c8-68ae-40d4-9e16-c191f235ce56",
   "metadata": {},
   "outputs": [
    {
     "data": {
      "text/plain": [
       "True"
      ]
     },
     "execution_count": 61,
     "metadata": {},
     "output_type": "execute_result"
    }
   ],
   "source": [
    "'a' in 'esha'"
   ]
  },
  {
   "cell_type": "code",
   "execution_count": 62,
   "id": "037846f6-5961-4205-ac84-229850a3ddde",
   "metadata": {},
   "outputs": [
    {
     "data": {
      "text/plain": [
       "False"
      ]
     },
     "execution_count": 62,
     "metadata": {},
     "output_type": "execute_result"
    }
   ],
   "source": [
    "'ea' in 'esha'"
   ]
  },
  {
   "cell_type": "code",
   "execution_count": 63,
   "id": "d5740934-e34c-448a-87e9-d57abd3cadb4",
   "metadata": {},
   "outputs": [
    {
     "data": {
      "text/plain": [
       "False"
      ]
     },
     "execution_count": 63,
     "metadata": {},
     "output_type": "execute_result"
    }
   ],
   "source": [
    "'a' in ('A', 'b', 'c', 'd')"
   ]
  },
  {
   "cell_type": "code",
   "execution_count": 64,
   "id": "db950788-ebd3-4c5f-95f5-b7053724c3a6",
   "metadata": {},
   "outputs": [
    {
     "data": {
      "text/plain": [
       "True"
      ]
     },
     "execution_count": 64,
     "metadata": {},
     "output_type": "execute_result"
    }
   ],
   "source": [
    "'a' in {'A', 'a', 'c', 'd'}"
   ]
  },
  {
   "cell_type": "code",
   "execution_count": 66,
   "id": "e4de3c87-8084-46c7-b144-74a9a82120ae",
   "metadata": {},
   "outputs": [
    {
     "name": "stdout",
     "output_type": "stream",
     "text": [
      "<class 'int'>\n"
     ]
    }
   ],
   "source": [
    "x = 5\n",
    "print(type(x))"
   ]
  },
  {
   "cell_type": "code",
   "execution_count": 67,
   "id": "cfd3a86d-21a3-44d9-af4c-56583091577c",
   "metadata": {},
   "outputs": [
    {
     "data": {
      "text/plain": [
       "True"
      ]
     },
     "execution_count": 67,
     "metadata": {},
     "output_type": "execute_result"
    }
   ],
   "source": [
    "isinstance(x, int)"
   ]
  },
  {
   "cell_type": "code",
   "execution_count": 68,
   "id": "046db8ce-8187-4afd-ab65-c408a6a6600b",
   "metadata": {},
   "outputs": [
    {
     "data": {
      "text/plain": [
       "False"
      ]
     },
     "execution_count": 68,
     "metadata": {},
     "output_type": "execute_result"
    }
   ],
   "source": [
    "isinstance(x, float)"
   ]
  },
  {
   "cell_type": "code",
   "execution_count": 70,
   "id": "ab86f1d4-1659-4ca6-a6c2-266f302402bb",
   "metadata": {},
   "outputs": [
    {
     "data": {
      "text/plain": [
       "True"
      ]
     },
     "execution_count": 70,
     "metadata": {},
     "output_type": "execute_result"
    }
   ],
   "source": [
    "isinstance(x, (float, int)) #ki int ki float ho = int ho"
   ]
  },
  {
   "cell_type": "code",
   "execution_count": 73,
   "id": "07487fa3-0363-478a-8939-7ce292ac9ad5",
   "metadata": {},
   "outputs": [
    {
     "data": {
      "text/plain": [
       "False"
      ]
     },
     "execution_count": 73,
     "metadata": {},
     "output_type": "execute_result"
    }
   ],
   "source": [
    "isinstance(x, (str, float)) #str or float"
   ]
  },
  {
   "cell_type": "code",
   "execution_count": 75,
   "id": "b2cc737b-140b-4295-a215-08af3becc9bd",
   "metadata": {},
   "outputs": [
    {
     "name": "stdout",
     "output_type": "stream",
     "text": [
      "0.12264879092938098\n"
     ]
    }
   ],
   "source": [
    "# 17 digits after decimal point\n",
    "b = 0.12264879092938098 #17th number ko value round off hunchha\n",
    "print(b)"
   ]
  },
  {
   "cell_type": "code",
   "execution_count": 84,
   "id": "2135021d-a13e-4b05-876f-dc863ce444c4",
   "metadata": {},
   "outputs": [
    {
     "data": {
      "text/plain": [
       "False"
      ]
     },
     "execution_count": 84,
     "metadata": {},
     "output_type": "execute_result"
    }
   ],
   "source": [
    "(1.1 + 2.2) == 3.3  #(float sanga kaam hudaina, use decimal)"
   ]
  },
  {
   "cell_type": "code",
   "execution_count": 85,
   "id": "a6ce0619-0e2c-4bdc-b964-b824716592db",
   "metadata": {},
   "outputs": [
    {
     "data": {
      "text/plain": [
       "3.3000000000000003"
      ]
     },
     "execution_count": 85,
     "metadata": {},
     "output_type": "execute_result"
    }
   ],
   "source": [
    "1.1 + 2.2"
   ]
  },
  {
   "cell_type": "code",
   "execution_count": 86,
   "id": "d706ecd7-540e-4bfc-a9c9-1f5e5ba1b6db",
   "metadata": {},
   "outputs": [
    {
     "name": "stdout",
     "output_type": "stream",
     "text": [
      "3.3\n"
     ]
    }
   ],
   "source": [
    "from decimal import Decimal\n",
    "print(Decimal('1.1') + Decimal(\"2.2\")) #string ma lekhnu parchha"
   ]
  },
  {
   "cell_type": "code",
   "execution_count": 89,
   "id": "3d6bc621-9c50-4d03-ad75-51eeac40225e",
   "metadata": {},
   "outputs": [
    {
     "name": "stdout",
     "output_type": "stream",
     "text": [
      "3.3\n"
     ]
    }
   ],
   "source": [
    "from decimal import Decimal as D #alias = D ko thau ma j diye ni huncha\n",
    "print(D('1.1') + D(\"2.2\"))"
   ]
  },
  {
   "cell_type": "code",
   "execution_count": 91,
   "id": "b16e3b40-1171-44e8-b21a-c933a8d3ee6e",
   "metadata": {},
   "outputs": [
    {
     "name": "stdout",
     "output_type": "stream",
     "text": [
      "3.2\n"
     ]
    }
   ],
   "source": [
    "import decimal #lamo tarika nagarne mathi ko short tarika\n",
    "print(decimal.Decimal(\"1.1\") + decimal.Decimal(\"2.1\"))"
   ]
  },
  {
   "cell_type": "code",
   "execution_count": 92,
   "id": "b577a387-36c6-4c71-9cb3-dac90be9b163",
   "metadata": {},
   "outputs": [
    {
     "name": "stdout",
     "output_type": "stream",
     "text": [
      "3.141592653589793\n",
      "-1.0\n",
      "22026.465794806718\n",
      "3.0\n",
      "1.1752011936438014\n",
      "720\n"
     ]
    }
   ],
   "source": [
    "import math\n",
    "print(math.pi)\n",
    "print(math.cos(math.pi)) #cos(pi) = -1\n",
    "print(math.exp(10))\n",
    "print(math.log10(1000)) #log10(1000) = 3\n",
    "print(math.sinh(1))\n",
    "print(math.factorial(6))"
   ]
  },
  {
   "cell_type": "code",
   "execution_count": 94,
   "id": "9f6085b0-2595-431e-8d53-aa2f9974f3af",
   "metadata": {},
   "outputs": [],
   "source": [
    "# help(math)  = in case you need help for math "
   ]
  },
  {
   "cell_type": "code",
   "execution_count": 95,
   "id": "517695c0-e576-47bc-99c2-6b849160baa9",
   "metadata": {},
   "outputs": [],
   "source": [
    "import random"
   ]
  },
  {
   "cell_type": "code",
   "execution_count": 98,
   "id": "664b74d1-6559-4cbf-adec-fa4fbc60e8ae",
   "metadata": {},
   "outputs": [
    {
     "name": "stdout",
     "output_type": "stream",
     "text": [
      "5\n"
     ]
    }
   ],
   "source": [
    "x = [1, 2, 3, 4, 5]\n",
    "print(random.choice(x))"
   ]
  },
  {
   "cell_type": "code",
   "execution_count": 99,
   "id": "4c616bd9-1863-40c4-8614-dce671d0ebbe",
   "metadata": {},
   "outputs": [
    {
     "name": "stdout",
     "output_type": "stream",
     "text": [
      "24\n"
     ]
    }
   ],
   "source": [
    "print(random.randrange(10, 30))"
   ]
  },
  {
   "cell_type": "code",
   "execution_count": 101,
   "id": "1a843ec4-8d4f-4466-ab77-f5118745ad07",
   "metadata": {},
   "outputs": [
    {
     "name": "stdout",
     "output_type": "stream",
     "text": [
      "None\n"
     ]
    }
   ],
   "source": [
    "x = [1, 2, 3, 4, 5]\n",
    "print(random.shuffle(x))"
   ]
  },
  {
   "cell_type": "code",
   "execution_count": 103,
   "id": "1b531068-222d-4cd8-ac79-f60c69842fa3",
   "metadata": {},
   "outputs": [
    {
     "name": "stdout",
     "output_type": "stream",
     "text": [
      "[4, 5, 2, 1, 3]\n"
     ]
    }
   ],
   "source": [
    "x = [1, 2, 3, 4, 5]\n",
    "random.shuffle(x)\n",
    "print(x)"
   ]
  },
  {
   "cell_type": "code",
   "execution_count": 104,
   "id": "6df3edfb-cd64-4471-a23f-50f82870c747",
   "metadata": {},
   "outputs": [
    {
     "name": "stdout",
     "output_type": "stream",
     "text": [
      "0.743928067431849\n"
     ]
    }
   ],
   "source": [
    "print(random.random())"
   ]
  },
  {
   "cell_type": "code",
   "execution_count": 105,
   "id": "09dd640e-6be0-4c0f-a8d5-5e5a7f7331c9",
   "metadata": {},
   "outputs": [],
   "source": [
    "#help(random) = for tutorial about random"
   ]
  }
 ],
 "metadata": {
  "kernelspec": {
   "display_name": "Python 3 (ipykernel)",
   "language": "python",
   "name": "python3"
  },
  "language_info": {
   "codemirror_mode": {
    "name": "ipython",
    "version": 3
   },
   "file_extension": ".py",
   "mimetype": "text/x-python",
   "name": "python",
   "nbconvert_exporter": "python",
   "pygments_lexer": "ipython3",
   "version": "3.12.4"
  }
 },
 "nbformat": 4,
 "nbformat_minor": 5
}
