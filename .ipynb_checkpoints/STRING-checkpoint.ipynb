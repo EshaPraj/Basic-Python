{
 "cells": [
  {
   "cell_type": "code",
   "execution_count": 1,
   "id": "dd077fd6-4f6b-4b44-9004-0803789c346c",
   "metadata": {},
   "outputs": [],
   "source": [
    "#string datatype"
   ]
  },
  {
   "cell_type": "code",
   "execution_count": 3,
   "id": "04595cce-4446-488d-997b-5fc8c16d2a36",
   "metadata": {},
   "outputs": [
    {
     "name": "stdout",
     "output_type": "stream",
     "text": [
      "This is string <class 'str'>\n"
     ]
    }
   ],
   "source": [
    "s = \"This is string\"\n",
    "print(s, type(s))"
   ]
  },
  {
   "cell_type": "code",
   "execution_count": null,
   "id": "81679938-5fc5-4658-b35c-7da7523cb651",
   "metadata": {},
   "outputs": [],
   "source": [
    "#INDEXING"
   ]
  },
  {
   "cell_type": "code",
   "execution_count": 7,
   "id": "4e066d78-cd23-4f0d-a8b1-01ee25055ed5",
   "metadata": {},
   "outputs": [
    {
     "data": {
      "text/plain": [
       "'T'"
      ]
     },
     "execution_count": 7,
     "metadata": {},
     "output_type": "execute_result"
    }
   ],
   "source": [
    "s = \"This is string\" #0 bata count garne\n",
    "s[0]"
   ]
  },
  {
   "cell_type": "code",
   "execution_count": 8,
   "id": "5ee6e29e-02a1-4821-aa97-5925e69c8df3",
   "metadata": {},
   "outputs": [
    {
     "data": {
      "text/plain": [
       "' '"
      ]
     },
     "execution_count": 8,
     "metadata": {},
     "output_type": "execute_result"
    }
   ],
   "source": [
    "s = \"This is string\"\n",
    "s[7]"
   ]
  },
  {
   "cell_type": "code",
   "execution_count": 14,
   "id": "44576238-2e80-4bad-9196-4e62fb718960",
   "metadata": {},
   "outputs": [
    {
     "name": "stdout",
     "output_type": "stream",
     "text": [
      "T h i s\n"
     ]
    }
   ],
   "source": [
    "s = \"This is string\"\n",
    "print(s[0], s[1], s[2], s[3])"
   ]
  },
  {
   "cell_type": "code",
   "execution_count": 17,
   "id": "b9034190-f043-4ae2-9e55-595aaf9bcbd2",
   "metadata": {},
   "outputs": [],
   "source": [
    "#SLICING"
   ]
  },
  {
   "cell_type": "code",
   "execution_count": 18,
   "id": "594e5408-0799-4521-9d00-13440d3aee18",
   "metadata": {},
   "outputs": [
    {
     "data": {
      "text/plain": [
       "'This'"
      ]
     },
     "execution_count": 18,
     "metadata": {},
     "output_type": "execute_result"
    }
   ],
   "source": [
    "s = \"This is string\"\n",
    "s[0:4]"
   ]
  },
  {
   "cell_type": "code",
   "execution_count": 19,
   "id": "c8f4ad80-9f5d-4e8b-be80-dbbad5fc3fdc",
   "metadata": {},
   "outputs": [
    {
     "data": {
      "text/plain": [
       "'is strin'"
      ]
     },
     "execution_count": 19,
     "metadata": {},
     "output_type": "execute_result"
    }
   ],
   "source": [
    "s = \"This is string\"\n",
    "s[5:13]"
   ]
  },
  {
   "cell_type": "code",
   "execution_count": 20,
   "id": "465b1f73-37e5-44bf-b449-9dfe70763b10",
   "metadata": {},
   "outputs": [
    {
     "name": "stdout",
     "output_type": "stream",
     "text": [
      "48\n"
     ]
    }
   ],
   "source": [
    "s = \"This is string. Strings in python are immutable.\"\n",
    "print(len(s))"
   ]
  },
  {
   "cell_type": "code",
   "execution_count": 26,
   "id": "e5a6824c-829c-4231-a042-ee6c8798d45d",
   "metadata": {},
   "outputs": [],
   "source": [
    "#NEGATIVE INDEXING (-1)"
   ]
  },
  {
   "cell_type": "code",
   "execution_count": 30,
   "id": "29960f04-84cf-438d-b9a8-da70b84a653b",
   "metadata": {},
   "outputs": [
    {
     "data": {
      "text/plain": [
       "'e'"
      ]
     },
     "execution_count": 30,
     "metadata": {},
     "output_type": "execute_result"
    }
   ],
   "source": [
    "s = \"This is string. Strings in python are immutable. Python is my favourite language.\" #last bata count garna -1 bata start counting\n",
    "s[-2]\n"
   ]
  },
  {
   "cell_type": "code",
   "execution_count": 32,
   "id": "3b0b9140-8bab-4e33-a63b-a9b00350c30b",
   "metadata": {},
   "outputs": [
    {
     "data": {
      "text/plain": [
       "'immutable'"
      ]
     },
     "execution_count": 32,
     "metadata": {},
     "output_type": "execute_result"
    }
   ],
   "source": [
    "s = \"This is string. Strings in python are immutable.\"  #positive index\n",
    "s[38:47]"
   ]
  },
  {
   "cell_type": "code",
   "execution_count": 33,
   "id": "c220083c-b985-455c-a7c5-a8f61e6f0763",
   "metadata": {},
   "outputs": [
    {
     "data": {
      "text/plain": [
       "' immutable'"
      ]
     },
     "execution_count": 33,
     "metadata": {},
     "output_type": "execute_result"
    }
   ],
   "source": [
    "s = \"This is string. Strings in python are immutable.\"  #negative index\n",
    "s[-11:-1]"
   ]
  }
 ],
 "metadata": {
  "kernelspec": {
   "display_name": "Python 3 (ipykernel)",
   "language": "python",
   "name": "python3"
  },
  "language_info": {
   "codemirror_mode": {
    "name": "ipython",
    "version": 3
   },
   "file_extension": ".py",
   "mimetype": "text/x-python",
   "name": "python",
   "nbconvert_exporter": "python",
   "pygments_lexer": "ipython3",
   "version": "3.12.4"
  }
 },
 "nbformat": 4,
 "nbformat_minor": 5
}
