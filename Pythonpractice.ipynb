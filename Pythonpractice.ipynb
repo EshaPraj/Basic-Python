{
 "cells": [
  {
   "cell_type": "code",
   "execution_count": 3,
   "id": "9d823928-e8d6-4596-8696-f0ce46981a9b",
   "metadata": {},
   "outputs": [
    {
     "name": "stdout",
     "output_type": "stream",
     "text": [
      "8\n",
      "-2\n"
     ]
    }
   ],
   "source": [
    "x = 3 #variable = value store = number = integer datatype/ datastructure\n",
    "y = 5\n",
    "sum = x + y\n",
    "substract = x - y\n",
    "print (sum)\n",
    "print (substract)"
   ]
  },
  {
   "cell_type": "code",
   "execution_count": 2,
   "id": "1f30fa05-951f-46e3-9cd3-d0d7969ea6d7",
   "metadata": {},
   "outputs": [],
   "source": [
    "__1__ = 'ram'"
   ]
  },
  {
   "cell_type": "code",
   "execution_count": null,
   "id": "a432380a-4cae-473c-b3f7-86db7018953a",
   "metadata": {},
   "outputs": [],
   "source": [
    "gravity_of_earth = 9.8 "
   ]
  },
  {
   "cell_type": "code",
   "execution_count": 4,
   "id": "78a20978-65d4-4fce-a6c7-248fa8d03952",
   "metadata": {},
   "outputs": [],
   "source": [
    "x = 1 + 3j  #complex \n",
    "x = 1 #integer\n",
    "x = 1.5 #float\n",
    "x = 'ram' #string = can be double or single quouted"
   ]
  },
  {
   "cell_type": "code",
   "execution_count": 6,
   "id": "ed511e46-c64f-4d65-b548-7b2f8d2e048f",
   "metadata": {},
   "outputs": [],
   "source": [
    "#constant = variable = value doesnot change"
   ]
  },
  {
   "cell_type": "code",
   "execution_count": 2,
   "id": "482972bb-f630-46ce-b1c8-05d25f0cd710",
   "metadata": {},
   "outputs": [],
   "source": [
    "# binary, decimal, octal, hexadecimal"
   ]
  },
  {
   "cell_type": "code",
   "execution_count": 1,
   "id": "00f4a263-ae5f-4882-ad5b-695f82485107",
   "metadata": {},
   "outputs": [
    {
     "name": "stdout",
     "output_type": "stream",
     "text": [
      "10 100 200 4813\n"
     ]
    }
   ],
   "source": [
    "a = 0b1010 #binary literals = 2 digits = 0, 1\n",
    "b = 100 #decimal literals = 10 digits = 0 - 9\n",
    "c = 0o310 #octal literals = 8 digits = 0 - 7\n",
    "d = 0x12cd #hexadecimal literals = 16 digits  \n",
    "print (a, b, c, d)"
   ]
  },
  {
   "cell_type": "code",
   "execution_count": 2,
   "id": "0f85112a-7b23-45de-bca9-a101877d2a57",
   "metadata": {},
   "outputs": [
    {
     "name": "stdout",
     "output_type": "stream",
     "text": [
      "<class 'float'>\n"
     ]
    }
   ],
   "source": [
    "a = 1.5\n",
    "print (type(a))"
   ]
  },
  {
   "cell_type": "code",
   "execution_count": 3,
   "id": "e5311791-2d31-4c5f-8e44-22aa6bc1c04a",
   "metadata": {},
   "outputs": [
    {
     "name": "stdout",
     "output_type": "stream",
     "text": [
      "2332445140848\n"
     ]
    }
   ],
   "source": [
    "a = \"ram\"\n",
    "print(id(a))  #garbage "
   ]
  },
  {
   "cell_type": "code",
   "execution_count": 4,
   "id": "4d0f85f0-92a0-4369-a35b-894b8eec6dbd",
   "metadata": {},
   "outputs": [
    {
     "name": "stdout",
     "output_type": "stream",
     "text": [
      "{1, 2, 3, 4} <class 'set'>\n"
     ]
    }
   ],
   "source": [
    "#set datatype\n",
    "x = {1, 2, 3, 4}\n",
    "print(x, type(x))"
   ]
  },
  {
   "cell_type": "code",
   "execution_count": 5,
   "id": "b1eff6d4-7127-4812-a55a-de7453a32a0a",
   "metadata": {},
   "outputs": [
    {
     "name": "stdout",
     "output_type": "stream",
     "text": [
      "{'name': 'ram', 'age': 23, 'address': 'ktm'} <class 'dict'>\n"
     ]
    }
   ],
   "source": [
    "# dictionary datatype\n",
    "person = {\n",
    "    \"name\" : \"ram\", #key:value pair with comma seperated\n",
    "    \"age\" : 23,\n",
    "    \"address\" : \"ktm\" #last comma is optional\n",
    "}\n",
    "print(person, type(person))"
   ]
  },
  {
   "cell_type": "code",
   "execution_count": 8,
   "id": "470645ba-2c13-4537-b001-795d73a564bb",
   "metadata": {},
   "outputs": [
    {
     "name": "stdout",
     "output_type": "stream",
     "text": [
      "welcome to python course.\n",
      "python is dynamic typed language.\n",
      "python is my favourite.\n"
     ]
    }
   ],
   "source": [
    "#multi-line string\n",
    "s = \"\"\"welcome to python course.\n",
    "python is dynamic typed language.\n",
    "python is my favourite.\"\"\"\n",
    "print (s)"
   ]
  },
  {
   "cell_type": "code",
   "execution_count": 9,
   "id": "d1c9b324-c808-4bf7-9eb5-9cace793e7ee",
   "metadata": {},
   "outputs": [
    {
     "name": "stdout",
     "output_type": "stream",
     "text": [
      "welcome to python course. \n",
      "python is dynamic typed language. \n",
      "python is my favourite.\n"
     ]
    }
   ],
   "source": [
    "#return statement\n",
    "s = \"welcome to python course. \\npython is dynamic typed language. \\npython is my favourite.\"\n",
    "print (s)"
   ]
  },
  {
   "cell_type": "code",
   "execution_count": 10,
   "id": "e109af25-c914-4110-9969-6bb4a3f3a1d8",
   "metadata": {},
   "outputs": [
    {
     "name": "stdout",
     "output_type": "stream",
     "text": [
      "welcome to python course. \\npython is dynamic typed language. \\npython is my favourite.\n"
     ]
    }
   ],
   "source": [
    "# to show \\n in the output as well, add \\\\n\n",
    "s = \"welcome to python course. \\\\npython is dynamic typed language. \\\\npython is my favourite.\"\n",
    "print (s)\n"
   ]
  },
  {
   "cell_type": "code",
   "execution_count": 12,
   "id": "1b400f31-806d-4b27-b1f8-f889e2c909c7",
   "metadata": {},
   "outputs": [
    {
     "name": "stdout",
     "output_type": "stream",
     "text": [
      "welcome to python course. \\\\npython is dynamic typed language. \\\\npython is my favourite.\n"
     ]
    }
   ],
   "source": [
    "#raw string j chha tei print garna lai\n",
    "s = r\"welcome to python course. \\\\npython is dynamic typed language. \\\\npython is my favourite.\"\n",
    "print (s)"
   ]
  },
  {
   "cell_type": "code",
   "execution_count": 14,
   "id": "049932b6-b96a-449b-9b18-ccb6d90090a6",
   "metadata": {},
   "outputs": [
    {
     "name": "stdin",
     "output_type": "stream",
     "text": [
      "Enter the value of x: 2\n",
      "Enter the value of y: 4\n"
     ]
    },
    {
     "name": "stdout",
     "output_type": "stream",
     "text": [
      "6\n"
     ]
    }
   ],
   "source": [
    "x = input(\"Enter the value of x:\")\n",
    "y = input(\"Enter the value of y:\")\n",
    "sum = int(x) + int(y)\n",
    "print(sum)"
   ]
  },
  {
   "cell_type": "code",
   "execution_count": 17,
   "id": "24ccc71d-7104-4faf-9fab-832eb1fe47b5",
   "metadata": {},
   "outputs": [
    {
     "name": "stdout",
     "output_type": "stream",
     "text": [
      "ram rai\n"
     ]
    }
   ],
   "source": [
    "first_name = \"ram\"\n",
    "last_name = \"rai\"\n",
    "full_name = first_name + \" \" + last_name #concatenate\n",
    "print(full_name)"
   ]
  },
  {
   "cell_type": "code",
   "execution_count": 1,
   "id": "5642c9d1-043d-45b4-ab77-6137623cfe77",
   "metadata": {},
   "outputs": [
    {
     "name": "stdin",
     "output_type": "stream",
     "text": [
      "enter your first name esha\n",
      "enter last name prajapati\n"
     ]
    },
    {
     "name": "stdout",
     "output_type": "stream",
     "text": [
      "esha prajapati\n"
     ]
    }
   ],
   "source": [
    "    first_name=input (\"enter your first name\")\n",
    "    last_name= input(\"enter last name\")\n",
    "    full_name= first_name + \" \" + last_name #concatenation\n",
    "    return (full_name)\n",
    "full_name = func_name()\n",
    "print (full_name)"
   ]
  },
  {
   "cell_type": "code",
   "execution_count": 40,
   "id": "01ab4e8b-e6bb-4874-96e8-ac2179eb351f",
   "metadata": {},
   "outputs": [
    {
     "name": "stdin",
     "output_type": "stream",
     "text": [
      "enter first num 3\n",
      "enter second num 6\n"
     ]
    },
    {
     "data": {
      "text/plain": [
       "9"
      ]
     },
     "execution_count": 40,
     "metadata": {},
     "output_type": "execute_result"
    }
   ],
   "source": [
    "def sum():\n",
    "    x= input(\"enter first num\" )\n",
    "    y= input(\"enter second num\" )\n",
    "    sum = int(x)+int(y) \n",
    "    return (sum)\n",
    "sum()"
   ]
  },
  {
   "cell_type": "code",
   "execution_count": 3,
   "id": "996a5af3-b4c1-4ec2-88fb-ef4958c4a174",
   "metadata": {},
   "outputs": [
    {
     "name": "stdin",
     "output_type": "stream",
     "text": [
      "enter first num 2\n",
      "enter second num 4\n"
     ]
    },
    {
     "data": {
      "text/plain": [
       "6"
      ]
     },
     "execution_count": 3,
     "metadata": {},
     "output_type": "execute_result"
    }
   ],
   "source": [
    "#type casting\n",
    "def sum():\n",
    "    x= int(input(\"enter first num\" ))\n",
    "    y= int (input(\"enter second num\" ))\n",
    "    return x+y\n",
    "\n",
    "sum()"
   ]
  },
  {
   "cell_type": "code",
   "execution_count": 41,
   "id": "a7a3c113-0c74-42ca-88d5-365d89021df5",
   "metadata": {},
   "outputs": [
    {
     "data": {
      "text/plain": [
       "15"
      ]
     },
     "execution_count": 41,
     "metadata": {},
     "output_type": "execute_result"
    }
   ],
   "source": [
    "#parameters\n",
    "def sum(x=10, y=5):\n",
    "    return x+y\n",
    "\n",
    "sum()"
   ]
  },
  {
   "cell_type": "code",
   "execution_count": 43,
   "id": "397db62f-ed10-499f-a851-38a7c605d65c",
   "metadata": {},
   "outputs": [
    {
     "data": {
      "text/plain": [
       "6"
      ]
     },
     "execution_count": 43,
     "metadata": {},
     "output_type": "execute_result"
    }
   ],
   "source": [
    "sum(x=2, y=4)"
   ]
  },
  {
   "cell_type": "code",
   "execution_count": 45,
   "id": "9da41b0a-8307-4dd8-b379-2719f51d959c",
   "metadata": {},
   "outputs": [],
   "source": [
    "x= (2, 3, 4) "
   ]
  },
  {
   "cell_type": "code",
   "execution_count": 46,
   "id": "e6e72f0e-b0ff-4cab-a32d-4fed0f97d844",
   "metadata": {},
   "outputs": [],
   "source": [
    "y= [1, 2, 3, 4]"
   ]
  },
  {
   "cell_type": "code",
   "execution_count": 48,
   "id": "00b32087-a456-4ba9-b179-4df73cd08767",
   "metadata": {},
   "outputs": [],
   "source": [
    "y.append(5)"
   ]
  },
  {
   "cell_type": "code",
   "execution_count": 49,
   "id": "34440585-bef9-4578-875d-5b1e1ffbf5ee",
   "metadata": {},
   "outputs": [
    {
     "data": {
      "text/plain": [
       "[1, 2, 3, 4, 5]"
      ]
     },
     "execution_count": 49,
     "metadata": {},
     "output_type": "execute_result"
    }
   ],
   "source": [
    "y"
   ]
  },
  {
   "cell_type": "code",
   "execution_count": 50,
   "id": "1b003367-4f09-4d7a-9a27-ff8e0e38c3d8",
   "metadata": {},
   "outputs": [],
   "source": [
    "y[0]=7"
   ]
  },
  {
   "cell_type": "code",
   "execution_count": 51,
   "id": "9cfb708a-c284-41b3-90ba-cb88277b14e7",
   "metadata": {},
   "outputs": [
    {
     "data": {
      "text/plain": [
       "[7, 2, 3, 4, 5]"
      ]
     },
     "execution_count": 51,
     "metadata": {},
     "output_type": "execute_result"
    }
   ],
   "source": [
    "y"
   ]
  },
  {
   "cell_type": "code",
   "execution_count": 52,
   "id": "f5dbf00a-334a-485e-ae3a-f686217f2266",
   "metadata": {},
   "outputs": [],
   "source": [
    "y[3] = 8"
   ]
  },
  {
   "cell_type": "code",
   "execution_count": 53,
   "id": "696ec36c-2b17-4321-8d82-10024535462a",
   "metadata": {},
   "outputs": [
    {
     "data": {
      "text/plain": [
       "[7, 2, 3, 8, 5]"
      ]
     },
     "execution_count": 53,
     "metadata": {},
     "output_type": "execute_result"
    }
   ],
   "source": [
    "y"
   ]
  },
  {
   "cell_type": "code",
   "execution_count": 54,
   "id": "445786a2-f41c-4d57-9a7a-292b14dc1689",
   "metadata": {},
   "outputs": [
    {
     "ename": "TypeError",
     "evalue": "'tuple' object does not support item assignment",
     "output_type": "error",
     "traceback": [
      "\u001b[1;31m---------------------------------------------------------------------------\u001b[0m",
      "\u001b[1;31mTypeError\u001b[0m                                 Traceback (most recent call last)",
      "Cell \u001b[1;32mIn[54], line 1\u001b[0m\n\u001b[1;32m----> 1\u001b[0m x[\u001b[38;5;241m0\u001b[39m]\u001b[38;5;241m=\u001b[39m\u001b[38;5;241m7\u001b[39m\n",
      "\u001b[1;31mTypeError\u001b[0m: 'tuple' object does not support item assignment"
     ]
    }
   ],
   "source": [
    "x[0]=7   #tuple = immutable"
   ]
  },
  {
   "cell_type": "code",
   "execution_count": 56,
   "id": "7d0bcde3-1d3f-4727-8a1c-80966a9671be",
   "metadata": {},
   "outputs": [],
   "source": [
    "a = {1, 2, 3, 4, 4, 5}"
   ]
  },
  {
   "cell_type": "code",
   "execution_count": 57,
   "id": "6a59251d-4e1d-434c-8b33-a9a73a29e860",
   "metadata": {},
   "outputs": [
    {
     "data": {
      "text/plain": [
       "{1, 2, 3, 4, 5}"
      ]
     },
     "execution_count": 57,
     "metadata": {},
     "output_type": "execute_result"
    }
   ],
   "source": [
    "a #set ma unique element matra linchha "
   ]
  },
  {
   "cell_type": "code",
   "execution_count": 62,
   "id": "0b4d9621-cd99-4e30-a11e-86375b43aff8",
   "metadata": {},
   "outputs": [
    {
     "data": {
      "text/plain": [
       "dict_keys(['a', 'b', 'c'])"
      ]
     },
     "execution_count": 62,
     "metadata": {},
     "output_type": "execute_result"
    }
   ],
   "source": [
    "#dictionary\n",
    "a = {1, 2, 3, 3}\n",
    "a = {'a': 2, 'b': 3, 'c': 4}\n",
    "a.keys()"
   ]
  },
  {
   "cell_type": "code",
   "execution_count": 63,
   "id": "229889d1-c893-490a-a135-2f8375007777",
   "metadata": {},
   "outputs": [
    {
     "data": {
      "text/plain": [
       "dict"
      ]
     },
     "execution_count": 63,
     "metadata": {},
     "output_type": "execute_result"
    }
   ],
   "source": [
    "type(a)"
   ]
  },
  {
   "cell_type": "code",
   "execution_count": 59,
   "id": "ea6670bb-38ea-425c-918b-8215fb047e56",
   "metadata": {},
   "outputs": [
    {
     "data": {
      "text/plain": [
       "dict_values([2, 3, 4])"
      ]
     },
     "execution_count": 59,
     "metadata": {},
     "output_type": "execute_result"
    }
   ],
   "source": [
    "a.values()"
   ]
  },
  {
   "cell_type": "code",
   "execution_count": 60,
   "id": "08a4bba0-981a-43fd-a5a5-0572ed221406",
   "metadata": {},
   "outputs": [
    {
     "data": {
      "text/plain": [
       "dict_items([('a', 2), ('b', 3), ('c', 4)])"
      ]
     },
     "execution_count": 60,
     "metadata": {},
     "output_type": "execute_result"
    }
   ],
   "source": [
    "a.items()"
   ]
  },
  {
   "cell_type": "code",
   "execution_count": 64,
   "id": "a9585d1a-ce72-459f-94da-14b3e1974c48",
   "metadata": {},
   "outputs": [
    {
     "data": {
      "text/plain": [
       "3"
      ]
     },
     "execution_count": 64,
     "metadata": {},
     "output_type": "execute_result"
    }
   ],
   "source": [
    "a['b']    #key diyo vane value aafae dinchha in dictionary"
   ]
  },
  {
   "cell_type": "code",
   "execution_count": 104,
   "id": "493bd036-9a78-48c5-913c-eda61f796b30",
   "metadata": {},
   "outputs": [],
   "source": [
    "#indexing\n",
    "a = [1, 2, 3, 4]"
   ]
  },
  {
   "cell_type": "code",
   "execution_count": 105,
   "id": "ebc0d69e-f6d7-45b4-b176-38567bee5a3f",
   "metadata": {},
   "outputs": [
    {
     "data": {
      "text/plain": [
       "3"
      ]
     },
     "execution_count": 105,
     "metadata": {},
     "output_type": "execute_result"
    }
   ],
   "source": [
    "a[2]"
   ]
  },
  {
   "cell_type": "code",
   "execution_count": 106,
   "id": "f7292cd7-5843-48a5-9030-dc8270e12943",
   "metadata": {},
   "outputs": [],
   "source": [
    "#slicing"
   ]
  },
  {
   "cell_type": "code",
   "execution_count": 107,
   "id": "29350ae1-4acc-4530-80db-34ddb8da7172",
   "metadata": {},
   "outputs": [
    {
     "data": {
      "text/plain": [
       "[1, 2, 3]"
      ]
     },
     "execution_count": 107,
     "metadata": {},
     "output_type": "execute_result"
    }
   ],
   "source": [
    "a[0:3]"
   ]
  },
  {
   "cell_type": "code",
   "execution_count": 108,
   "id": "c05e8999-86e6-4436-ae04-5b322a360124",
   "metadata": {},
   "outputs": [
    {
     "data": {
      "text/plain": [
       "[]"
      ]
     },
     "execution_count": 108,
     "metadata": {},
     "output_type": "execute_result"
    }
   ],
   "source": [
    "a[2:2]"
   ]
  },
  {
   "cell_type": "code",
   "execution_count": 109,
   "id": "3c35e48d-8911-41fb-b571-7f94e06041f1",
   "metadata": {},
   "outputs": [
    {
     "data": {
      "text/plain": [
       "[4]"
      ]
     },
     "execution_count": 109,
     "metadata": {},
     "output_type": "execute_result"
    }
   ],
   "source": [
    "a[3:4]"
   ]
  },
  {
   "cell_type": "code",
   "execution_count": 111,
   "id": "2a167cbb-d6c9-4a6c-9b08-500ab1ab7122",
   "metadata": {},
   "outputs": [
    {
     "data": {
      "text/plain": [
       "[2, 3]"
      ]
     },
     "execution_count": 111,
     "metadata": {},
     "output_type": "execute_result"
    }
   ],
   "source": [
    "a[1:3]"
   ]
  },
  {
   "cell_type": "code",
   "execution_count": 114,
   "id": "24e27b3b-ab12-467a-aa64-5dfb77ba9131",
   "metadata": {},
   "outputs": [],
   "source": [
    "a = [1, 2, 3 ,4, 5, 6, 7]"
   ]
  },
  {
   "cell_type": "code",
   "execution_count": 115,
   "id": "213d60f2-6817-44aa-886a-04df24f8af99",
   "metadata": {},
   "outputs": [
    {
     "data": {
      "text/plain": [
       "[1, 3, 5, 7]"
      ]
     },
     "execution_count": 115,
     "metadata": {},
     "output_type": "execute_result"
    }
   ],
   "source": [
    "a[0:7:2] #starting index : skip"
   ]
  },
  {
   "cell_type": "code",
   "execution_count": null,
   "id": "5e24c6c4-ffa0-4074-88f2-9cfc1e2ae670",
   "metadata": {},
   "outputs": [],
   "source": [
    "#for loop"
   ]
  },
  {
   "cell_type": "code",
   "execution_count": 78,
   "id": "ec67db8a-6e87-4809-8dea-907fbc015c9b",
   "metadata": {},
   "outputs": [
    {
     "name": "stdout",
     "output_type": "stream",
     "text": [
      "1\n",
      "2\n",
      "3\n",
      "4\n",
      "5\n",
      "6\n",
      "7\n",
      "8\n",
      "9\n"
     ]
    }
   ],
   "source": [
    "for index in range(1, 10):\n",
    " print(index)"
   ]
  },
  {
   "cell_type": "code",
   "execution_count": 88,
   "id": "27a4ed62-7999-43da-a1c6-a1f914ba05dd",
   "metadata": {},
   "outputs": [],
   "source": [
    "#nested\n",
    "a = [1, 2, [3, 4, 5]]"
   ]
  },
  {
   "cell_type": "code",
   "execution_count": 89,
   "id": "772d847c-4407-4e50-99c3-8ad8c7b8bac4",
   "metadata": {},
   "outputs": [
    {
     "data": {
      "text/plain": [
       "[3, 4, 5]"
      ]
     },
     "execution_count": 89,
     "metadata": {},
     "output_type": "execute_result"
    }
   ],
   "source": [
    "a[2]"
   ]
  },
  {
   "cell_type": "code",
   "execution_count": 90,
   "id": "fcb1f32b-a1e5-4cc7-b45f-ca6e25205a66",
   "metadata": {},
   "outputs": [
    {
     "data": {
      "text/plain": [
       "4"
      ]
     },
     "execution_count": 90,
     "metadata": {},
     "output_type": "execute_result"
    }
   ],
   "source": [
    "a[2][1]"
   ]
  },
  {
   "cell_type": "code",
   "execution_count": 91,
   "id": "3ccb1365-101e-4153-b10d-da5e60f44ad3",
   "metadata": {},
   "outputs": [
    {
     "data": {
      "text/plain": [
       "2"
      ]
     },
     "execution_count": 91,
     "metadata": {},
     "output_type": "execute_result"
    }
   ],
   "source": [
    "a[1]"
   ]
  },
  {
   "cell_type": "code",
   "execution_count": 92,
   "id": "5520f65f-e788-4cf4-bf4c-b93dd4edb14d",
   "metadata": {},
   "outputs": [
    {
     "data": {
      "text/plain": [
       "5"
      ]
     },
     "execution_count": 92,
     "metadata": {},
     "output_type": "execute_result"
    }
   ],
   "source": [
    "a[2][2]"
   ]
  },
  {
   "cell_type": "code",
   "execution_count": 99,
   "id": "ee281216-69d3-400d-a203-f0c69a7f3268",
   "metadata": {},
   "outputs": [],
   "source": [
    "a = [[1, 2, 3], [4, 5, 6], [7, 8 ,9]]"
   ]
  },
  {
   "cell_type": "code",
   "execution_count": 101,
   "id": "d3e1ac92-9593-4fd7-8cb4-6634dc135ca9",
   "metadata": {},
   "outputs": [
    {
     "data": {
      "text/plain": [
       "[7, 8, 9]"
      ]
     },
     "execution_count": 101,
     "metadata": {},
     "output_type": "execute_result"
    }
   ],
   "source": [
    "a[2]"
   ]
  },
  {
   "cell_type": "code",
   "execution_count": 102,
   "id": "e97df67c-2554-4334-8ae7-f9036730c0dc",
   "metadata": {},
   "outputs": [
    {
     "data": {
      "text/plain": [
       "[7, 8]"
      ]
     },
     "execution_count": 102,
     "metadata": {},
     "output_type": "execute_result"
    }
   ],
   "source": [
    "a[2][0:2]"
   ]
  },
  {
   "cell_type": "code",
   "execution_count": 116,
   "id": "e612339c-ee6e-4cbe-90f8-37fd8c1a204b",
   "metadata": {},
   "outputs": [],
   "source": [
    "#list of dict\n",
    "a = [1, 'b', 'esha', True, 0.5]"
   ]
  },
  {
   "cell_type": "code",
   "execution_count": 118,
   "id": "09bc18fb-4b00-49ba-a142-427063a91ecf",
   "metadata": {},
   "outputs": [
    {
     "data": {
      "text/plain": [
       "[1, 'b', 'esha', True, 0.5]"
      ]
     },
     "execution_count": 118,
     "metadata": {},
     "output_type": "execute_result"
    }
   ],
   "source": [
    "a"
   ]
  },
  {
   "cell_type": "code",
   "execution_count": 123,
   "id": "778d827c-21e9-453c-9754-12bc960a2ffe",
   "metadata": {},
   "outputs": [],
   "source": [
    "a = [{'a' : 1, 'b': 2}, {'c': 3, 'd': 4}]"
   ]
  },
  {
   "cell_type": "code",
   "execution_count": 124,
   "id": "d2dcf8d7-22a9-4797-a843-c55784ce07c4",
   "metadata": {},
   "outputs": [
    {
     "data": {
      "text/plain": [
       "3"
      ]
     },
     "execution_count": 124,
     "metadata": {},
     "output_type": "execute_result"
    }
   ],
   "source": [
    "a[1]['c']"
   ]
  },
  {
   "cell_type": "code",
   "execution_count": 126,
   "id": "5ae18161-1fa3-4057-95c1-a306b8897132",
   "metadata": {},
   "outputs": [
    {
     "data": {
      "text/plain": [
       "2"
      ]
     },
     "execution_count": 126,
     "metadata": {},
     "output_type": "execute_result"
    }
   ],
   "source": [
    "a[0]['b']"
   ]
  },
  {
   "cell_type": "code",
   "execution_count": 127,
   "id": "411628a5-e516-4c09-8e47-13ea90f0d0e6",
   "metadata": {},
   "outputs": [],
   "source": [
    "a = [1, 2, 3, 4, 5, 6, 7]"
   ]
  },
  {
   "cell_type": "code",
   "execution_count": 129,
   "id": "5cfdf48b-670d-4c3b-86bd-234f28e9cc4e",
   "metadata": {},
   "outputs": [],
   "source": [
    "#if (condition):\n",
    "#    if true\n",
    "# else:\n",
    "#    if false"
   ]
  },
  {
   "cell_type": "code",
   "execution_count": 130,
   "id": "3ef2ebcb-1504-4e9f-974d-f842d49979b5",
   "metadata": {},
   "outputs": [
    {
     "name": "stdout",
     "output_type": "stream",
     "text": [
      "1\n",
      "2\n",
      "3\n",
      "4\n",
      "5\n",
      "6\n",
      "7\n"
     ]
    }
   ],
   "source": [
    "for element in a :\n",
    "    print (element)"
   ]
  },
  {
   "cell_type": "code",
   "execution_count": 132,
   "id": "a55fb4e0-c320-44d2-bbe2-447758f34aee",
   "metadata": {},
   "outputs": [],
   "source": [
    "a = range(1, 10)"
   ]
  },
  {
   "cell_type": "code",
   "execution_count": 133,
   "id": "f2f45569-cbac-4cce-b917-a631a2cf8dbf",
   "metadata": {},
   "outputs": [
    {
     "name": "stdout",
     "output_type": "stream",
     "text": [
      "1\n",
      "2\n",
      "3\n",
      "4\n",
      "5\n",
      "6\n",
      "7\n",
      "8\n",
      "9\n"
     ]
    }
   ],
   "source": [
    "for element in a:\n",
    "    print (element)"
   ]
  },
  {
   "cell_type": "code",
   "execution_count": 134,
   "id": "c412e6ec-8065-46b5-96ec-4f4223a456b0",
   "metadata": {},
   "outputs": [
    {
     "data": {
      "text/plain": [
       "0"
      ]
     },
     "execution_count": 134,
     "metadata": {},
     "output_type": "execute_result"
    }
   ],
   "source": [
    "4%2"
   ]
  },
  {
   "cell_type": "code",
   "execution_count": 135,
   "id": "f4ef5aac-dd1b-4ea5-af08-2405bcce6d70",
   "metadata": {},
   "outputs": [
    {
     "name": "stdout",
     "output_type": "stream",
     "text": [
      "0\n",
      "2\n",
      "4\n",
      "6\n",
      "8\n"
     ]
    }
   ],
   "source": [
    "for element in range(0, 10):\n",
    "    if element%2==0:\n",
    "        print(element)"
   ]
  },
  {
   "cell_type": "code",
   "execution_count": 138,
   "id": "cfd7e811-c5a7-4e6c-9c82-014f4005752a",
   "metadata": {},
   "outputs": [],
   "source": [
    "#NESTED DICT\n",
    "b = {\"a\": {\"b\":1, \"c\":2}}"
   ]
  },
  {
   "cell_type": "code",
   "execution_count": 139,
   "id": "7f9c3d3e-675e-4811-94f8-808ac765ac63",
   "metadata": {},
   "outputs": [
    {
     "data": {
      "text/plain": [
       "{'b': 1, 'c': 2}"
      ]
     },
     "execution_count": 139,
     "metadata": {},
     "output_type": "execute_result"
    }
   ],
   "source": [
    "b[\"a\"]"
   ]
  },
  {
   "cell_type": "code",
   "execution_count": 140,
   "id": "c928c3e1-38a7-40bd-a5c6-410a04da7efa",
   "metadata": {},
   "outputs": [
    {
     "data": {
      "text/plain": [
       "2"
      ]
     },
     "execution_count": 140,
     "metadata": {},
     "output_type": "execute_result"
    }
   ],
   "source": [
    "b[\"a\"][\"c\"]"
   ]
  },
  {
   "cell_type": "code",
   "execution_count": 141,
   "id": "a775620b-b506-478a-9dc4-656e17ac2a93",
   "metadata": {},
   "outputs": [],
   "source": [
    "# write a function which gives odd if odd but if even gives multiply 5(0,100) odd=[1,3,5,7....] even=[0,10,20,.....]"
   ]
  },
  {
   "cell_type": "code",
   "execution_count": 143,
   "id": "43608644-8edf-437c-b90d-371a44443202",
   "metadata": {},
   "outputs": [],
   "source": [
    "a = range(1, 100)"
   ]
  },
  {
   "cell_type": "code",
   "execution_count": 144,
   "id": "4fd542bd-257b-475f-9134-cad0636535c7",
   "metadata": {},
   "outputs": [
    {
     "name": "stdout",
     "output_type": "stream",
     "text": [
      "1\n",
      "2\n",
      "3\n",
      "4\n",
      "5\n",
      "6\n",
      "7\n",
      "8\n",
      "9\n",
      "10\n",
      "11\n",
      "12\n",
      "13\n",
      "14\n",
      "15\n",
      "16\n",
      "17\n",
      "18\n",
      "19\n",
      "20\n",
      "21\n",
      "22\n",
      "23\n",
      "24\n",
      "25\n",
      "26\n",
      "27\n",
      "28\n",
      "29\n",
      "30\n",
      "31\n",
      "32\n",
      "33\n",
      "34\n",
      "35\n",
      "36\n",
      "37\n",
      "38\n",
      "39\n",
      "40\n",
      "41\n",
      "42\n",
      "43\n",
      "44\n",
      "45\n",
      "46\n",
      "47\n",
      "48\n",
      "49\n",
      "50\n",
      "51\n",
      "52\n",
      "53\n",
      "54\n",
      "55\n",
      "56\n",
      "57\n",
      "58\n",
      "59\n",
      "60\n",
      "61\n",
      "62\n",
      "63\n",
      "64\n",
      "65\n",
      "66\n",
      "67\n",
      "68\n",
      "69\n",
      "70\n",
      "71\n",
      "72\n",
      "73\n",
      "74\n",
      "75\n",
      "76\n",
      "77\n",
      "78\n",
      "79\n",
      "80\n",
      "81\n",
      "82\n",
      "83\n",
      "84\n",
      "85\n",
      "86\n",
      "87\n",
      "88\n",
      "89\n",
      "90\n",
      "91\n",
      "92\n",
      "93\n",
      "94\n",
      "95\n",
      "96\n",
      "97\n",
      "98\n",
      "99\n"
     ]
    }
   ],
   "source": [
    "for element in a:\n",
    "    print (element)"
   ]
  },
  {
   "cell_type": "code",
   "execution_count": 153,
   "id": "15e5eb87-4bfd-40c6-916e-4e892a4e35d1",
   "metadata": {},
   "outputs": [
    {
     "name": "stdout",
     "output_type": "stream",
     "text": [
      "0\n",
      "1\n",
      "10\n",
      "3\n",
      "20\n",
      "5\n",
      "30\n",
      "7\n",
      "40\n",
      "9\n",
      "50\n",
      "11\n",
      "60\n",
      "13\n",
      "70\n",
      "15\n",
      "80\n",
      "17\n",
      "90\n",
      "19\n",
      "100\n",
      "21\n",
      "110\n",
      "23\n",
      "120\n",
      "25\n",
      "130\n",
      "27\n",
      "140\n",
      "29\n",
      "150\n",
      "31\n",
      "160\n",
      "33\n",
      "170\n",
      "35\n",
      "180\n",
      "37\n",
      "190\n",
      "39\n",
      "200\n",
      "41\n",
      "210\n",
      "43\n",
      "220\n",
      "45\n",
      "230\n",
      "47\n",
      "240\n",
      "49\n",
      "250\n",
      "51\n",
      "260\n",
      "53\n",
      "270\n",
      "55\n",
      "280\n",
      "57\n",
      "290\n",
      "59\n",
      "300\n",
      "61\n",
      "310\n",
      "63\n",
      "320\n",
      "65\n",
      "330\n",
      "67\n",
      "340\n",
      "69\n",
      "350\n",
      "71\n",
      "360\n",
      "73\n",
      "370\n",
      "75\n",
      "380\n",
      "77\n",
      "390\n",
      "79\n",
      "400\n",
      "81\n",
      "410\n",
      "83\n",
      "420\n",
      "85\n",
      "430\n",
      "87\n",
      "440\n",
      "89\n",
      "450\n",
      "91\n",
      "460\n",
      "93\n",
      "470\n",
      "95\n",
      "480\n",
      "97\n",
      "490\n",
      "99\n"
     ]
    }
   ],
   "source": [
    "for a in range(0, 100):\n",
    "    if a%2!=0:\n",
    "        print(a)\n",
    "    else: \n",
    "        print(a*5)"
   ]
  },
  {
   "cell_type": "code",
   "execution_count": 2,
   "id": "0de5fb0c-62ba-4678-82a2-3d19aff909b2",
   "metadata": {},
   "outputs": [
    {
     "data": {
      "text/plain": [
       "6.0"
      ]
     },
     "execution_count": 2,
     "metadata": {},
     "output_type": "execute_result"
    }
   ],
   "source": [
    "#type conversion\n",
    "float(6)"
   ]
  },
  {
   "cell_type": "code",
   "execution_count": 3,
   "id": "00acc4b0-8ecf-4301-a8a5-040c47d4099a",
   "metadata": {},
   "outputs": [
    {
     "data": {
      "text/plain": [
       "5"
      ]
     },
     "execution_count": 3,
     "metadata": {},
     "output_type": "execute_result"
    }
   ],
   "source": [
    "int(5.7)"
   ]
  },
  {
   "cell_type": "code",
   "execution_count": 5,
   "id": "0cea99ef-a30e-42d9-b7c6-8b7388ba4ddd",
   "metadata": {},
   "outputs": [
    {
     "data": {
      "text/plain": [
       "5"
      ]
     },
     "execution_count": 5,
     "metadata": {},
     "output_type": "execute_result"
    }
   ],
   "source": [
    "int('5')"
   ]
  },
  {
   "cell_type": "code",
   "execution_count": 6,
   "id": "fa022873-4382-473f-8f1b-c36299a3d217",
   "metadata": {},
   "outputs": [
    {
     "data": {
      "text/plain": [
       "'7'"
      ]
     },
     "execution_count": 6,
     "metadata": {},
     "output_type": "execute_result"
    }
   ],
   "source": [
    "str(7)"
   ]
  },
  {
   "cell_type": "code",
   "execution_count": 7,
   "id": "42e0a97e-7340-46b0-817b-0c3ef3040c18",
   "metadata": {},
   "outputs": [
    {
     "ename": "ValueError",
     "evalue": "invalid literal for int() with base 10: '1esha'",
     "output_type": "error",
     "traceback": [
      "\u001b[1;31m---------------------------------------------------------------------------\u001b[0m",
      "\u001b[1;31mValueError\u001b[0m                                Traceback (most recent call last)",
      "Cell \u001b[1;32mIn[7], line 1\u001b[0m\n\u001b[1;32m----> 1\u001b[0m \u001b[38;5;28mint\u001b[39m(\u001b[38;5;124m'\u001b[39m\u001b[38;5;124m1esha\u001b[39m\u001b[38;5;124m'\u001b[39m)\n",
      "\u001b[1;31mValueError\u001b[0m: invalid literal for int() with base 10: '1esha'"
     ]
    }
   ],
   "source": [
    "int('1esha')"
   ]
  },
  {
   "cell_type": "code",
   "execution_count": 8,
   "id": "fa0f2069-8535-4f84-a614-1f5402f0799f",
   "metadata": {},
   "outputs": [],
   "source": [
    "#esha lai int ma convert garna mildaina (conversion to and from string must contain compatible values)"
   ]
  },
  {
   "cell_type": "code",
   "execution_count": 9,
   "id": "e9276e40-38d2-4550-8868-3d29d5dec439",
   "metadata": {},
   "outputs": [
    {
     "name": "stdout",
     "output_type": "stream",
     "text": [
      "True <class 'bool'>\n"
     ]
    }
   ],
   "source": [
    "#boolean\n",
    "x = True\n",
    "print(x, type(x))"
   ]
  },
  {
   "cell_type": "code",
   "execution_count": 10,
   "id": "d3b121f1-4c9a-4e3a-80dc-1f2153364843",
   "metadata": {},
   "outputs": [
    {
     "name": "stdout",
     "output_type": "stream",
     "text": [
      "[1, 2, 3, 4] <class 'list'>\n"
     ]
    }
   ],
   "source": [
    "#list datatype #mutable (can be change)\n",
    "x = [1, 2, 3, 4]\n",
    "print (x, type(x))"
   ]
  },
  {
   "cell_type": "code",
   "execution_count": 1,
   "id": "23573408-b113-4cc6-b689-9d093253d79c",
   "metadata": {},
   "outputs": [
    {
     "name": "stdout",
     "output_type": "stream",
     "text": [
      "(1, 2, 3, 4) <class 'tuple'>\n"
     ]
    }
   ],
   "source": [
    "#tuple datatype  = immutable (change garna mildaina)\n",
    "x = (1, 2, 3, 4)\n",
    "print (x, type(x))"
   ]
  },
  {
   "cell_type": "code",
   "execution_count": 12,
   "id": "0c2f866b-b973-49d3-888e-8817d3dcfa9e",
   "metadata": {},
   "outputs": [
    {
     "name": "stdout",
     "output_type": "stream",
     "text": [
      "{1, 2, 3, 4} <class 'set'>\n"
     ]
    }
   ],
   "source": [
    "#set datatype (contains unique character)\n",
    "x = {1, 2, 3, 4}\n",
    "print (x, type(x))"
   ]
  },
  {
   "cell_type": "code",
   "execution_count": 16,
   "id": "be724c7b-2ba0-4dcd-b508-8ed4ee440154",
   "metadata": {},
   "outputs": [
    {
     "name": "stdin",
     "output_type": "stream",
     "text": [
      "Enter the value of principle: 5\n",
      "Enter the value of time: 7\n",
      "Enter the value of rate: 3\n"
     ]
    },
    {
     "name": "stdout",
     "output_type": "stream",
     "text": [
      "The value of Simple Interest is: 1.05\n"
     ]
    }
   ],
   "source": [
    "#simple_interest = p*t*r/100\n",
    "p = int(input(\"Enter the value of principle:\"))\n",
    "t = int(input(\"Enter the value of time:\"))\n",
    "r = int(input(\"Enter the value of rate:\"))\n",
    "S_I = p*t*r/100\n",
    "print(f\"The value of Simple Interest is: {S_I}\") #f-string interpolation"
   ]
  },
  {
   "cell_type": "code",
   "execution_count": 17,
   "id": "3e3149e5-195c-440a-a8ca-08fc1a58dd31",
   "metadata": {},
   "outputs": [
    {
     "data": {
      "text/plain": [
       "1"
      ]
     },
     "execution_count": 17,
     "metadata": {},
     "output_type": "execute_result"
    }
   ],
   "source": [
    "4%3 #reminder/modulus"
   ]
  },
  {
   "cell_type": "code",
   "execution_count": 18,
   "id": "2bbecd60-a16d-4d31-b0b5-f2c4bd89336a",
   "metadata": {},
   "outputs": [
    {
     "data": {
      "text/plain": [
       "2.5"
      ]
     },
     "execution_count": 18,
     "metadata": {},
     "output_type": "execute_result"
    }
   ],
   "source": [
    "5/2"
   ]
  },
  {
   "cell_type": "code",
   "execution_count": 19,
   "id": "39554de2-b27a-459b-8dce-f9e6196b844b",
   "metadata": {},
   "outputs": [
    {
     "data": {
      "text/plain": [
       "2"
      ]
     },
     "execution_count": 19,
     "metadata": {},
     "output_type": "execute_result"
    }
   ],
   "source": [
    "5//2 #float division / integer division"
   ]
  },
  {
   "cell_type": "code",
   "execution_count": 20,
   "id": "9c46e60e-7701-431f-a594-28db7b1eeb9a",
   "metadata": {},
   "outputs": [
    {
     "data": {
      "text/plain": [
       "2.75"
      ]
     },
     "execution_count": 20,
     "metadata": {},
     "output_type": "execute_result"
    }
   ],
   "source": [
    "5.5/2"
   ]
  },
  {
   "cell_type": "code",
   "execution_count": 21,
   "id": "89e1eb12-4721-4e62-b37b-f15664f87af0",
   "metadata": {},
   "outputs": [
    {
     "data": {
      "text/plain": [
       "2.0"
      ]
     },
     "execution_count": 21,
     "metadata": {},
     "output_type": "execute_result"
    }
   ],
   "source": [
    "5.5//2"
   ]
  },
  {
   "cell_type": "code",
   "execution_count": 27,
   "id": "463a5b0a-479c-4907-87d9-54b8895d81b4",
   "metadata": {},
   "outputs": [
    {
     "data": {
      "text/plain": [
       "4"
      ]
     },
     "execution_count": 27,
     "metadata": {},
     "output_type": "execute_result"
    }
   ],
   "source": [
    "2 ** 2 #2 ko square  (** = power operator ^)"
   ]
  },
  {
   "cell_type": "code",
   "execution_count": 28,
   "id": "64773871-ec18-42ea-a457-e5f913749657",
   "metadata": {},
   "outputs": [
    {
     "data": {
      "text/plain": [
       "8"
      ]
     },
     "execution_count": 28,
     "metadata": {},
     "output_type": "execute_result"
    }
   ],
   "source": [
    "2**3 #power operator (2 ko cube)"
   ]
  },
  {
   "cell_type": "code",
   "execution_count": 24,
   "id": "337b8358-09d5-408c-85d0-bc1758f90580",
   "metadata": {},
   "outputs": [
    {
     "data": {
      "text/plain": [
       "32"
      ]
     },
     "execution_count": 24,
     "metadata": {},
     "output_type": "execute_result"
    }
   ],
   "source": [
    "2**5 #(2^5)"
   ]
  },
  {
   "cell_type": "code",
   "execution_count": 29,
   "id": "66676b8b-111c-4420-bd14-ac8133a0c65a",
   "metadata": {},
   "outputs": [
    {
     "data": {
      "text/plain": [
       "False"
      ]
     },
     "execution_count": 29,
     "metadata": {},
     "output_type": "execute_result"
    }
   ],
   "source": [
    "2 > 4 #(comparison operator)"
   ]
  },
  {
   "cell_type": "code",
   "execution_count": 30,
   "id": "fd1145f7-80e4-42a8-bbea-e2f18d91fae8",
   "metadata": {},
   "outputs": [
    {
     "data": {
      "text/plain": [
       "True"
      ]
     },
     "execution_count": 30,
     "metadata": {},
     "output_type": "execute_result"
    }
   ],
   "source": [
    "5>3"
   ]
  },
  {
   "cell_type": "code",
   "execution_count": 31,
   "id": "9978b84d-4baf-4eb2-8437-0e42ddd81d68",
   "metadata": {},
   "outputs": [
    {
     "data": {
      "text/plain": [
       "True"
      ]
     },
     "execution_count": 31,
     "metadata": {},
     "output_type": "execute_result"
    }
   ],
   "source": [
    "3 == 3 #(equals to)"
   ]
  },
  {
   "cell_type": "code",
   "execution_count": 32,
   "id": "bda58711-355f-4783-8ed3-a21a5af2ad28",
   "metadata": {},
   "outputs": [
    {
     "data": {
      "text/plain": [
       "True"
      ]
     },
     "execution_count": 32,
     "metadata": {},
     "output_type": "execute_result"
    }
   ],
   "source": [
    "3 != 5 #(is not equal to)"
   ]
  },
  {
   "cell_type": "code",
   "execution_count": 33,
   "id": "0eeaf1ba-c0ea-44fc-a1fa-b6438c34a055",
   "metadata": {},
   "outputs": [
    {
     "data": {
      "text/plain": [
       "False"
      ]
     },
     "execution_count": 33,
     "metadata": {},
     "output_type": "execute_result"
    }
   ],
   "source": [
    "2 >= 4 #(greater than or equal to)"
   ]
  },
  {
   "cell_type": "code",
   "execution_count": 35,
   "id": "7a1d0486-f33b-4c58-b70e-1df795cf3617",
   "metadata": {},
   "outputs": [
    {
     "data": {
      "text/plain": [
       "True"
      ]
     },
     "execution_count": 35,
     "metadata": {},
     "output_type": "execute_result"
    }
   ],
   "source": [
    "7<=9 #(less than or equal to)"
   ]
  },
  {
   "cell_type": "code",
   "execution_count": 36,
   "id": "7083adb5-0c34-41bc-a510-6c7c1d00230f",
   "metadata": {},
   "outputs": [
    {
     "name": "stdout",
     "output_type": "stream",
     "text": [
      "4\n"
     ]
    }
   ],
   "source": [
    "name = \"esha\"\n",
    "print(len(name))"
   ]
  },
  {
   "cell_type": "code",
   "execution_count": 37,
   "id": "6e7376ba-9cba-4dd9-8bf8-6e0075302c68",
   "metadata": {
    "scrolled": true
   },
   "outputs": [
    {
     "data": {
      "text/plain": [
       "False"
      ]
     },
     "execution_count": 37,
     "metadata": {},
     "output_type": "execute_result"
    }
   ],
   "source": [
    "len('esha') == len('nayna')"
   ]
  },
  {
   "cell_type": "code",
   "execution_count": 154,
   "id": "8e0591e3-9e3a-45f1-a6c3-77231f02523e",
   "metadata": {},
   "outputs": [],
   "source": [
    "#returning multiple values in function\n",
    "def func_name (num1, num2):\n",
    "    sum= num1 + num2\n",
    "    multiple = num1 * num2\n",
    "    division = num1 / num2\n",
    "    power = num1 ** num2\n",
    "    return(sum, multiple, division, power)\n",
    "    "
   ]
  },
  {
   "cell_type": "code",
   "execution_count": 155,
   "id": "19e6c874-2589-4bba-b1fb-655bdbfa1868",
   "metadata": {},
   "outputs": [
    {
     "data": {
      "text/plain": [
       "(4, 3, 0.3333333333333333, 1)"
      ]
     },
     "execution_count": 155,
     "metadata": {},
     "output_type": "execute_result"
    }
   ],
   "source": [
    "func_name(1, 3)"
   ]
  },
  {
   "cell_type": "code",
   "execution_count": 156,
   "id": "5b429684-fbb1-4e1a-a1ec-09972ae00e3d",
   "metadata": {},
   "outputs": [],
   "source": [
    "#tuple unpacking\n",
    "sum, multiple, division, power = func_name(1, 3)"
   ]
  },
  {
   "cell_type": "code",
   "execution_count": 157,
   "id": "3b69fada-a18d-4a39-8185-05b2d70a23d7",
   "metadata": {},
   "outputs": [
    {
     "data": {
      "text/plain": [
       "4"
      ]
     },
     "execution_count": 157,
     "metadata": {},
     "output_type": "execute_result"
    }
   ],
   "source": [
    "sum"
   ]
  },
  {
   "cell_type": "code",
   "execution_count": 158,
   "id": "5460f3f4-0dfc-4740-a0d7-8939d58505fa",
   "metadata": {},
   "outputs": [
    {
     "data": {
      "text/plain": [
       "3"
      ]
     },
     "execution_count": 158,
     "metadata": {},
     "output_type": "execute_result"
    }
   ],
   "source": [
    "multiple"
   ]
  },
  {
   "cell_type": "code",
   "execution_count": 159,
   "id": "7afa5f8d-9ee3-42bf-9392-d2e0d6cf920e",
   "metadata": {},
   "outputs": [
    {
     "data": {
      "text/plain": [
       "0.3333333333333333"
      ]
     },
     "execution_count": 159,
     "metadata": {},
     "output_type": "execute_result"
    }
   ],
   "source": [
    "division"
   ]
  },
  {
   "cell_type": "code",
   "execution_count": 160,
   "id": "328e5cff-8ca2-4639-b490-2bba2d402a0a",
   "metadata": {},
   "outputs": [
    {
     "data": {
      "text/plain": [
       "1"
      ]
     },
     "execution_count": 160,
     "metadata": {},
     "output_type": "execute_result"
    }
   ],
   "source": [
    "power"
   ]
  },
  {
   "cell_type": "code",
   "execution_count": 186,
   "id": "ad3316c0-e978-47a7-a92e-1b220fa860c2",
   "metadata": {},
   "outputs": [],
   "source": [
    "def number(a):   \n",
    "   if a%2!=0:\n",
    "      return \"odd\"\n",
    "   else:\n",
    "      return \"even\""
   ]
  },
  {
   "cell_type": "code",
   "execution_count": 187,
   "id": "5cf70c2a-9493-4143-9d18-3ee11d45ff41",
   "metadata": {},
   "outputs": [],
   "source": [
    "def user_inp():\n",
    "    a = int(input(\"enter the number\"))\n",
    "    odd_or_even = number(a)\n",
    "    print(odd_or_even)"
   ]
  },
  {
   "cell_type": "code",
   "execution_count": 188,
   "id": "ce0ff38d-5036-427e-999c-9a9a6816733a",
   "metadata": {},
   "outputs": [
    {
     "name": "stdin",
     "output_type": "stream",
     "text": [
      "enter the number 4\n"
     ]
    },
    {
     "name": "stdout",
     "output_type": "stream",
     "text": [
      "even\n"
     ]
    }
   ],
   "source": [
    "user_inp()"
   ]
  },
  {
   "cell_type": "code",
   "execution_count": 189,
   "id": "a91e1bd5-08a4-4171-ad10-100d721def62",
   "metadata": {},
   "outputs": [],
   "source": [
    "#user sanga dui ota number liyera arithmetic operator haru nikalni"
   ]
  },
  {
   "cell_type": "code",
   "execution_count": 198,
   "id": "4a0066d7-5db7-448d-84b6-acf02c002c76",
   "metadata": {},
   "outputs": [],
   "source": [
    "def number():\n",
    "    num1=int(input(\"enter the first number\"))\n",
    "    num2=int(input(\"enter the second number\"))\n",
    "    add = num1 + num2\n",
    "    sub = num1 - num2\n",
    "    multiple = num1 * num2\n",
    "    div = num1 / num2\n",
    "    return add, sub, multiple, div"
   ]
  },
  {
   "cell_type": "code",
   "execution_count": 199,
   "id": "0b82b85d-d960-4d0d-9dd3-cba92032ed74",
   "metadata": {},
   "outputs": [
    {
     "name": "stdin",
     "output_type": "stream",
     "text": [
      "enter the first number 4\n",
      "enter the second number 7\n"
     ]
    },
    {
     "data": {
      "text/plain": [
       "(11, -3, 28, 0.5714285714285714)"
      ]
     },
     "execution_count": 199,
     "metadata": {},
     "output_type": "execute_result"
    }
   ],
   "source": [
    "number()"
   ]
  },
  {
   "cell_type": "code",
   "execution_count": 204,
   "id": "71d4817f-8270-471d-b4f9-52677adc41c9",
   "metadata": {},
   "outputs": [],
   "source": [
    "def func_name():\n",
    "    first_name = input(\"enter the first name:\")\n",
    "    last_name = input(\"enter last name:\")\n",
    "    return first_name + \" \" + last_name"
   ]
  },
  {
   "cell_type": "code",
   "execution_count": 205,
   "id": "7049a5a4-dffc-4920-80c1-25d01f03a4fa",
   "metadata": {},
   "outputs": [
    {
     "name": "stdin",
     "output_type": "stream",
     "text": [
      "enter the first name: esha\n",
      "enter last name: praj\n"
     ]
    },
    {
     "data": {
      "text/plain": [
       "'esha praj'"
      ]
     },
     "execution_count": 205,
     "metadata": {},
     "output_type": "execute_result"
    }
   ],
   "source": [
    "func_name()"
   ]
  },
  {
   "cell_type": "code",
   "execution_count": 211,
   "id": "83f9bfaa-16b4-4958-8098-871c01468ab4",
   "metadata": {},
   "outputs": [
    {
     "name": "stdout",
     "output_type": "stream",
     "text": [
      "2\n",
      "4\n",
      "6\n",
      "8\n",
      "10\n",
      "12\n",
      "14\n",
      "16\n",
      "18\n",
      "20\n"
     ]
    }
   ],
   "source": [
    "for a in range(1, 11):\n",
    "        print(a*2)\n",
    "    "
   ]
  },
  {
   "cell_type": "code",
   "execution_count": 213,
   "id": "745f9b5d-376e-4249-82b8-a6f2dc83feed",
   "metadata": {},
   "outputs": [
    {
     "ename": "SyntaxError",
     "evalue": "Missing parentheses in call to 'print'. Did you mean print(...)? (879879878.py, line 2)",
     "output_type": "error",
     "traceback": [
      "\u001b[1;36m  Cell \u001b[1;32mIn[213], line 2\u001b[1;36m\u001b[0m\n\u001b[1;33m    print num\u001b[0m\n\u001b[1;37m    ^\u001b[0m\n\u001b[1;31mSyntaxError\u001b[0m\u001b[1;31m:\u001b[0m Missing parentheses in call to 'print'. Did you mean print(...)?\n"
     ]
    }
   ],
   "source": [
    "num = int(input(\"enter the number\"))\n",
    "for num*2\n",
    "print num"
   ]
  },
  {
   "cell_type": "code",
   "execution_count": 218,
   "id": "b2f24745-81c8-4007-be89-13686957bf04",
   "metadata": {},
   "outputs": [
    {
     "name": "stdin",
     "output_type": "stream",
     "text": [
      "enter the num 4\n"
     ]
    },
    {
     "name": "stdout",
     "output_type": "stream",
     "text": [
      "0\n",
      "4\n",
      "8\n",
      "12\n",
      "16\n",
      "20\n",
      "24\n",
      "28\n",
      "32\n",
      "36\n"
     ]
    }
   ],
   "source": [
    "num = int(input(\"enter the num\"))\n",
    "for a in range (0,10):\n",
    "    print (a*num)\n",
    "    "
   ]
  },
  {
   "cell_type": "code",
   "execution_count": 223,
   "id": "a5df5dfc-39d6-4b26-a392-c735799833b9",
   "metadata": {},
   "outputs": [
    {
     "name": "stdout",
     "output_type": "stream",
     "text": [
      "even\n",
      "odd\n",
      "even\n",
      "odd\n",
      "even\n",
      "odd\n",
      "even\n",
      "odd\n",
      "even\n",
      "odd\n"
     ]
    }
   ],
   "source": [
    "for a in range(0, 10):\n",
    "    if (a%2!=0):\n",
    "        print (\"odd\")\n",
    "    else:\n",
    "        print (\"even\")\n",
    "    "
   ]
  },
  {
   "cell_type": "code",
   "execution_count": 224,
   "id": "bffac7e3-804a-4210-ac22-7e09a1bd676e",
   "metadata": {},
   "outputs": [
    {
     "name": "stdin",
     "output_type": "stream",
     "text": [
      "enter the number 5\n"
     ]
    },
    {
     "name": "stdout",
     "output_type": "stream",
     "text": [
      "positive\n"
     ]
    }
   ],
   "source": [
    "num = int(input(\"enter the number\"))\n",
    "if (num>0):\n",
    "    print (\"positive\")\n",
    "else:\n",
    "    print(\"negative\")"
   ]
  },
  {
   "cell_type": "code",
   "execution_count": 225,
   "id": "a1e5d4b1-e3f9-4a97-ba92-7ada20d24163",
   "metadata": {},
   "outputs": [
    {
     "name": "stdout",
     "output_type": "stream",
     "text": [
      "even\n",
      "odd\n",
      "even\n",
      "odd\n",
      "even\n",
      "odd\n",
      "even\n",
      "odd\n",
      "even\n",
      "odd\n"
     ]
    }
   ],
   "source": [
    "for a in range(0, 10):\n",
    "    if (a%2!=0):\n",
    "        print(\"odd\")\n",
    "    else:\n",
    "        print(\"even\")"
   ]
  },
  {
   "cell_type": "code",
   "execution_count": 226,
   "id": "96ab51d3-88f8-4142-b165-74161e3955df",
   "metadata": {},
   "outputs": [
    {
     "name": "stdout",
     "output_type": "stream",
     "text": [
      "odd\n",
      "even\n",
      "odd\n",
      "even\n",
      "odd\n",
      "even\n",
      "odd\n",
      "even\n",
      "odd\n",
      "even\n",
      "odd\n",
      "even\n",
      "odd\n",
      "even\n",
      "odd\n",
      "even\n"
     ]
    }
   ],
   "source": [
    "for a in range(3, 19):\n",
    "    if (a%2!=0):\n",
    "        print(\"odd\")\n",
    "    else:\n",
    "        print(\"even\")"
   ]
  },
  {
   "cell_type": "code",
   "execution_count": 238,
   "id": "34b4f994-6d11-4e47-a612-ae536c1ef45b",
   "metadata": {},
   "outputs": [
    {
     "name": "stdin",
     "output_type": "stream",
     "text": [
      "enter the first number 4\n",
      "enter the second number 10\n"
     ]
    },
    {
     "name": "stdout",
     "output_type": "stream",
     "text": [
      "10  is greates\n"
     ]
    }
   ],
   "source": [
    "num1 = int(input(\"enter the first number\"))\n",
    "num2 = int(input(\"enter the second number\"))\n",
    "if (num1>num2):\n",
    "    print (num1, \" is greatest\")\n",
    "else:\n",
    "    print(num2, \" is greates\")\n",
    "\n",
    "        "
   ]
  },
  {
   "cell_type": "code",
   "execution_count": 239,
   "id": "a2453f7e-b7f5-4fc4-8e0b-99d34954ebc9",
   "metadata": {},
   "outputs": [
    {
     "name": "stdout",
     "output_type": "stream",
     "text": [
      "hello my name is esha\n"
     ]
    }
   ],
   "source": [
    "name = \"esha\"\n",
    "print(f\"hello my name is {name}\")"
   ]
  },
  {
   "cell_type": "code",
   "execution_count": 246,
   "id": "755d286a-57a8-41ae-804d-5984270ceb68",
   "metadata": {},
   "outputs": [
    {
     "name": "stdin",
     "output_type": "stream",
     "text": [
      "enter the first number 4\n",
      "enter the second number 7\n",
      "enter the third number 9\n"
     ]
    },
    {
     "name": "stdout",
     "output_type": "stream",
     "text": [
      "9  is greatest\n"
     ]
    }
   ],
   "source": [
    "num1 = int(input(\"enter the first number\"))\n",
    "num2 = int(input(\"enter the second number\"))\n",
    "num3 = int(input(\"enter the third number\"))\n",
    "if (num1>num2 and num1>num3):\n",
    "    print (num1, \" is greatest\")\n",
    "elif(num2>num3):\n",
    "    print(num2, \" is greatest\")\n",
    "else:\n",
    "    print(num3, \" is greatest\")"
   ]
  },
  {
   "cell_type": "code",
   "execution_count": 249,
   "id": "9b9e9343-b55e-4189-9235-4e93ba490913",
   "metadata": {},
   "outputs": [
    {
     "name": "stdin",
     "output_type": "stream",
     "text": [
      "enter the number 0\n"
     ]
    },
    {
     "name": "stdout",
     "output_type": "stream",
     "text": [
      "the number is 0\n"
     ]
    }
   ],
   "source": [
    "num1 = int(input(\"enter the number\"))\n",
    "if (num1>0):\n",
    "    print(num1, \"is positive\")\n",
    "elif(num1<0):\n",
    "    print(num1, \"is negative\")\n",
    "else:\n",
    "    print(\"the number is 0\")"
   ]
  },
  {
   "cell_type": "code",
   "execution_count": 252,
   "id": "aeb8827d-5028-4064-b1f3-f1eeab7f0e92",
   "metadata": {},
   "outputs": [
    {
     "name": "stdin",
     "output_type": "stream",
     "text": [
      "enter the number 39\n"
     ]
    },
    {
     "name": "stdout",
     "output_type": "stream",
     "text": [
      "he has failed\n"
     ]
    }
   ],
   "source": [
    "mark = int(input(\"enter the number\"))\n",
    "if (mark>80 and mark<100):\n",
    "    print(\"he has scored A+\")\n",
    "elif (mark>60 and mark<80):\n",
    "    print(\"he has scored A\")\n",
    "elif (mark>40 and mark<60):\n",
    "    print(\"he has just passed\")\n",
    "else:\n",
    "    print(\"he has failed\")"
   ]
  },
  {
   "cell_type": "code",
   "execution_count": 253,
   "id": "beadb78f-8155-4db5-a64e-8b16589ac23b",
   "metadata": {},
   "outputs": [],
   "source": [
    "a =[1, 2, 3, 4, 5, 6, 7, 8, 9, 10]"
   ]
  },
  {
   "cell_type": "code",
   "execution_count": 254,
   "id": "714684e3-17f5-4deb-afdb-a18adf1206a8",
   "metadata": {},
   "outputs": [],
   "source": [
    "a.append(11)"
   ]
  },
  {
   "cell_type": "code",
   "execution_count": 255,
   "id": "882e5baa-6a04-465c-a957-f0ecd585db6d",
   "metadata": {},
   "outputs": [
    {
     "data": {
      "text/plain": [
       "[1, 2, 3, 4, 5, 6, 7, 8, 9, 10, 11]"
      ]
     },
     "execution_count": 255,
     "metadata": {},
     "output_type": "execute_result"
    }
   ],
   "source": [
    "a"
   ]
  },
  {
   "cell_type": "code",
   "execution_count": 257,
   "id": "cba90138-30c8-43e4-a37e-51bc85aca23c",
   "metadata": {},
   "outputs": [
    {
     "data": {
      "text/plain": [
       "6"
      ]
     },
     "execution_count": 257,
     "metadata": {},
     "output_type": "execute_result"
    }
   ],
   "source": [
    "a[5]"
   ]
  },
  {
   "cell_type": "code",
   "execution_count": 265,
   "id": "245d7f75-3caf-4fe0-a3b0-e7ba2994c520",
   "metadata": {},
   "outputs": [
    {
     "data": {
      "text/plain": [
       "[11, 10, 9, 8, 7, 6, 5, 4, 3, 2, 1]"
      ]
     },
     "execution_count": 265,
     "metadata": {},
     "output_type": "execute_result"
    }
   ],
   "source": [
    "a[::-1]"
   ]
  },
  {
   "cell_type": "code",
   "execution_count": 267,
   "id": "690b0bbe-bd43-4e4b-85ad-b35213f3df6f",
   "metadata": {},
   "outputs": [
    {
     "data": {
      "text/plain": [
       "[11, 9, 7, 5, 3, 1]"
      ]
     },
     "execution_count": 267,
     "metadata": {},
     "output_type": "execute_result"
    }
   ],
   "source": [
    "a[::-2]"
   ]
  },
  {
   "cell_type": "code",
   "execution_count": 270,
   "id": "4b711e5d-6a6a-4a84-83c3-8f7baed50c40",
   "metadata": {},
   "outputs": [
    {
     "data": {
      "text/plain": [
       "[11, 10, 9, 8, 7, 6, 5, 4, 3, 2, 1]"
      ]
     },
     "execution_count": 270,
     "metadata": {},
     "output_type": "execute_result"
    }
   ],
   "source": [
    "a[::-1]"
   ]
  },
  {
   "cell_type": "code",
   "execution_count": 271,
   "id": "5440a8ee-236c-4179-ab2b-8265ad143e27",
   "metadata": {},
   "outputs": [],
   "source": [
    "#string\n",
    "name = \"esha prajapati\""
   ]
  },
  {
   "cell_type": "code",
   "execution_count": 272,
   "id": "725d53e1-f320-4058-a4a1-d28de163047b",
   "metadata": {},
   "outputs": [
    {
     "data": {
      "text/plain": [
       "'a'"
      ]
     },
     "execution_count": 272,
     "metadata": {},
     "output_type": "execute_result"
    }
   ],
   "source": [
    "name[3]"
   ]
  },
  {
   "cell_type": "code",
   "execution_count": 273,
   "id": "8fe00f38-8a35-478f-9f7f-9e1e86dbfb67",
   "metadata": {},
   "outputs": [
    {
     "data": {
      "text/plain": [
       "'p'"
      ]
     },
     "execution_count": 273,
     "metadata": {},
     "output_type": "execute_result"
    }
   ],
   "source": [
    "name[5]"
   ]
  },
  {
   "cell_type": "code",
   "execution_count": 274,
   "id": "b3c11bb8-8707-4876-8e9f-b52543284e6a",
   "metadata": {},
   "outputs": [
    {
     "data": {
      "text/plain": [
       "'praj'"
      ]
     },
     "execution_count": 274,
     "metadata": {},
     "output_type": "execute_result"
    }
   ],
   "source": [
    "name[5:9]"
   ]
  },
  {
   "cell_type": "code",
   "execution_count": 275,
   "id": "8d6c893c-2d6c-4fbd-9926-11f4a4c22fb0",
   "metadata": {},
   "outputs": [
    {
     "data": {
      "text/plain": [
       "'i'"
      ]
     },
     "execution_count": 275,
     "metadata": {},
     "output_type": "execute_result"
    }
   ],
   "source": [
    "name[-1]"
   ]
  },
  {
   "cell_type": "code",
   "execution_count": 276,
   "id": "6bb7d156-b490-4be8-a81a-86d45aef4276",
   "metadata": {},
   "outputs": [
    {
     "data": {
      "text/plain": [
       "'s'"
      ]
     },
     "execution_count": 276,
     "metadata": {},
     "output_type": "execute_result"
    }
   ],
   "source": [
    "name[-13]"
   ]
  },
  {
   "cell_type": "code",
   "execution_count": 277,
   "id": "001d8cc7-902e-4652-8268-ea09109d7192",
   "metadata": {},
   "outputs": [
    {
     "data": {
      "text/plain": [
       "'itapajarp ahse'"
      ]
     },
     "execution_count": 277,
     "metadata": {},
     "output_type": "execute_result"
    }
   ],
   "source": [
    "name[::-1]"
   ]
  },
  {
   "cell_type": "code",
   "execution_count": 278,
   "id": "9449f9c6-9d70-4610-bfcb-72b1b120f27f",
   "metadata": {},
   "outputs": [],
   "source": [
    "name  = \"Esha Prajapati\""
   ]
  },
  {
   "cell_type": "code",
   "execution_count": 279,
   "id": "8049e2a4-1788-41e3-8efb-984d731b2183",
   "metadata": {},
   "outputs": [
    {
     "data": {
      "text/plain": [
       "'esha prajapati'"
      ]
     },
     "execution_count": 279,
     "metadata": {},
     "output_type": "execute_result"
    }
   ],
   "source": [
    "name.lower()"
   ]
  },
  {
   "cell_type": "code",
   "execution_count": 280,
   "id": "b7830614-eeb9-47de-ac6e-894d3574f85a",
   "metadata": {},
   "outputs": [
    {
     "data": {
      "text/plain": [
       "'ESHA PRAJAPATI'"
      ]
     },
     "execution_count": 280,
     "metadata": {},
     "output_type": "execute_result"
    }
   ],
   "source": [
    "name.upper()"
   ]
  },
  {
   "cell_type": "code",
   "execution_count": 281,
   "id": "bf36d569-3b77-4379-9c26-72f3a3dad91c",
   "metadata": {},
   "outputs": [],
   "source": [
    "name = \"esha prajapati\""
   ]
  },
  {
   "cell_type": "code",
   "execution_count": 282,
   "id": "5b7892c1-63c6-4bd8-a830-b258c36082a5",
   "metadata": {},
   "outputs": [
    {
     "data": {
      "text/plain": [
       "'Esha Prajapati'"
      ]
     },
     "execution_count": 282,
     "metadata": {},
     "output_type": "execute_result"
    }
   ],
   "source": [
    "name.title()"
   ]
  },
  {
   "cell_type": "code",
   "execution_count": 283,
   "id": "ede811f2-6842-479c-b4c3-06f7517aa840",
   "metadata": {},
   "outputs": [
    {
     "data": {
      "text/plain": [
       "14"
      ]
     },
     "execution_count": 283,
     "metadata": {},
     "output_type": "execute_result"
    }
   ],
   "source": [
    "len(name)"
   ]
  },
  {
   "cell_type": "code",
   "execution_count": 284,
   "id": "04164fc3-b680-43bb-8e74-decc75b82311",
   "metadata": {},
   "outputs": [],
   "source": [
    "name = \"    esha    \""
   ]
  },
  {
   "cell_type": "code",
   "execution_count": 285,
   "id": "1b7e4b18-b955-451a-82c9-eb14595af83d",
   "metadata": {},
   "outputs": [
    {
     "data": {
      "text/plain": [
       "'esha'"
      ]
     },
     "execution_count": 285,
     "metadata": {},
     "output_type": "execute_result"
    }
   ],
   "source": [
    "name.strip()"
   ]
  },
  {
   "cell_type": "code",
   "execution_count": 286,
   "id": "74ffb4ab-a9d8-48c0-96fa-f6cbe82b2385",
   "metadata": {},
   "outputs": [],
   "source": [
    "name = \"esha prajapati\""
   ]
  },
  {
   "cell_type": "code",
   "execution_count": 287,
   "id": "f3a8f1f6-84d0-4b50-aac5-b2b09db0a534",
   "metadata": {},
   "outputs": [
    {
     "data": {
      "text/plain": [
       "['esha', 'prajapati']"
      ]
     },
     "execution_count": 287,
     "metadata": {},
     "output_type": "execute_result"
    }
   ],
   "source": [
    "name.split()"
   ]
  },
  {
   "cell_type": "code",
   "execution_count": 288,
   "id": "fad4465e-b07d-44ce-a969-5253d575b05d",
   "metadata": {},
   "outputs": [
    {
     "data": {
      "text/plain": [
       "['esh', ' pr', 'j', 'p', 'ti']"
      ]
     },
     "execution_count": 288,
     "metadata": {},
     "output_type": "execute_result"
    }
   ],
   "source": [
    "name.split(\"a\")"
   ]
  },
  {
   "cell_type": "markdown",
   "id": "51c5c530-b462-4835-b111-3f2f96396cd9",
   "metadata": {},
   "source": [
    "# string"
   ]
  },
  {
   "cell_type": "code",
   "execution_count": 292,
   "id": "feb2b3f5-420a-4af1-acc2-0d573035c87d",
   "metadata": {},
   "outputs": [],
   "source": [
    "a = [\"Esha\", \"Prajapati\", \"nayna\", \"koju\"]"
   ]
  },
  {
   "cell_type": "code",
   "execution_count": 293,
   "id": "abc6e123-2573-43a9-9129-6689b3632c7d",
   "metadata": {},
   "outputs": [
    {
     "data": {
      "text/plain": [
       "'Esha Prajapati nayna koju'"
      ]
     },
     "execution_count": 293,
     "metadata": {},
     "output_type": "execute_result"
    }
   ],
   "source": [
    "\" \".join(a)"
   ]
  },
  {
   "cell_type": "code",
   "execution_count": 294,
   "id": "4c894a03-7d24-4d3d-a65d-0e84c67d772f",
   "metadata": {},
   "outputs": [
    {
     "data": {
      "text/plain": [
       "'Esha-Prajapati-nayna-koju'"
      ]
     },
     "execution_count": 294,
     "metadata": {},
     "output_type": "execute_result"
    }
   ],
   "source": [
    "\"-\".join(a)"
   ]
  },
  {
   "cell_type": "code",
   "execution_count": 297,
   "id": "179a9d91-c56d-435f-a7fe-eb9eff58c366",
   "metadata": {},
   "outputs": [],
   "source": [
    "a = \"123\""
   ]
  },
  {
   "cell_type": "code",
   "execution_count": 298,
   "id": "9dae0930-67f3-475d-8240-195a59deacb8",
   "metadata": {},
   "outputs": [
    {
     "data": {
      "text/plain": [
       "True"
      ]
     },
     "execution_count": 298,
     "metadata": {},
     "output_type": "execute_result"
    }
   ],
   "source": [
    "a.isdigit()"
   ]
  },
  {
   "cell_type": "code",
   "execution_count": 299,
   "id": "141cc4e2-18b1-4b08-8d46-57c40a94a882",
   "metadata": {},
   "outputs": [],
   "source": [
    "a = \"123Prajapati\""
   ]
  },
  {
   "cell_type": "code",
   "execution_count": 300,
   "id": "18f33350-ecb0-463c-bb20-6b1c0a040882",
   "metadata": {},
   "outputs": [
    {
     "data": {
      "text/plain": [
       "True"
      ]
     },
     "execution_count": 300,
     "metadata": {},
     "output_type": "execute_result"
    }
   ],
   "source": [
    "a.isalnum()"
   ]
  },
  {
   "cell_type": "code",
   "execution_count": 308,
   "id": "c60c5451-67d4-48ae-ac28-ad436aeddc8f",
   "metadata": {},
   "outputs": [
    {
     "name": "stdout",
     "output_type": "stream",
     "text": [
      "hi john\n"
     ]
    }
   ],
   "source": [
    "email = \"john@gmail.com\"\n",
    "print (f\"hi {email[0:4]}\")"
   ]
  },
  {
   "cell_type": "code",
   "execution_count": 313,
   "id": "f70b2de7-c995-423c-8550-5f5a6187a4e3",
   "metadata": {},
   "outputs": [],
   "source": [
    "email = \"nayna@gmail.com\"\n",
    "splitted = email.split(\"@\")"
   ]
  },
  {
   "cell_type": "code",
   "execution_count": 314,
   "id": "7f0cfe6e-e672-49ad-82c9-ffb96f99cb1a",
   "metadata": {},
   "outputs": [
    {
     "data": {
      "text/plain": [
       "['nayna', 'gmail.com']"
      ]
     },
     "execution_count": 314,
     "metadata": {},
     "output_type": "execute_result"
    }
   ],
   "source": [
    "splitted"
   ]
  },
  {
   "cell_type": "code",
   "execution_count": 317,
   "id": "76f06ef8-bde6-4761-8e19-2de01819c0b2",
   "metadata": {},
   "outputs": [
    {
     "data": {
      "text/plain": [
       "'nayna'"
      ]
     },
     "execution_count": 317,
     "metadata": {},
     "output_type": "execute_result"
    }
   ],
   "source": [
    "splitted[0]"
   ]
  },
  {
   "cell_type": "code",
   "execution_count": 321,
   "id": "20d00d1c-a1e7-4d50-ac3e-4dd6193eacfe",
   "metadata": {},
   "outputs": [
    {
     "name": "stdin",
     "output_type": "stream",
     "text": [
      "enter your email esha@gmail.com\n"
     ]
    },
    {
     "name": "stdout",
     "output_type": "stream",
     "text": [
      "hi esha\n"
     ]
    }
   ],
   "source": [
    "email = input(\"enter your email\")\n",
    "splitted = email.split(\"@\")\n",
    "print(f\"hi {splitted[0]}\")"
   ]
  },
  {
   "cell_type": "code",
   "execution_count": 304,
   "id": "3eda2f0a-c11a-4866-ad1b-9396ae636224",
   "metadata": {},
   "outputs": [
    {
     "name": "stdout",
     "output_type": "stream",
     "text": [
      "your email is john@gmail.com\n"
     ]
    }
   ],
   "source": [
    "email = \"john@gmail.com\"\n",
    "print(\"your email is\", email)"
   ]
  },
  {
   "cell_type": "code",
   "execution_count": 305,
   "id": "26930746-24b2-4911-a8f3-9d00cbdddf29",
   "metadata": {},
   "outputs": [
    {
     "name": "stdout",
     "output_type": "stream",
     "text": [
      "your email is john@gmail.com\n"
     ]
    }
   ],
   "source": [
    "print(f\"your email is {email}\")"
   ]
  }
 ],
 "metadata": {
  "kernelspec": {
   "display_name": "Python 3 (ipykernel)",
   "language": "python",
   "name": "python3"
  },
  "language_info": {
   "codemirror_mode": {
    "name": "ipython",
    "version": 3
   },
   "file_extension": ".py",
   "mimetype": "text/x-python",
   "name": "python",
   "nbconvert_exporter": "python",
   "pygments_lexer": "ipython3",
   "version": "3.12.4"
  }
 },
 "nbformat": 4,
 "nbformat_minor": 5
}
