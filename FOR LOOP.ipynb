{
 "cells": [
  {
   "cell_type": "code",
   "execution_count": 1,
   "id": "9f735aa6-f54e-441e-aad7-4be897f9d9d8",
   "metadata": {},
   "outputs": [
    {
     "name": "stdout",
     "output_type": "stream",
     "text": [
      "1\n",
      "4\n",
      "9\n",
      "16\n",
      "25\n"
     ]
    }
   ],
   "source": [
    "x = [1, 2, 3, 4, 5]\n",
    "for i in x:\n",
    "    print(i ** 2)"
   ]
  },
  {
   "cell_type": "code",
   "execution_count": 3,
   "id": "609a2c96-38f7-4f01-9bc8-bbeee242f3a2",
   "metadata": {},
   "outputs": [
    {
     "name": "stdout",
     "output_type": "stream",
     "text": [
      "[1, 4, 9, 16, 25]\n"
     ]
    }
   ],
   "source": [
    "x = [1, 2, 3, 4, 5]\n",
    "output = []\n",
    "for i in x:\n",
    "    output.append(i**2)  # [1, 4, 9, 16, 25]\n",
    "print(output)"
   ]
  },
  {
   "cell_type": "code",
   "execution_count": 11,
   "id": "9b39cd9a-54f8-4f53-87aa-7ef5f6ce3a24",
   "metadata": {},
   "outputs": [
    {
     "name": "stdout",
     "output_type": "stream",
     "text": [
      "ODD\n",
      "EVEN\n",
      "ODD\n",
      "EVEN\n",
      "ODD\n"
     ]
    }
   ],
   "source": [
    "x = [1, 2, 3, 4, 5]\n",
    "output = []\n",
    "for i in x:\n",
    "    if i%2!=0:\n",
    "        print(\"ODD\")\n",
    "    else:\n",
    "        print(\"EVEN\")"
   ]
  },
  {
   "cell_type": "code",
   "execution_count": 13,
   "id": "3aebb250-249a-4cb7-b54e-63b6e6279356",
   "metadata": {},
   "outputs": [
    {
     "name": "stdout",
     "output_type": "stream",
     "text": [
      "['odd', 'even', 'odd', 'even', 'odd']\n"
     ]
    }
   ],
   "source": [
    "x = [1, 2, 3, 4, 5]\n",
    "output = []\n",
    "for i in x:\n",
    "    if i % 2 == 1:\n",
    "        output.append(\"odd\")\n",
    "    else:\n",
    "        output.append(\"even\")\n",
    "print(output)"
   ]
  },
  {
   "cell_type": "code",
   "execution_count": 23,
   "id": "79d5abc1-f0fe-4c54-b009-e4afcd771b32",
   "metadata": {},
   "outputs": [
    {
     "name": "stdout",
     "output_type": "stream",
     "text": [
      "[11, 12, 24, 1, 2, 3, 6, 7, 19, 8, 9, 10]\n"
     ]
    }
   ],
   "source": [
    "x = [11, 12, 24, 1, 2, 3, 1, 6, 2, 7, 11, 19, 3, 8, 9, 3, 9, 10, 11, 12, 24, 1, 2, 3, 8]\n",
    "#unique items \n",
    "unique_items = []\n",
    "for i in x:\n",
    "    if i not in unique_items:\n",
    "        unique_items.append(i)\n",
    "print(unique_items)"
   ]
  },
  {
   "cell_type": "code",
   "execution_count": 24,
   "id": "00423eba-f7f0-496a-b5cd-ef0eb66a4086",
   "metadata": {},
   "outputs": [
    {
     "name": "stdout",
     "output_type": "stream",
     "text": [
      "4\n"
     ]
    }
   ],
   "source": [
    "name = 'rAmesh pradhan'  #no. of vowels = aeiou\n",
    "\n",
    "count = 0\n",
    "\n",
    "for i in name:\n",
    "    if i.lower() in 'aeiou':\n",
    "        count+=1\n",
    "\n",
    "print(count)"
   ]
  },
  {
   "cell_type": "code",
   "execution_count": 34,
   "id": "a128a410-39d8-43f1-87f6-d9913cecdca0",
   "metadata": {},
   "outputs": [
    {
     "name": "stdout",
     "output_type": "stream",
     "text": [
      "dict_values([99, 55, 77])\n"
     ]
    }
   ],
   "source": [
    "marks = {'Alan': 99 , 'Bill': 55, 'Cory': 77}\n",
    "print(marks.values())"
   ]
  },
  {
   "cell_type": "code",
   "execution_count": 35,
   "id": "f431c427-bc9f-45da-971c-faa8fb287524",
   "metadata": {},
   "outputs": [
    {
     "name": "stdout",
     "output_type": "stream",
     "text": [
      "231\n"
     ]
    }
   ],
   "source": [
    "marks = {'Alan': 99 , 'Bill': 55, 'Cory': 77}\n",
    "total_marks = 0\n",
    "\n",
    "for mark in marks.values():\n",
    "    total_marks += mark\n",
    "print(total_marks)"
   ]
  },
  {
   "cell_type": "code",
   "execution_count": 53,
   "id": "200bd213-5e41-4cff-9e61-fb207ec4125c",
   "metadata": {},
   "outputs": [
    {
     "name": "stdout",
     "output_type": "stream",
     "text": [
      "{'Alan': 4, 'Bil': 3, 'Esha': 4, 'Harin': 5, 'Shyam': 5, 'Krishna': 7}\n"
     ]
    }
   ],
   "source": [
    "students = ['Alan', 'Bil', 'Esha', 'Harin', 'Shyam', 'Krishna']\n",
    "#{'Alan':4, 'Bil':3, 'Esha': 4, 'Harin': 5, 'Shyam': 5, 'Krishna': 7}\n",
    "output = {}\n",
    "for student in students:\n",
    "      output [student] = len(student) \n",
    "print(output)\n"
   ]
  },
  {
   "cell_type": "code",
   "execution_count": 1,
   "id": "1843e557-6e3b-4bf8-a64a-d31c56a9ba49",
   "metadata": {},
   "outputs": [
    {
     "name": "stdout",
     "output_type": "stream",
     "text": [
      "{'Alan': 4}\n",
      "{'Bil': 3}\n",
      "{'Esha': 4}\n",
      "{'Harin': 5}\n",
      "{'Shyam': 5}\n",
      "{'Krishna': 7}\n"
     ]
    }
   ],
   "source": [
    "students = ['Alan', 'Bil', 'Esha', 'Harin', 'Shyam', 'Krishna']\n",
    "#{'Alan':4, 'Bil':3, 'Esha': 4, 'Harin': 5, 'Shyam': 5, 'Krishna': 7}\n",
    "output = {}\n",
    "for student in students:\n",
    "      output= {(student) : len(student)}\n",
    "      print(output)"
   ]
  },
  {
   "cell_type": "code",
   "execution_count": 2,
   "id": "556808b7-ebe4-4fa7-8816-811a4819f866",
   "metadata": {},
   "outputs": [
    {
     "name": "stdout",
     "output_type": "stream",
     "text": [
      "{'Alan': 0, 'Bil': 1, 'Esha': 2, 'Harin': 3, 'Shyam': 4, 'Krishna': 5}\n"
     ]
    }
   ],
   "source": [
    "students = ['Alan', 'Bil', 'Esha', 'Harin', 'Shyam', 'Krishna']\n",
    "#{'Alan':4, 'Bil':3, 'Esha': 4, 'Harin': 5, 'Shyam': 5, 'Krishna': 7}\n",
    "output = {}\n",
    "i = 0\n",
    "\n",
    "for student in students:\n",
    "    output[student] = i\n",
    "    i+=1\n",
    "print(output)"
   ]
  },
  {
   "cell_type": "code",
   "execution_count": 23,
   "id": "47f7c528-373c-4e79-aa61-48d4b23a4bd0",
   "metadata": {},
   "outputs": [
    {
     "name": "stdout",
     "output_type": "stream",
     "text": [
      "{'Alan': 0, 'Bil': 1, 'Esha': 2, 'Harin': 3, 'Shyam': 4, 'Krishna': 5}\n"
     ]
    }
   ],
   "source": [
    "students = ['Alan', 'Bil', 'Esha', 'Harin', 'Shyam', 'Krishna']\n",
    "#{'Alan':0, 'Bil':1, 'Esha': 2, 'Harin': 3, 'Shyam': 4, 'Krishna': 5}\n",
    "output = {}\n",
    "i = 0\n",
    "\n",
    "for student in students:\n",
    "    output.update({student:i})\n",
    "    i+=1\n",
    "print(output)"
   ]
  },
  {
   "cell_type": "code",
   "execution_count": 24,
   "id": "ca5d901f-cad7-4151-bea7-7c5330d1653b",
   "metadata": {},
   "outputs": [
    {
     "data": {
      "text/plain": [
       "range(0, 10)"
      ]
     },
     "execution_count": 24,
     "metadata": {},
     "output_type": "execute_result"
    }
   ],
   "source": [
    "range(0, 10)"
   ]
  },
  {
   "cell_type": "code",
   "execution_count": 25,
   "id": "71598d97-4572-4236-b287-4e2d4ca5b45c",
   "metadata": {},
   "outputs": [
    {
     "data": {
      "text/plain": [
       "[0, 1, 2, 3, 4, 5, 6, 7, 8, 9]"
      ]
     },
     "execution_count": 25,
     "metadata": {},
     "output_type": "execute_result"
    }
   ],
   "source": [
    "list(range(0, 10))"
   ]
  },
  {
   "cell_type": "code",
   "execution_count": 26,
   "id": "3abe2fba-acd3-46dc-aa0c-fae9c998afe1",
   "metadata": {},
   "outputs": [
    {
     "name": "stdout",
     "output_type": "stream",
     "text": [
      "0\n",
      "1\n",
      "2\n",
      "3\n",
      "4\n",
      "5\n",
      "6\n",
      "7\n",
      "8\n",
      "9\n"
     ]
    }
   ],
   "source": [
    "for i in range(0, 10):\n",
    "    print (i)"
   ]
  },
  {
   "cell_type": "code",
   "execution_count": 27,
   "id": "d5ab824e-a9b1-4cec-877c-5e0fc0c95444",
   "metadata": {},
   "outputs": [
    {
     "name": "stdout",
     "output_type": "stream",
     "text": [
      "0\n",
      "1\n",
      "2\n",
      "3\n",
      "4\n",
      "5\n",
      "6\n",
      "7\n",
      "8\n",
      "9\n"
     ]
    }
   ],
   "source": [
    "for i in range(0, 10, 1):\n",
    "    print (i)"
   ]
  },
  {
   "cell_type": "code",
   "execution_count": 28,
   "id": "852058e7-f895-48ea-8b39-8c84a975a334",
   "metadata": {},
   "outputs": [
    {
     "name": "stdout",
     "output_type": "stream",
     "text": [
      "0\n",
      "2\n",
      "4\n",
      "6\n",
      "8\n"
     ]
    }
   ],
   "source": [
    "for i in range(0, 10, 2):\n",
    "    print (i)"
   ]
  },
  {
   "cell_type": "code",
   "execution_count": 29,
   "id": "bd5030d5-ef0a-4db1-b531-3609165a3fb6",
   "metadata": {},
   "outputs": [
    {
     "name": "stdout",
     "output_type": "stream",
     "text": [
      "0\n",
      "3\n",
      "6\n",
      "9\n"
     ]
    }
   ],
   "source": [
    "for i in range(0, 10, 3):    #start, stop, step\n",
    "    print (i)"
   ]
  },
  {
   "cell_type": "code",
   "execution_count": 30,
   "id": "2b8b0718-cb36-480b-ac04-83ea7c5b63d1",
   "metadata": {},
   "outputs": [
    {
     "name": "stdout",
     "output_type": "stream",
     "text": [
      "0\n",
      "4\n",
      "8\n"
     ]
    }
   ],
   "source": [
    "for i in range(0, 10, 4):\n",
    "    print (i)"
   ]
  },
  {
   "cell_type": "code",
   "execution_count": 31,
   "id": "2aa0f437-51ec-4a5b-892a-321543e25ff3",
   "metadata": {},
   "outputs": [
    {
     "name": "stdout",
     "output_type": "stream",
     "text": [
      "10\n",
      "9\n",
      "8\n",
      "7\n",
      "6\n",
      "5\n",
      "4\n",
      "3\n",
      "2\n",
      "1\n"
     ]
    }
   ],
   "source": [
    "for i in range(10, 0, -1):    #start, stop, step\n",
    "    print (i)"
   ]
  },
  {
   "cell_type": "code",
   "execution_count": 32,
   "id": "300ccf50-acad-4ae6-9668-e4524543ffde",
   "metadata": {},
   "outputs": [
    {
     "name": "stdout",
     "output_type": "stream",
     "text": [
      "{'Alan': 0, 'Bil': 1, 'Esha': 2, 'Harin': 3, 'Shyam': 4, 'Krishna': 5}\n"
     ]
    }
   ],
   "source": [
    "students = ['Alan', 'Bil', 'Esha', 'Harin', 'Shyam', 'Krishna']\n",
    "#{'Alan':0, 'Bil':1, 'Esha': 2, 'Harin': 3, 'Shyam': 4, 'Krishna': 5}\n",
    "output = {}\n",
    "i = 0\n",
    "\n",
    "for student in range(0 , 6):\n",
    "    output[students[i]] = i\n",
    "    i+=1\n",
    "print(output)"
   ]
  },
  {
   "cell_type": "code",
   "execution_count": 34,
   "id": "9f88e0c7-98e0-4e1a-bb39-70de0b8e009a",
   "metadata": {},
   "outputs": [
    {
     "name": "stdout",
     "output_type": "stream",
     "text": [
      "['Alan', 'Bil', 'Esha', 'Harin', 'Shyam', 'Krishna']\n"
     ]
    }
   ],
   "source": [
    "students = {'Alan':0, 'Bil':1, 'Esha': 2, 'Harin': 3, 'Shyam': 4, 'Krishna': 5}\n",
    "#output = ['Alan', 'Bil', 'Esha', 'Harin', 'Shyam', 'Krishna']\n",
    "output = []\n",
    "for i in students.keys():\n",
    "    output.append(i)\n",
    "print (output)"
   ]
  },
  {
   "cell_type": "code",
   "execution_count": 43,
   "id": "d2ed56a6-e04e-4170-9d8e-c02cca6148dc",
   "metadata": {},
   "outputs": [
    {
     "name": "stdout",
     "output_type": "stream",
     "text": [
      "{'Alan': 0, 'Bil': 1, 'Esha': 2, 'Harin': 3, 'Shyam': 4, 'Krishna': 5}\n"
     ]
    }
   ],
   "source": [
    "students = ['Alan', 'Bil', 'Esha', 'Harin', 'Shyam', 'Krishna']\n",
    "#output = {'Alan', 'Bil', 'Esha', 'Harin', 'Shyam', 'Krishna'}\n",
    "output = {}\n",
    "for i in range(0, len(students)):\n",
    "    output[students[i]] = i\n",
    "print (output)"
   ]
  },
  {
   "cell_type": "code",
   "execution_count": 52,
   "id": "1f00ad68-d904-479c-8e9e-53d3eded6704",
   "metadata": {},
   "outputs": [
    {
     "name": "stdout",
     "output_type": "stream",
     "text": [
      "{'milk': 267.96, 'bread': 343.2, 'butter': 475.2}\n"
     ]
    }
   ],
   "source": [
    "us_price = {\"milk\": 2.03, \"bread\": 2.6, \"butter\": 3.6}\n",
    "#convert us dollar in rupees\n",
    "nep_price = {}\n",
    "for k, v in us_price.items():\n",
    "    nep_price.update({k: v * 132})\n",
    "print(nep_price)"
   ]
  },
  {
   "cell_type": "code",
   "execution_count": 53,
   "id": "f340049a-f761-473e-b7f7-d3fcbec56f11",
   "metadata": {},
   "outputs": [
    {
     "name": "stdout",
     "output_type": "stream",
     "text": [
      "{'milk': 302.79479999999995, 'bread': 387.816, 'butter': 536.9759999999999}\n"
     ]
    }
   ],
   "source": [
    "us_price = {\"milk\": 2.03, \"bread\": 2.6, \"butter\": 3.6}\n",
    "#convert us dollar in rupees\n",
    "nep_price = {}\n",
    "for k, v in us_price.items():\n",
    "    nep_price.update({k: v * 132 *1.13})\n",
    "print(nep_price)"
   ]
  },
  {
   "cell_type": "code",
   "execution_count": 58,
   "id": "f10136a8-136b-42b0-bd3c-cdc2d6592f69",
   "metadata": {},
   "outputs": [
    {
     "name": "stdout",
     "output_type": "stream",
     "text": [
      "{'milk': 302.79479999999995, 'bread': 387.816, 'iphone': 158241.6, 'butter': 536.9759999999999, 'meat': 745.8, 'mobile': 792000.0, 'laptop': 158400.0, 'television': 53856.0}\n"
     ]
    }
   ],
   "source": [
    "us_price = {\n",
    "    'milk': 2.03,\n",
    "    'bread': 2.6,\n",
    "    'iphone': 999,\n",
    "    'butter': 3.6,\n",
    "    'meat': 5,\n",
    "    'mobile': 5000,\n",
    "    'laptop': 1000,\n",
    "    'television': 340\n",
    "}\n",
    "#<5 = 13%  > =20%\n",
    "nep_price = {}\n",
    "for k, v in us_price.items():\n",
    "    if v<=5:\n",
    "        nep_price.update({k: v * 132 *1.13 })\n",
    "    else:\n",
    "        nep_price.update({k: v * 132 *1.20})\n",
    "print(nep_price)"
   ]
  },
  {
   "cell_type": "code",
   "execution_count": 1,
   "id": "135e3c09-25ce-4294-801d-084cdd35358e",
   "metadata": {},
   "outputs": [],
   "source": [
    "k, v = 'milk', 13"
   ]
  },
  {
   "cell_type": "code",
   "execution_count": null,
   "id": "a29fceb0-6805-4a20-8373-ebca44019c27",
   "metadata": {},
   "outputs": [],
   "source": [
    "age = int(input(\"Enter the age\"))\n",
    "i = 0\n",
    "for i in age:\n",
    "    if i<18:\n",
    "        print(f\"Your age is: {i}\")\n",
    "    else:\n",
    "        print(\"Welcome\")"
   ]
  },
  {
   "cell_type": "code",
   "execution_count": null,
   "id": "eaaa4f89-3cc7-475f-beb5-07d904b59648",
   "metadata": {},
   "outputs": [],
   "source": []
  }
 ],
 "metadata": {
  "kernelspec": {
   "display_name": "Python 3 (ipykernel)",
   "language": "python",
   "name": "python3"
  },
  "language_info": {
   "codemirror_mode": {
    "name": "ipython",
    "version": 3
   },
   "file_extension": ".py",
   "mimetype": "text/x-python",
   "name": "python",
   "nbconvert_exporter": "python",
   "pygments_lexer": "ipython3",
   "version": "3.12.4"
  }
 },
 "nbformat": 4,
 "nbformat_minor": 5
}
